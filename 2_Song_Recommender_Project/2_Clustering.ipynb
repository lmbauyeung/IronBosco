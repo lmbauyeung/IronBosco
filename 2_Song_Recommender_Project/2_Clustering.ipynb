{
 "cells": [
  {
   "cell_type": "code",
   "execution_count": 1,
   "id": "0f35d626",
   "metadata": {},
   "outputs": [],
   "source": [
    "import numpy as np\n",
    "import pandas as pd\n",
    "import pickle\n",
    "from sklearn import datasets\n",
    "from sklearn.preprocessing import StandardScaler\n",
    "from sklearn.cluster import KMeans\n",
    "from matplotlib import pyplot\n",
    "from sklearn.metrics import silhouette_score\n",
    "import matplotlib.pyplot as plt\n",
    "%matplotlib inline"
   ]
  },
  {
   "cell_type": "code",
   "execution_count": 5,
   "id": "d989a59b",
   "metadata": {},
   "outputs": [],
   "source": [
    "# loading full dataframe\n",
    "final_df = pd.read_csv('final_df.csv')"
   ]
  },
  {
   "cell_type": "code",
   "execution_count": 7,
   "id": "5de727b1",
   "metadata": {},
   "outputs": [
    {
     "data": {
      "text/html": [
       "<div>\n",
       "<style scoped>\n",
       "    .dataframe tbody tr th:only-of-type {\n",
       "        vertical-align: middle;\n",
       "    }\n",
       "\n",
       "    .dataframe tbody tr th {\n",
       "        vertical-align: top;\n",
       "    }\n",
       "\n",
       "    .dataframe thead th {\n",
       "        text-align: right;\n",
       "    }\n",
       "</style>\n",
       "<table border=\"1\" class=\"dataframe\">\n",
       "  <thead>\n",
       "    <tr style=\"text-align: right;\">\n",
       "      <th></th>\n",
       "      <th>title</th>\n",
       "      <th>artist</th>\n",
       "      <th>genre</th>\n",
       "      <th>danceability</th>\n",
       "      <th>energy</th>\n",
       "      <th>key</th>\n",
       "      <th>loudness</th>\n",
       "      <th>mode</th>\n",
       "      <th>speechiness</th>\n",
       "      <th>acousticness</th>\n",
       "      <th>instrumentalness</th>\n",
       "      <th>liveness</th>\n",
       "      <th>valence</th>\n",
       "      <th>tempo</th>\n",
       "    </tr>\n",
       "  </thead>\n",
       "  <tbody>\n",
       "    <tr>\n",
       "      <th>0</th>\n",
       "      <td>Crazy - Single Version</td>\n",
       "      <td>Patsy Cline, The Jordanaires</td>\n",
       "      <td>country</td>\n",
       "      <td>0.471</td>\n",
       "      <td>0.021</td>\n",
       "      <td>10</td>\n",
       "      <td>-24.385</td>\n",
       "      <td>1</td>\n",
       "      <td>0.0366</td>\n",
       "      <td>0.931000</td>\n",
       "      <td>0.000001</td>\n",
       "      <td>0.1030</td>\n",
       "      <td>0.356</td>\n",
       "      <td>107.796</td>\n",
       "    </tr>\n",
       "    <tr>\n",
       "      <th>1</th>\n",
       "      <td>Folsom Prison Blues</td>\n",
       "      <td>Johnny Cash, The Tennessee Two</td>\n",
       "      <td>country</td>\n",
       "      <td>0.754</td>\n",
       "      <td>0.540</td>\n",
       "      <td>5</td>\n",
       "      <td>-8.326</td>\n",
       "      <td>1</td>\n",
       "      <td>0.0266</td>\n",
       "      <td>0.687000</td>\n",
       "      <td>0.000075</td>\n",
       "      <td>0.0868</td>\n",
       "      <td>0.790</td>\n",
       "      <td>101.738</td>\n",
       "    </tr>\n",
       "    <tr>\n",
       "      <th>2</th>\n",
       "      <td>I Will Always Love You</td>\n",
       "      <td>Dolly Parton</td>\n",
       "      <td>country</td>\n",
       "      <td>0.446</td>\n",
       "      <td>0.142</td>\n",
       "      <td>9</td>\n",
       "      <td>-13.498</td>\n",
       "      <td>1</td>\n",
       "      <td>0.0335</td>\n",
       "      <td>0.960000</td>\n",
       "      <td>0.001140</td>\n",
       "      <td>0.1010</td>\n",
       "      <td>0.156</td>\n",
       "      <td>135.724</td>\n",
       "    </tr>\n",
       "    <tr>\n",
       "      <th>3</th>\n",
       "      <td>Springsteen</td>\n",
       "      <td>Eric Church</td>\n",
       "      <td>country</td>\n",
       "      <td>0.692</td>\n",
       "      <td>0.809</td>\n",
       "      <td>2</td>\n",
       "      <td>-5.935</td>\n",
       "      <td>1</td>\n",
       "      <td>0.0255</td>\n",
       "      <td>0.100000</td>\n",
       "      <td>0.000098</td>\n",
       "      <td>0.1850</td>\n",
       "      <td>0.927</td>\n",
       "      <td>104.023</td>\n",
       "    </tr>\n",
       "    <tr>\n",
       "      <th>4</th>\n",
       "      <td>He Stopped Loving Her Today</td>\n",
       "      <td>George Jones</td>\n",
       "      <td>country</td>\n",
       "      <td>0.430</td>\n",
       "      <td>0.173</td>\n",
       "      <td>8</td>\n",
       "      <td>-18.597</td>\n",
       "      <td>1</td>\n",
       "      <td>0.0321</td>\n",
       "      <td>0.594000</td>\n",
       "      <td>0.000111</td>\n",
       "      <td>0.2240</td>\n",
       "      <td>0.365</td>\n",
       "      <td>72.103</td>\n",
       "    </tr>\n",
       "    <tr>\n",
       "      <th>...</th>\n",
       "      <td>...</td>\n",
       "      <td>...</td>\n",
       "      <td>...</td>\n",
       "      <td>...</td>\n",
       "      <td>...</td>\n",
       "      <td>...</td>\n",
       "      <td>...</td>\n",
       "      <td>...</td>\n",
       "      <td>...</td>\n",
       "      <td>...</td>\n",
       "      <td>...</td>\n",
       "      <td>...</td>\n",
       "      <td>...</td>\n",
       "      <td>...</td>\n",
       "    </tr>\n",
       "    <tr>\n",
       "      <th>7910</th>\n",
       "      <td>Alpha Centauri</td>\n",
       "      <td>Fergie</td>\n",
       "      <td>techno</td>\n",
       "      <td>0.569</td>\n",
       "      <td>0.983</td>\n",
       "      <td>1</td>\n",
       "      <td>-4.547</td>\n",
       "      <td>1</td>\n",
       "      <td>0.0816</td>\n",
       "      <td>0.000204</td>\n",
       "      <td>0.907000</td>\n",
       "      <td>0.0547</td>\n",
       "      <td>0.356</td>\n",
       "      <td>129.976</td>\n",
       "    </tr>\n",
       "    <tr>\n",
       "      <th>7911</th>\n",
       "      <td>The Future</td>\n",
       "      <td>CamelPhat, Rebūke</td>\n",
       "      <td>techno</td>\n",
       "      <td>0.599</td>\n",
       "      <td>0.910</td>\n",
       "      <td>6</td>\n",
       "      <td>-7.403</td>\n",
       "      <td>0</td>\n",
       "      <td>0.1070</td>\n",
       "      <td>0.000116</td>\n",
       "      <td>0.876000</td>\n",
       "      <td>0.1500</td>\n",
       "      <td>0.110</td>\n",
       "      <td>128.020</td>\n",
       "    </tr>\n",
       "    <tr>\n",
       "      <th>7912</th>\n",
       "      <td>Vibrant</td>\n",
       "      <td>LEVT</td>\n",
       "      <td>techno</td>\n",
       "      <td>0.612</td>\n",
       "      <td>0.905</td>\n",
       "      <td>1</td>\n",
       "      <td>-7.154</td>\n",
       "      <td>0</td>\n",
       "      <td>0.0615</td>\n",
       "      <td>0.000170</td>\n",
       "      <td>0.887000</td>\n",
       "      <td>0.0632</td>\n",
       "      <td>0.398</td>\n",
       "      <td>132.000</td>\n",
       "    </tr>\n",
       "    <tr>\n",
       "      <th>7913</th>\n",
       "      <td>Zero Gravity</td>\n",
       "      <td>Ramon Tapia</td>\n",
       "      <td>techno</td>\n",
       "      <td>0.637</td>\n",
       "      <td>0.931</td>\n",
       "      <td>2</td>\n",
       "      <td>-3.093</td>\n",
       "      <td>1</td>\n",
       "      <td>0.0449</td>\n",
       "      <td>0.000198</td>\n",
       "      <td>0.877000</td>\n",
       "      <td>0.3580</td>\n",
       "      <td>0.530</td>\n",
       "      <td>133.993</td>\n",
       "    </tr>\n",
       "    <tr>\n",
       "      <th>7914</th>\n",
       "      <td>Mother Earth - Original Mix</td>\n",
       "      <td>Fatima Hajji</td>\n",
       "      <td>techno</td>\n",
       "      <td>0.575</td>\n",
       "      <td>0.998</td>\n",
       "      <td>10</td>\n",
       "      <td>-5.957</td>\n",
       "      <td>0</td>\n",
       "      <td>0.0792</td>\n",
       "      <td>0.000063</td>\n",
       "      <td>0.685000</td>\n",
       "      <td>0.2700</td>\n",
       "      <td>0.671</td>\n",
       "      <td>134.993</td>\n",
       "    </tr>\n",
       "  </tbody>\n",
       "</table>\n",
       "<p>7915 rows × 14 columns</p>\n",
       "</div>"
      ],
      "text/plain": [
       "                            title                          artist    genre  \\\n",
       "0          Crazy - Single Version    Patsy Cline, The Jordanaires  country   \n",
       "1             Folsom Prison Blues  Johnny Cash, The Tennessee Two  country   \n",
       "2          I Will Always Love You                    Dolly Parton  country   \n",
       "3                     Springsteen                     Eric Church  country   \n",
       "4     He Stopped Loving Her Today                    George Jones  country   \n",
       "...                           ...                             ...      ...   \n",
       "7910               Alpha Centauri                          Fergie   techno   \n",
       "7911                   The Future               CamelPhat, Rebūke   techno   \n",
       "7912                      Vibrant                            LEVT   techno   \n",
       "7913                 Zero Gravity                     Ramon Tapia   techno   \n",
       "7914  Mother Earth - Original Mix                    Fatima Hajji   techno   \n",
       "\n",
       "      danceability  energy  key  loudness  mode  speechiness  acousticness  \\\n",
       "0            0.471   0.021   10   -24.385     1       0.0366      0.931000   \n",
       "1            0.754   0.540    5    -8.326     1       0.0266      0.687000   \n",
       "2            0.446   0.142    9   -13.498     1       0.0335      0.960000   \n",
       "3            0.692   0.809    2    -5.935     1       0.0255      0.100000   \n",
       "4            0.430   0.173    8   -18.597     1       0.0321      0.594000   \n",
       "...            ...     ...  ...       ...   ...          ...           ...   \n",
       "7910         0.569   0.983    1    -4.547     1       0.0816      0.000204   \n",
       "7911         0.599   0.910    6    -7.403     0       0.1070      0.000116   \n",
       "7912         0.612   0.905    1    -7.154     0       0.0615      0.000170   \n",
       "7913         0.637   0.931    2    -3.093     1       0.0449      0.000198   \n",
       "7914         0.575   0.998   10    -5.957     0       0.0792      0.000063   \n",
       "\n",
       "      instrumentalness  liveness  valence    tempo  \n",
       "0             0.000001    0.1030    0.356  107.796  \n",
       "1             0.000075    0.0868    0.790  101.738  \n",
       "2             0.001140    0.1010    0.156  135.724  \n",
       "3             0.000098    0.1850    0.927  104.023  \n",
       "4             0.000111    0.2240    0.365   72.103  \n",
       "...                ...       ...      ...      ...  \n",
       "7910          0.907000    0.0547    0.356  129.976  \n",
       "7911          0.876000    0.1500    0.110  128.020  \n",
       "7912          0.887000    0.0632    0.398  132.000  \n",
       "7913          0.877000    0.3580    0.530  133.993  \n",
       "7914          0.685000    0.2700    0.671  134.993  \n",
       "\n",
       "[7915 rows x 14 columns]"
      ]
     },
     "execution_count": 7,
     "metadata": {},
     "output_type": "execute_result"
    }
   ],
   "source": [
    "# dropping the track_id\n",
    "final_df.drop(['track_id'], axis=1, inplace=True)\n",
    "final_df"
   ]
  },
  {
   "cell_type": "code",
   "execution_count": 18,
   "id": "b086db58",
   "metadata": {},
   "outputs": [],
   "source": [
    "genre_count = final_df['genre'].value_counts()"
   ]
  },
  {
   "cell_type": "markdown",
   "id": "a3b2007f",
   "metadata": {},
   "source": [
    "### Handling Data Imbalance"
   ]
  },
  {
   "cell_type": "code",
   "execution_count": 9,
   "id": "f6b691da",
   "metadata": {},
   "outputs": [],
   "source": [
    "# setting a minimum number of sample for each genre\n",
    "min_genre_count = 800"
   ]
  },
  {
   "cell_type": "code",
   "execution_count": 62,
   "id": "91e8882b",
   "metadata": {},
   "outputs": [
    {
     "data": {
      "text/plain": [
       "Index(['house', 'pop', 'rock'], dtype='object')"
      ]
     },
     "execution_count": 62,
     "metadata": {},
     "output_type": "execute_result"
    }
   ],
   "source": [
    "# genres with samples more than min_genre_count\n",
    "genre_count[genre_count > min_genre_count].index"
   ]
  },
  {
   "cell_type": "code",
   "execution_count": 63,
   "id": "2164a3b7",
   "metadata": {},
   "outputs": [],
   "source": [
    "# retaining data for genres with samples more than min_genre_count\n",
    "genre_house = final_df[final_df['genre'] == 'house']\n",
    "genre_pop = final_df[final_df['genre'] == 'pop']\n",
    "genre_rock = final_df[final_df['genre'] == 'rock']"
   ]
  },
  {
   "cell_type": "code",
   "execution_count": 64,
   "id": "206b2d5f",
   "metadata": {},
   "outputs": [
    {
     "data": {
      "text/plain": [
       "Index(['country', 'metal', 'hiphop', 'techno', 'dance', 'jazz', 'kpop',\n",
       "       'classical', 'rnb'],\n",
       "      dtype='object')"
      ]
     },
     "execution_count": 64,
     "metadata": {},
     "output_type": "execute_result"
    }
   ],
   "source": [
    "# genres with samples less than min_genre_count\n",
    "genre_count[genre_count < min_genre_count].index"
   ]
  },
  {
   "cell_type": "code",
   "execution_count": 65,
   "id": "8a0f2261",
   "metadata": {},
   "outputs": [],
   "source": [
    "# upsampling data for genres with samples less than min_genre_count\n",
    "genre_country = final_df[final_df['genre']=='country'].sample(min_genre_count, replace=True)\n",
    "genre_metal = final_df[final_df['genre']=='metal'].sample(min_genre_count, replace=True)\n",
    "genre_hiphop = final_df[final_df['genre']=='hiphop'].sample(min_genre_count, replace=True)\n",
    "genre_techno = final_df[final_df['genre']=='techno'].sample(min_genre_count, replace=True)\n",
    "genre_dance = final_df[final_df['genre']=='dance'].sample(min_genre_count, replace=True)\n",
    "genre_jazz = final_df[final_df['genre']=='jazz'].sample(min_genre_count, replace=True)\n",
    "genre_kpop = final_df[final_df['genre']=='kpop'].sample(min_genre_count, replace=True)\n",
    "genre_classical = final_df[final_df['genre']=='classical'].sample(min_genre_count, replace=True)\n",
    "genre_rnb = final_df[final_df['genre']=='rnb'].sample(min_genre_count, replace=True)"
   ]
  },
  {
   "cell_type": "code",
   "execution_count": 84,
   "id": "819ca691",
   "metadata": {},
   "outputs": [],
   "source": [
    "# concatetnating all genre dataframes after upsampling\n",
    "upsample_df = pd.concat([genre_house, genre_pop, genre_rock, genre_country, genre_metal, genre_hiphop, genre_techno, genre_dance, genre_jazz,  genre_kpop, genre_classical, genre_rnb], axis=0)"
   ]
  },
  {
   "cell_type": "code",
   "execution_count": 86,
   "id": "ac2a258b",
   "metadata": {},
   "outputs": [
    {
     "data": {
      "text/plain": [
       "10536"
      ]
     },
     "execution_count": 86,
     "metadata": {},
     "output_type": "execute_result"
    }
   ],
   "source": [
    "# computing supposed total numbers of tracks after upsampling\n",
    "genre_count[genre_count > min_genre_count].values.sum()+len(genre_count[genre_count < min_genre_count].index)*min_genre_count"
   ]
  },
  {
   "cell_type": "code",
   "execution_count": 87,
   "id": "ca793264",
   "metadata": {},
   "outputs": [
    {
     "data": {
      "text/plain": [
       "10536"
      ]
     },
     "execution_count": 87,
     "metadata": {},
     "output_type": "execute_result"
    }
   ],
   "source": [
    "# checking total numbers of tracks in new dataframe\n",
    "len(upsample_df)"
   ]
  },
  {
   "cell_type": "code",
   "execution_count": null,
   "id": "809829ac",
   "metadata": {},
   "outputs": [],
   "source": []
  }
 ],
 "metadata": {
  "kernelspec": {
   "display_name": "Python 3 (ipykernel)",
   "language": "python",
   "name": "python3"
  },
  "language_info": {
   "codemirror_mode": {
    "name": "ipython",
    "version": 3
   },
   "file_extension": ".py",
   "mimetype": "text/x-python",
   "name": "python",
   "nbconvert_exporter": "python",
   "pygments_lexer": "ipython3",
   "version": "3.9.7"
  }
 },
 "nbformat": 4,
 "nbformat_minor": 5
}
