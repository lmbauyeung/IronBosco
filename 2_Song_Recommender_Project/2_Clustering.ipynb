{
 "cells": [
  {
   "cell_type": "code",
   "execution_count": 1,
   "id": "46a7742a",
   "metadata": {},
   "outputs": [],
   "source": [
    "import numpy as np\n",
    "import pandas as pd\n",
    "import pickle\n",
    "from sklearn import datasets\n",
    "from sklearn.preprocessing import StandardScaler\n",
    "from sklearn.cluster import KMeans\n",
    "from matplotlib import pyplot\n",
    "from sklearn.metrics import silhouette_score\n",
    "import matplotlib.pyplot as plt\n",
    "%matplotlib inline"
   ]
  },
  {
   "cell_type": "markdown",
   "id": "a8f9d506",
   "metadata": {},
   "source": [
    "### Data Preparation"
   ]
  },
  {
   "cell_type": "code",
   "execution_count": 2,
   "id": "b7172ebf",
   "metadata": {},
   "outputs": [],
   "source": [
    "# loading full dataframe\n",
    "final_df = pd.read_csv('final_df.csv')"
   ]
  },
  {
   "cell_type": "code",
   "execution_count": 3,
   "id": "d91b20c0",
   "metadata": {},
   "outputs": [
    {
     "data": {
      "text/plain": [
       "title               1\n",
       "artist              1\n",
       "track_id            0\n",
       "genre               0\n",
       "danceability        0\n",
       "energy              0\n",
       "key                 0\n",
       "loudness            0\n",
       "mode                0\n",
       "speechiness         0\n",
       "acousticness        0\n",
       "instrumentalness    0\n",
       "liveness            0\n",
       "valence             0\n",
       "tempo               0\n",
       "dtype: int64"
      ]
     },
     "execution_count": 3,
     "metadata": {},
     "output_type": "execute_result"
    }
   ],
   "source": [
    "# checking for null values\n",
    "final_df.isna().sum()"
   ]
  },
  {
   "cell_type": "code",
   "execution_count": 4,
   "id": "3e708a63",
   "metadata": {},
   "outputs": [],
   "source": [
    "# dropping null values\n",
    "final_df.dropna(inplace=True)"
   ]
  },
  {
   "cell_type": "code",
   "execution_count": 5,
   "id": "de1bdf7a",
   "metadata": {},
   "outputs": [],
   "source": [
    "# resetting index\n",
    "final_df.reset_index(drop=True, inplace=True)"
   ]
  },
  {
   "cell_type": "markdown",
   "id": "87f02771",
   "metadata": {},
   "source": [
    "### Handling Data Imbalance Through Upsampling"
   ]
  },
  {
   "cell_type": "code",
   "execution_count": 6,
   "id": "a05f2bae",
   "metadata": {},
   "outputs": [
    {
     "data": {
      "text/plain": [
       "house        1285\n",
       "pop          1057\n",
       "rock          995\n",
       "country       747\n",
       "metal         685\n",
       "hiphop        680\n",
       "techno        547\n",
       "dance         522\n",
       "jazz          487\n",
       "kpop          397\n",
       "classical     276\n",
       "rnb           238\n",
       "Name: genre, dtype: int64"
      ]
     },
     "execution_count": 6,
     "metadata": {},
     "output_type": "execute_result"
    }
   ],
   "source": [
    "genre_count = final_df['genre'].value_counts()\n",
    "genre_count"
   ]
  },
  {
   "cell_type": "code",
   "execution_count": 7,
   "id": "447555f7",
   "metadata": {},
   "outputs": [],
   "source": [
    "# setting a minimum number of sample for main genres - house, pop, rock, country, hiphop, techno, dance, rnb\n",
    "min_main_genre_count = 800"
   ]
  },
  {
   "cell_type": "code",
   "execution_count": 8,
   "id": "d7d0b34a",
   "metadata": {},
   "outputs": [],
   "source": [
    "# setting a minimum number of sample for minor genres - metal, jazz, kpop, classical\n",
    "min_minor_genre_count = 300"
   ]
  },
  {
   "cell_type": "code",
   "execution_count": 9,
   "id": "89838ca2",
   "metadata": {},
   "outputs": [
    {
     "data": {
      "text/plain": [
       "Index(['house', 'pop', 'rock'], dtype='object')"
      ]
     },
     "execution_count": 9,
     "metadata": {},
     "output_type": "execute_result"
    }
   ],
   "source": [
    "# genres with samples more than min_main_genre_count\n",
    "genre_count[genre_count > min_main_genre_count].index"
   ]
  },
  {
   "cell_type": "code",
   "execution_count": 10,
   "id": "0e41e326",
   "metadata": {},
   "outputs": [],
   "source": [
    "# retaining data for genres with samples more than min_main_genre_count\n",
    "genre_house = final_df[final_df['genre'] == 'house']\n",
    "genre_pop = final_df[final_df['genre'] == 'pop']\n",
    "genre_rock = final_df[final_df['genre'] == 'rock']"
   ]
  },
  {
   "cell_type": "code",
   "execution_count": 11,
   "id": "75f4a8a3",
   "metadata": {},
   "outputs": [
    {
     "data": {
      "text/plain": [
       "Index(['country', 'metal', 'hiphop', 'techno', 'dance', 'jazz', 'kpop',\n",
       "       'classical', 'rnb'],\n",
       "      dtype='object')"
      ]
     },
     "execution_count": 11,
     "metadata": {},
     "output_type": "execute_result"
    }
   ],
   "source": [
    "# genres with samples less than min_main_genre_count\n",
    "genre_count[genre_count < min_main_genre_count].index"
   ]
  },
  {
   "cell_type": "code",
   "execution_count": 12,
   "id": "3bac77e3",
   "metadata": {},
   "outputs": [],
   "source": [
    "# upsampling data for main genres with samples less than min_main_genre_count (excluding metal, jazz, kpop and cl)\n",
    "genre_country = final_df[final_df['genre']=='country'].sample(min_main_genre_count, replace=True)\n",
    "genre_hiphop = final_df[final_df['genre']=='hiphop'].sample(min_main_genre_count, replace=True)\n",
    "genre_techno = final_df[final_df['genre']=='techno'].sample(min_main_genre_count, replace=True)\n",
    "genre_dance = final_df[final_df['genre']=='dance'].sample(min_main_genre_count, replace=True)\n",
    "genre_rnb = final_df[final_df['genre']=='rnb'].sample(min_main_genre_count, replace=True)"
   ]
  },
  {
   "cell_type": "code",
   "execution_count": 13,
   "id": "3a3b1212",
   "metadata": {},
   "outputs": [
    {
     "data": {
      "text/plain": [
       "Index(['classical', 'rnb'], dtype='object')"
      ]
     },
     "execution_count": 13,
     "metadata": {},
     "output_type": "execute_result"
    }
   ],
   "source": [
    "# genres with samples less than min_minor_genre_count\n",
    "genre_count[genre_count < min_minor_genre_count].index"
   ]
  },
  {
   "cell_type": "code",
   "execution_count": 14,
   "id": "4edb4407",
   "metadata": {},
   "outputs": [],
   "source": [
    "# upsampling data for minor genres with samples less than min_minor_genre_count\n",
    "genre_jazz = final_df[final_df['genre']=='jazz'].sample(min_minor_genre_count, replace=True)\n",
    "genre_classical = final_df[final_df['genre']=='classical'].sample(min_minor_genre_count, replace=True)"
   ]
  },
  {
   "cell_type": "code",
   "execution_count": 15,
   "id": "e71fd975",
   "metadata": {},
   "outputs": [],
   "source": [
    "# downsampling data for minor genres with samples more than min_minor_genre_count\n",
    "genre_metal = final_df[final_df['genre']=='metal'].sample(min_minor_genre_count, replace=True)\n",
    "genre_kpop = final_df[final_df['genre']=='kpop'].sample(min_minor_genre_count, replace=True)"
   ]
  },
  {
   "cell_type": "code",
   "execution_count": 16,
   "id": "d2ada791",
   "metadata": {},
   "outputs": [],
   "source": [
    "# concatetnating all genre dataframes after upsampling\n",
    "upsampled_df = pd.concat([genre_house, genre_pop, genre_rock, genre_country, genre_metal, genre_hiphop, genre_techno, genre_dance, genre_jazz,  genre_kpop, genre_classical, genre_rnb], axis=0)"
   ]
  },
  {
   "cell_type": "code",
   "execution_count": 17,
   "id": "f8dc0a81",
   "metadata": {},
   "outputs": [
    {
     "data": {
      "text/plain": [
       "9337"
      ]
     },
     "execution_count": 17,
     "metadata": {},
     "output_type": "execute_result"
    }
   ],
   "source": [
    "# calculating supposed total numbers of tracks after upsampling\n",
    "genre_count[genre_count > min_main_genre_count].values.sum()+len(genre_count[genre_count < min_main_genre_count].index)*min_main_genre_count-4*min_minor_genre_count"
   ]
  },
  {
   "cell_type": "code",
   "execution_count": 18,
   "id": "04718593",
   "metadata": {},
   "outputs": [
    {
     "data": {
      "text/plain": [
       "8537"
      ]
     },
     "execution_count": 18,
     "metadata": {},
     "output_type": "execute_result"
    }
   ],
   "source": [
    "# checking total numbers of tracks in new dataframe\n",
    "len(upsampled_df)"
   ]
  },
  {
   "cell_type": "code",
   "execution_count": 19,
   "id": "e53912a7",
   "metadata": {},
   "outputs": [],
   "source": [
    "# resetting index\n",
    "upsampled_df.reset_index(drop=True, inplace=True)"
   ]
  },
  {
   "cell_type": "markdown",
   "id": "db855369",
   "metadata": {},
   "source": [
    "### Clustering\n",
    "#### Scaling Data"
   ]
  },
  {
   "cell_type": "code",
   "execution_count": 20,
   "id": "cbd55f41",
   "metadata": {},
   "outputs": [],
   "source": [
    "# creating a dataframe for only audio features\n",
    "X = upsampled_df.drop(columns=['title','artist', 'genre', 'track_id'])"
   ]
  },
  {
   "cell_type": "code",
   "execution_count": 21,
   "id": "65b020f7",
   "metadata": {},
   "outputs": [
    {
     "data": {
      "text/html": [
       "<div>\n",
       "<style scoped>\n",
       "    .dataframe tbody tr th:only-of-type {\n",
       "        vertical-align: middle;\n",
       "    }\n",
       "\n",
       "    .dataframe tbody tr th {\n",
       "        vertical-align: top;\n",
       "    }\n",
       "\n",
       "    .dataframe thead th {\n",
       "        text-align: right;\n",
       "    }\n",
       "</style>\n",
       "<table border=\"1\" class=\"dataframe\">\n",
       "  <thead>\n",
       "    <tr style=\"text-align: right;\">\n",
       "      <th></th>\n",
       "      <th>danceability</th>\n",
       "      <th>energy</th>\n",
       "      <th>key</th>\n",
       "      <th>loudness</th>\n",
       "      <th>mode</th>\n",
       "      <th>speechiness</th>\n",
       "      <th>acousticness</th>\n",
       "      <th>instrumentalness</th>\n",
       "      <th>liveness</th>\n",
       "      <th>valence</th>\n",
       "      <th>tempo</th>\n",
       "    </tr>\n",
       "  </thead>\n",
       "  <tbody>\n",
       "    <tr>\n",
       "      <th>0</th>\n",
       "      <td>0.721</td>\n",
       "      <td>0.923</td>\n",
       "      <td>11</td>\n",
       "      <td>-4.497</td>\n",
       "      <td>0</td>\n",
       "      <td>0.0370</td>\n",
       "      <td>0.00299</td>\n",
       "      <td>0.03120</td>\n",
       "      <td>0.0989</td>\n",
       "      <td>0.575</td>\n",
       "      <td>128.748</td>\n",
       "    </tr>\n",
       "    <tr>\n",
       "      <th>1</th>\n",
       "      <td>0.805</td>\n",
       "      <td>0.660</td>\n",
       "      <td>5</td>\n",
       "      <td>-11.972</td>\n",
       "      <td>0</td>\n",
       "      <td>0.0897</td>\n",
       "      <td>0.01790</td>\n",
       "      <td>0.29500</td>\n",
       "      <td>0.3340</td>\n",
       "      <td>0.147</td>\n",
       "      <td>133.002</td>\n",
       "    </tr>\n",
       "    <tr>\n",
       "      <th>2</th>\n",
       "      <td>0.722</td>\n",
       "      <td>0.990</td>\n",
       "      <td>7</td>\n",
       "      <td>-5.103</td>\n",
       "      <td>1</td>\n",
       "      <td>0.0667</td>\n",
       "      <td>0.02090</td>\n",
       "      <td>0.00186</td>\n",
       "      <td>0.2620</td>\n",
       "      <td>0.398</td>\n",
       "      <td>122.991</td>\n",
       "    </tr>\n",
       "    <tr>\n",
       "      <th>3</th>\n",
       "      <td>0.691</td>\n",
       "      <td>0.830</td>\n",
       "      <td>0</td>\n",
       "      <td>-9.189</td>\n",
       "      <td>1</td>\n",
       "      <td>0.0450</td>\n",
       "      <td>0.06010</td>\n",
       "      <td>0.75800</td>\n",
       "      <td>0.4050</td>\n",
       "      <td>0.830</td>\n",
       "      <td>128.912</td>\n",
       "    </tr>\n",
       "    <tr>\n",
       "      <th>4</th>\n",
       "      <td>0.761</td>\n",
       "      <td>0.808</td>\n",
       "      <td>11</td>\n",
       "      <td>-5.629</td>\n",
       "      <td>0</td>\n",
       "      <td>0.0518</td>\n",
       "      <td>0.00258</td>\n",
       "      <td>0.00003</td>\n",
       "      <td>0.0869</td>\n",
       "      <td>0.157</td>\n",
       "      <td>119.931</td>\n",
       "    </tr>\n",
       "  </tbody>\n",
       "</table>\n",
       "</div>"
      ],
      "text/plain": [
       "   danceability  energy  key  loudness  mode  speechiness  acousticness  \\\n",
       "0         0.721   0.923   11    -4.497     0       0.0370       0.00299   \n",
       "1         0.805   0.660    5   -11.972     0       0.0897       0.01790   \n",
       "2         0.722   0.990    7    -5.103     1       0.0667       0.02090   \n",
       "3         0.691   0.830    0    -9.189     1       0.0450       0.06010   \n",
       "4         0.761   0.808   11    -5.629     0       0.0518       0.00258   \n",
       "\n",
       "   instrumentalness  liveness  valence    tempo  \n",
       "0           0.03120    0.0989    0.575  128.748  \n",
       "1           0.29500    0.3340    0.147  133.002  \n",
       "2           0.00186    0.2620    0.398  122.991  \n",
       "3           0.75800    0.4050    0.830  128.912  \n",
       "4           0.00003    0.0869    0.157  119.931  "
      ]
     },
     "metadata": {},
     "output_type": "display_data"
    },
    {
     "name": "stdout",
     "output_type": "stream",
     "text": [
      "\n"
     ]
    },
    {
     "data": {
      "text/html": [
       "<div>\n",
       "<style scoped>\n",
       "    .dataframe tbody tr th:only-of-type {\n",
       "        vertical-align: middle;\n",
       "    }\n",
       "\n",
       "    .dataframe tbody tr th {\n",
       "        vertical-align: top;\n",
       "    }\n",
       "\n",
       "    .dataframe thead th {\n",
       "        text-align: right;\n",
       "    }\n",
       "</style>\n",
       "<table border=\"1\" class=\"dataframe\">\n",
       "  <thead>\n",
       "    <tr style=\"text-align: right;\">\n",
       "      <th></th>\n",
       "      <th>danceability</th>\n",
       "      <th>energy</th>\n",
       "      <th>key</th>\n",
       "      <th>loudness</th>\n",
       "      <th>mode</th>\n",
       "      <th>speechiness</th>\n",
       "      <th>acousticness</th>\n",
       "      <th>instrumentalness</th>\n",
       "      <th>liveness</th>\n",
       "      <th>valence</th>\n",
       "      <th>tempo</th>\n",
       "    </tr>\n",
       "  </thead>\n",
       "  <tbody>\n",
       "    <tr>\n",
       "      <th>0</th>\n",
       "      <td>0.518102</td>\n",
       "      <td>0.972188</td>\n",
       "      <td>1.578355</td>\n",
       "      <td>0.709863</td>\n",
       "      <td>-1.171907</td>\n",
       "      <td>-0.604329</td>\n",
       "      <td>-0.641137</td>\n",
       "      <td>-0.478012</td>\n",
       "      <td>-0.549180</td>\n",
       "      <td>0.192326</td>\n",
       "      <td>0.279472</td>\n",
       "    </tr>\n",
       "    <tr>\n",
       "      <th>1</th>\n",
       "      <td>1.044512</td>\n",
       "      <td>-0.194485</td>\n",
       "      <td>-0.096595</td>\n",
       "      <td>-0.892029</td>\n",
       "      <td>-1.171907</td>\n",
       "      <td>0.034181</td>\n",
       "      <td>-0.583699</td>\n",
       "      <td>0.348700</td>\n",
       "      <td>0.985875</td>\n",
       "      <td>-1.549663</td>\n",
       "      <td>0.446829</td>\n",
       "    </tr>\n",
       "    <tr>\n",
       "      <th>2</th>\n",
       "      <td>0.524369</td>\n",
       "      <td>1.269401</td>\n",
       "      <td>0.461722</td>\n",
       "      <td>0.579997</td>\n",
       "      <td>0.853310</td>\n",
       "      <td>-0.244486</td>\n",
       "      <td>-0.572142</td>\n",
       "      <td>-0.569960</td>\n",
       "      <td>0.515760</td>\n",
       "      <td>-0.528076</td>\n",
       "      <td>0.052986</td>\n",
       "    </tr>\n",
       "    <tr>\n",
       "      <th>3</th>\n",
       "      <td>0.330098</td>\n",
       "      <td>0.559638</td>\n",
       "      <td>-1.492387</td>\n",
       "      <td>-0.295632</td>\n",
       "      <td>0.853310</td>\n",
       "      <td>-0.507402</td>\n",
       "      <td>-0.421132</td>\n",
       "      <td>1.799677</td>\n",
       "      <td>1.449460</td>\n",
       "      <td>1.230193</td>\n",
       "      <td>0.285924</td>\n",
       "    </tr>\n",
       "    <tr>\n",
       "      <th>4</th>\n",
       "      <td>0.768773</td>\n",
       "      <td>0.462046</td>\n",
       "      <td>1.578355</td>\n",
       "      <td>0.467276</td>\n",
       "      <td>-1.171907</td>\n",
       "      <td>-0.425014</td>\n",
       "      <td>-0.642716</td>\n",
       "      <td>-0.575696</td>\n",
       "      <td>-0.627532</td>\n",
       "      <td>-1.508962</td>\n",
       "      <td>-0.067398</td>\n",
       "    </tr>\n",
       "  </tbody>\n",
       "</table>\n",
       "</div>"
      ],
      "text/plain": [
       "   danceability    energy       key  loudness      mode  speechiness  \\\n",
       "0      0.518102  0.972188  1.578355  0.709863 -1.171907    -0.604329   \n",
       "1      1.044512 -0.194485 -0.096595 -0.892029 -1.171907     0.034181   \n",
       "2      0.524369  1.269401  0.461722  0.579997  0.853310    -0.244486   \n",
       "3      0.330098  0.559638 -1.492387 -0.295632  0.853310    -0.507402   \n",
       "4      0.768773  0.462046  1.578355  0.467276 -1.171907    -0.425014   \n",
       "\n",
       "   acousticness  instrumentalness  liveness   valence     tempo  \n",
       "0     -0.641137         -0.478012 -0.549180  0.192326  0.279472  \n",
       "1     -0.583699          0.348700  0.985875 -1.549663  0.446829  \n",
       "2     -0.572142         -0.569960  0.515760 -0.528076  0.052986  \n",
       "3     -0.421132          1.799677  1.449460  1.230193  0.285924  \n",
       "4     -0.642716         -0.575696 -0.627532 -1.508962 -0.067398  "
      ]
     },
     "metadata": {},
     "output_type": "display_data"
    }
   ],
   "source": [
    "# scaling the audio features dataframe\n",
    "scaler = StandardScaler()\n",
    "scaler.fit(X)\n",
    "X_scaled = scaler.transform(X)\n",
    "X_scaled_df = pd.DataFrame(X_scaled, columns = X.columns)\n",
    "display(X.head())\n",
    "print()\n",
    "display(X_scaled_df.head())"
   ]
  },
  {
   "cell_type": "markdown",
   "id": "38dfb9cf",
   "metadata": {},
   "source": [
    "#### Elbow Method"
   ]
  },
  {
   "cell_type": "code",
   "execution_count": 22,
   "id": "9f24a104",
   "metadata": {},
   "outputs": [
    {
     "name": "stdout",
     "output_type": "stream",
     "text": [
      "Training a K-Means model with 8 clusters! \n",
      "\n",
      "Training a K-Means model with 9 clusters! \n",
      "\n",
      "Training a K-Means model with 10 clusters! \n",
      "\n",
      "Training a K-Means model with 11 clusters! \n",
      "\n",
      "Training a K-Means model with 12 clusters! \n",
      "\n",
      "Training a K-Means model with 13 clusters! \n",
      "\n",
      "Training a K-Means model with 14 clusters! \n",
      "\n",
      "Training a K-Means model with 15 clusters! \n",
      "\n",
      "Training a K-Means model with 16 clusters! \n",
      "\n",
      "Training a K-Means model with 17 clusters! \n",
      "\n",
      "Training a K-Means model with 18 clusters! \n",
      "\n",
      "Training a K-Means model with 19 clusters! \n",
      "\n",
      "Training a K-Means model with 20 clusters! \n",
      "\n",
      "Training a K-Means model with 21 clusters! \n",
      "\n",
      "Training a K-Means model with 22 clusters! \n",
      "\n",
      "Training a K-Means model with 23 clusters! \n",
      "\n",
      "Training a K-Means model with 24 clusters! \n",
      "\n",
      "Training a K-Means model with 25 clusters! \n",
      "\n",
      "Training a K-Means model with 26 clusters! \n",
      "\n",
      "Training a K-Means model with 27 clusters! \n",
      "\n",
      "Training a K-Means model with 28 clusters! \n",
      "\n",
      "Training a K-Means model with 29 clusters! \n",
      "\n",
      "Training a K-Means model with 30 clusters! \n",
      "\n",
      "Training a K-Means model with 31 clusters! \n",
      "\n",
      "Training a K-Means model with 32 clusters! \n",
      "\n",
      "Training a K-Means model with 33 clusters! \n",
      "\n",
      "Training a K-Means model with 34 clusters! \n",
      "\n",
      "Training a K-Means model with 35 clusters! \n",
      "\n",
      "Training a K-Means model with 36 clusters! \n",
      "\n",
      "Training a K-Means model with 37 clusters! \n",
      "\n",
      "Training a K-Means model with 38 clusters! \n",
      "\n",
      "Training a K-Means model with 39 clusters! \n",
      "\n"
     ]
    },
    {
     "data": {
      "text/plain": [
       "Text(0.5, 1.0, 'Elbow Method showing the optimal k')"
      ]
     },
     "execution_count": 22,
     "metadata": {},
     "output_type": "execute_result"
    },
    {
     "data": {
      "image/png": "[encoded data removed]",
      "text/plain": [
       "<Figure size 1152x576 with 1 Axes>"
      ]
     },
     "metadata": {
      "needs_background": "light"
     },
     "output_type": "display_data"
    }
   ],
   "source": [
    "K = range(8, 40)\n",
    "inertia = []\n",
    "\n",
    "for k in K:\n",
    "    print(\"Training a K-Means model with {} clusters! \".format(k))\n",
    "    print()\n",
    "    kmeans = KMeans(n_clusters=k,\n",
    "                    random_state=345)\n",
    "    kmeans.fit(X_scaled_df)\n",
    "    inertia.append(kmeans.inertia_)\n",
    "    \n",
    "plt.figure(figsize=(16,8))\n",
    "plt.plot(K, inertia, 'bx-')\n",
    "plt.xlabel('k')\n",
    "plt.ylabel('inertia')\n",
    "plt.xticks(np.arange(min(K), max(K)+1, 1.0))\n",
    "plt.title('Elbow Method showing the optimal k')"
   ]
  },
  {
   "cell_type": "markdown",
   "id": "014642e7",
   "metadata": {},
   "source": [
    "#### Silhouette Method"
   ]
  },
  {
   "cell_type": "code",
   "execution_count": 23,
   "id": "768b95bd",
   "metadata": {
    "scrolled": true
   },
   "outputs": [
    {
     "data": {
      "text/plain": [
       "Text(0.5, 1.0, 'Silhouette Method showing the optimal k')"
      ]
     },
     "execution_count": 23,
     "metadata": {},
     "output_type": "execute_result"
    },
    {
     "data": {
      "image/png": "[encoded data removed]",
      "text/plain": [
       "<Figure size 1152x576 with 1 Axes>"
      ]
     },
     "metadata": {
      "needs_background": "light"
     },
     "output_type": "display_data"
    }
   ],
   "source": [
    "K = range(2, 40)\n",
    "silhouette = []\n",
    "\n",
    "for k in K:\n",
    "    kmeans = KMeans(n_clusters=k,\n",
    "                    n_init=50,\n",
    "                    random_state=345)\n",
    "    kmeans.fit(X_scaled_df)\n",
    "    \n",
    "    filename = \"Model/kmeans_\" + str(k) + \".pickle\"\n",
    "    with open(filename, \"wb\") as f:\n",
    "        pickle.dump(kmeans,f)\n",
    "    \n",
    "    silhouette.append(silhouette_score(X_scaled_df, kmeans.predict(X_scaled_df)))\n",
    "\n",
    "\n",
    "plt.figure(figsize=(16,8))\n",
    "plt.plot(K, silhouette, 'bx-')\n",
    "plt.xlabel('k')\n",
    "plt.ylabel('silhouette score')\n",
    "plt.xticks(np.arange(min(K), max(K)+1, 1.0))\n",
    "plt.title('Silhouette Method showing the optimal k')"
   ]
  },
  {
   "cell_type": "markdown",
   "id": "5b7d73ee",
   "metadata": {},
   "source": [
    "### Finalizing Database"
   ]
  },
  {
   "cell_type": "code",
   "execution_count": 24,
   "id": "dcf632d9",
   "metadata": {},
   "outputs": [
    {
     "data": {
      "text/plain": [
       "KMeans(n_clusters=21, random_state=345)"
      ]
     },
     "execution_count": 24,
     "metadata": {},
     "output_type": "execute_result"
    }
   ],
   "source": [
    "# setting up clusters, using 21 based on Silhouette\n",
    "kmeans = KMeans(n_clusters=21, random_state=345)\n",
    "kmeans.fit(X_scaled_df)"
   ]
  },
  {
   "cell_type": "code",
   "execution_count": 25,
   "id": "3e1b7cc7",
   "metadata": {},
   "outputs": [
    {
     "data": {
      "text/plain": [
       "36411.447402662234"
      ]
     },
     "execution_count": 25,
     "metadata": {},
     "output_type": "execute_result"
    }
   ],
   "source": [
    "kmeans.inertia_"
   ]
  },
  {
   "cell_type": "code",
   "execution_count": 26,
   "id": "ca89cae0",
   "metadata": {},
   "outputs": [
    {
     "data": {
      "text/plain": [
       "0     678\n",
       "1     407\n",
       "2     267\n",
       "3     512\n",
       "4     318\n",
       "5     338\n",
       "6     651\n",
       "7     273\n",
       "8     411\n",
       "9     340\n",
       "10    541\n",
       "11    378\n",
       "12    436\n",
       "13    503\n",
       "14    587\n",
       "15    237\n",
       "16    412\n",
       "17    388\n",
       "18    321\n",
       "19    353\n",
       "20    186\n",
       "dtype: int64"
      ]
     },
     "execution_count": 26,
     "metadata": {},
     "output_type": "execute_result"
    }
   ],
   "source": [
    "clusters = kmeans.predict(X_scaled_df)\n",
    "pd.Series(clusters).value_counts().sort_index()"
   ]
  },
  {
   "cell_type": "code",
   "execution_count": 27,
   "id": "93c7989f",
   "metadata": {},
   "outputs": [],
   "source": [
    "# integrating cluster into dataframe\n",
    "upsampled_df['cluster'] = clusters"
   ]
  },
  {
   "cell_type": "code",
   "execution_count": 28,
   "id": "c378c845",
   "metadata": {},
   "outputs": [],
   "source": [
    "# saving the upsampled dataframe to a csv\n",
    "from pathlib import Path  \n",
    "filepath = Path('upsampled_df.csv')  \n",
    "filepath.parent.mkdir(parents=True, exist_ok=True)\n",
    "upsampled_df.to_csv(filepath, index=False)"
   ]
  },
  {
   "cell_type": "code",
   "execution_count": 29,
   "id": "39067236",
   "metadata": {},
   "outputs": [],
   "source": [
    "# saving models\n",
    "with open(\"Model/scaler.pickle\", \"wb\") as f:\n",
    "    pickle.dump(scaler,f)\n",
    "with open(\"Model/kmeans.pickle\", \"wb\") as f:\n",
    "    pickle.dump(kmeans,f)"
   ]
  },
  {
   "cell_type": "code",
   "execution_count": 30,
   "id": "e0573073",
   "metadata": {},
   "outputs": [
    {
     "name": "stdout",
     "output_type": "stream",
     "text": [
      "Cluster 0: 678\n",
      "Index(['house', 'pop', 'dance'], dtype='object')\n",
      "\n",
      "\n",
      "Cluster 1: 407\n",
      "Index(['rock', 'house', 'metal'], dtype='object')\n",
      "\n",
      "\n",
      "Cluster 2: 267\n",
      "Index(['classical', 'jazz'], dtype='object')\n",
      "\n",
      "\n",
      "Cluster 3: 512\n",
      "Index(['rock', 'metal', 'country'], dtype='object')\n",
      "\n",
      "\n",
      "Cluster 4: 318\n",
      "Index(['hiphop', 'rnb', 'pop'], dtype='object')\n",
      "\n",
      "\n",
      "Cluster 5: 338\n",
      "Index(['techno', 'house', 'dance'], dtype='object')\n",
      "\n",
      "\n",
      "Cluster 6: 651\n",
      "Index(['house', 'pop', 'country'], dtype='object')\n",
      "\n",
      "\n",
      "Cluster 7: 273\n",
      "Index(['hiphop', 'rnb', 'pop'], dtype='object')\n",
      "\n",
      "\n",
      "Cluster 8: 411\n",
      "Index(['rnb', 'pop', 'hiphop'], dtype='object')\n",
      "\n",
      "\n",
      "Cluster 9: 340\n",
      "Index(['country', 'pop', 'rock'], dtype='object')\n",
      "\n",
      "\n",
      "Cluster 10: 541\n",
      "Index(['house', 'dance', 'pop'], dtype='object')\n",
      "\n",
      "\n",
      "Cluster 11: 378\n",
      "Index(['country', 'pop', 'jazz'], dtype='object')\n",
      "\n",
      "\n",
      "Cluster 12: 436\n",
      "Index(['rock', 'country', 'pop'], dtype='object')\n",
      "\n",
      "\n",
      "Cluster 13: 503\n",
      "Index(['house', 'techno', 'dance'], dtype='object')\n",
      "\n",
      "\n",
      "Cluster 14: 587\n",
      "Index(['house', 'pop', 'dance'], dtype='object')\n",
      "\n",
      "\n",
      "Cluster 15: 237\n",
      "Index(['hiphop', 'rnb', 'pop'], dtype='object')\n",
      "\n",
      "\n",
      "Cluster 16: 412\n",
      "Index(['pop', 'rock', 'country'], dtype='object')\n",
      "\n",
      "\n",
      "Cluster 17: 388\n",
      "Index(['house', 'techno', 'dance'], dtype='object')\n",
      "\n",
      "\n",
      "Cluster 18: 321\n",
      "Index(['rock', 'metal', 'pop'], dtype='object')\n",
      "\n",
      "\n",
      "Cluster 19: 353\n",
      "Index(['house', 'dance', 'rock'], dtype='object')\n",
      "\n",
      "\n",
      "Cluster 20: 186\n",
      "Index(['jazz', 'classical', 'house'], dtype='object')\n",
      "\n",
      "\n"
     ]
    }
   ],
   "source": [
    "for i in range(0, max(upsampled_df['cluster']+1)):\n",
    "    print('Cluster '+str(i)+': '+str(len(upsampled_df[upsampled_df['cluster']==i])))\n",
    "    print(upsampled_df[upsampled_df['cluster']==i].genre.value_counts().index[0:3])\n",
    "    print('\\n')"
   ]
  },
  {
   "cell_type": "code",
   "execution_count": 31,
   "id": "c19f0bb2",
   "metadata": {},
   "outputs": [
    {
     "data": {
      "text/plain": [
       "Index(['jazz', 'classical'], dtype='object')"
      ]
     },
     "execution_count": 31,
     "metadata": {},
     "output_type": "execute_result"
    }
   ],
   "source": [
    "upsampled_df[upsampled_df['cluster']==i].genre.value_counts().index[0:2]"
   ]
  },
  {
   "cell_type": "code",
   "execution_count": null,
   "id": "bee7364a",
   "metadata": {},
   "outputs": [],
   "source": []
  }
 ],
 "metadata": {
  "kernelspec": {
   "display_name": "Python 3 (ipykernel)",
   "language": "python",
   "name": "python3"
  },
  "language_info": {
   "codemirror_mode": {
    "name": "ipython",
    "version": 3
   },
   "file_extension": ".py",
   "mimetype": "text/x-python",
   "name": "python",
   "nbconvert_exporter": "python",
   "pygments_lexer": "ipython3",
   "version": "3.9.7"
  },
  "toc": {
   "base_numbering": 1,
   "nav_menu": {
    "height": "205px",
    "width": "335px"
   },
   "number_sections": true,
   "sideBar": true,
   "skip_h1_title": false,
   "title_cell": "Table of Contents",
   "title_sidebar": "Contents",
   "toc_cell": false,
   "toc_position": {},
   "toc_section_display": true,
   "toc_window_display": true
  }
 },
 "nbformat": 4,
 "nbformat_minor": 5
}
