{
 "cells": [
  {
   "cell_type": "markdown",
   "id": "c0a20a2f",
   "metadata": {},
   "source": [
    "### Model Preparation"
   ]
  },
  {
   "cell_type": "code",
   "execution_count": 101,
   "id": "16f7e12c",
   "metadata": {
    "code_folding": [
     0
    ]
   },
   "outputs": [],
   "source": [
    "# importing from libraries\n",
    "import config\n",
    "import spotipy\n",
    "import numpy as np\n",
    "import pandas as pd\n",
    "import pickle\n",
    "from sklearn.preprocessing import StandardScaler\n",
    "from pyjarowinkler import distance\n",
    "from IPython.display import IFrame\n",
    "from spotipy.oauth2 import SpotifyClientCredentials\n",
    "\n",
    "#Initialize SpotiPy with user credentias\n",
    "sp = spotipy.Spotify(auth_manager=SpotifyClientCredentials(client_id= config.c_id,\n",
    "                                                           client_secret= config.c_se))"
   ]
  },
  {
   "cell_type": "code",
   "execution_count": 102,
   "id": "fe0e39fa",
   "metadata": {
    "code_folding": [
     0
    ]
   },
   "outputs": [],
   "source": [
    "# loading top 100 chart (top_chart_df) and song database (upsampled_df)\n",
    "top_chart_df = pd.read_csv('top_chart_df.csv')\n",
    "upsampled_df = pd.read_csv('upsampled_df.csv')"
   ]
  },
  {
   "cell_type": "code",
   "execution_count": 103,
   "id": "c1ea2e85",
   "metadata": {
    "code_folding": [
     0
    ]
   },
   "outputs": [],
   "source": [
    "# function for loading files with pickle\n",
    "def load(filename = \"filename.pickle\"): \n",
    "    try: \n",
    "        with open(filename, \"rb\") as f: \n",
    "            return pickle.load(f) \n",
    "        \n",
    "    except FileNotFoundError: \n",
    "        print(\"File not found!\") "
   ]
  },
  {
   "cell_type": "code",
   "execution_count": 104,
   "id": "c1cdcfba",
   "metadata": {
    "code_folding": [
     0
    ]
   },
   "outputs": [],
   "source": [
    "# loading scaler\n",
    "scaler = load(\"Model/scaler.pickle\")"
   ]
  },
  {
   "cell_type": "code",
   "execution_count": 105,
   "id": "9221b386",
   "metadata": {
    "code_folding": [
     0
    ]
   },
   "outputs": [],
   "source": [
    "# loading kmeans\n",
    "kmeans = load(\"Model/kmeans.pickle\")"
   ]
  },
  {
   "cell_type": "markdown",
   "id": "d818339b",
   "metadata": {},
   "source": [
    "### Function For Song Recommender"
   ]
  },
  {
   "cell_type": "code",
   "execution_count": 106,
   "id": "afe8c911",
   "metadata": {
    "code_folding": [
     0
    ]
   },
   "outputs": [],
   "source": [
    "# function for recommending similar songs\n",
    "def song_recommender():\n",
    "    user_input = input(\"Please input a song: \")   ### asking user for an input\n",
    "    song_list_cleaned = [each_string.replace(\" \",\"\").lower() for each_string in list(top_chart_df.title)]   ### getting generic song titles by converting to lowercase and removing space\n",
    "    artist_list_cleaned = [each_string.replace(\" \",\"\").lower() for each_string in list(top_chart_df.artist)]   ### getting generic artist names by converting to lowercase and removing space\n",
    "    user_input_cleaned = user_input.replace(\" \", \"\").lower()   ### getting generic user input of song by converting to lowercase and removing space\n",
    "    \n",
    "    duplicate_check = top_chart_df[top_chart_df.title.duplicated(keep=False)]   ### checking for tracks in top chart having the same title\n",
    "    duplicate_list = [each_string.replace(\" \",\"\").lower() for each_string in list(duplicate_check.title)]   ### getting generic duplicate song titles by converting to lowercase and removing space\n",
    "    \n",
    "    similarity_count = 0\n",
    "    similarity_song_list = []\n",
    "    similarity_score_list = []\n",
    "    for i in range(0, len(top_chart_df.title)):   ### computing the text similarity between 0 and 1 based on the cleaned user input with each cleaned song title from the top chart\n",
    "        similarity_score = distance.get_jaro_distance(user_input_cleaned, song_list_cleaned[i], winkler=True, scaling=0.1)\n",
    "        similarity_song_list.append(top_chart_df.title[i])\n",
    "        similarity_score_list.append(similarity_score)\n",
    "        if similarity_score > 0.9:   ### a song is matched with the user input of song if their similarity score is larger than 0.9\n",
    "            similarity_count = similarity_count+1\n",
    "        else:\n",
    "            similarity_count = similarity_count   ### if no song from the top chart has a similarity score more than 0.9, then user input of song is not in top chart and similarity count will be zero\n",
    "            \n",
    "    similarity_df = pd.DataFrame({\"title\":similarity_song_list, \"similarity\":similarity_score_list})   ### saving the similarity score results in a dataframe\n",
    "    \n",
    "    user_input_corrected = similarity_df.loc[similarity_df.similarity == max(similarity_df.similarity), \"title\"].values[0]   ### correcting the user input of song with the most similar song title from the top chart, given similarity score is larger than 0.9\n",
    "    user_input_corrected_and_cleaned = user_input_corrected.replace(\" \",\"\").lower()   ### getting generic corrected user input of song by converting to lowercase and removing space\n",
    "    \n",
    "    ## when there is a song match from the top chart\n",
    "    if similarity_count>0:\n",
    "        while True:\n",
    "            try:\n",
    "                suggestion = top_chart_df[top_chart_df[\"title\"]!=user_input_corrected].sample(1)   ### looking for another track in the top chart as track suggestion\n",
    "                suggestion_title = suggestion.iloc[0][0]   ### locating the track suggestion title\n",
    "                suggestion_artist = suggestion.iloc[0][1]   ### locating the track suggestion artist\n",
    "                suggestion_id = sp.search(q=suggestion_title+\" \"+suggestion_artist ,limit=1,market=\"GB\")['tracks']['items'][0]['id']   ### looking for the spotify id of the track suggestion\n",
    "            except:\n",
    "                continue\n",
    "            else:\n",
    "                break\n",
    "        \n",
    "        while True:\n",
    "            if user_input_corrected_and_cleaned in duplicate_list:   ### checking if there are duplicate titles in the top chart for the user input of song\n",
    "                print(top_chart_df[top_chart_df.title == user_input_corrected])   ### displaying the duplicate song titles and its artists\n",
    "                print('\\n')\n",
    "                artist_user_input = input(\"Which song do you mean? Please input the artist: \")   ### asking user to input the artist\n",
    "                artist_user_input_cleaned = artist_user_input.replace(\" \", \"\").lower()   ### getting generic user input of song by converting to lowercase and removing space\n",
    "\n",
    "                suggestion = top_chart_df[(top_chart_df[\"title\"]!=user_input_corrected) | (top_chart_df[\"artist\"]!=artist_user_input)].sample(1)   ### looking for another track in the top chart as track suggestion\n",
    "                suggestion_title = suggestion.iloc[0][0]   ### locating the track suggestion title\n",
    "                suggestion_artist = suggestion.iloc[0][1]   ### locating the track suggestion artist\n",
    "                try:\n",
    "                    suggestion_id = sp.search(q=suggestion_title+\" \"+suggestion_artist ,limit=1,market=\"GB\")['tracks']['items'][0]['id']   ### looking for the spotify id of the track suggestion\n",
    "                    if artist_user_input_cleaned in artist_list_cleaned:\n",
    "                        break\n",
    "                except:\n",
    "                    continue\n",
    "            else:\n",
    "                break\n",
    "\n",
    "        print(\"\\nYour song is in the top 100 chart! Here is another one from the top chart for you.\")\n",
    "        return IFrame(src=\"https://open.spotify.com/embed/track/\"+suggestion_id, width=\"420\", height=\"80\", frameborder=\"0\", allowtransparency=\"true\", allow=\"encrypted-media\",)   ### displaying the embedded spotify player for the recommended song\n",
    "    \n",
    "    ## when there is no song match from the top chart\n",
    "    else:\n",
    "        print('The song you input is not in the top 100 chart.')\n",
    "    \n",
    "        result = sp.search(q=user_input ,limit=5,market=\"GB\")   ### searching with user input of song on spotify and returning top 5 search results\n",
    "        \n",
    "        while True:\n",
    "            if len(result['tracks']['items']) == 0:   ### when there is no result for the search of song\n",
    "                user_input = input('There is no result for your input, please try again: ')   ### asking user for a new input\n",
    "                result = sp.search(q=user_input ,limit=5,market=\"GB\")   ### searching with user input of song on spotify and returning top 5 search results\n",
    "            else:\n",
    "                for i in range(0,len(result['tracks']['items'])):   ### displaying the top 5 search results\n",
    "                    print(str(i+1)+\". \"+(result['tracks']['items'][i]['artists'][0]['name'])+\" (\"+result['tracks']['items'][i]['name']+\")\")\n",
    "                print('\\n0. The song I want is not on the list.')\n",
    "                try:\n",
    "                    number_input = int(input(\"Which song and artists do you mean? Please input the number: \"))   ### asking user to choose from the top search results\n",
    "                    print('\\n')\n",
    "                except:\n",
    "                    print('\\nPlease input a vaild number.')\n",
    "                    continue\n",
    "                else:\n",
    "                    if int(number_input) == 0:\n",
    "                        user_input = input('Please input a song again, artist name can be included for a better search result: ')   ### asking user for a new input\n",
    "                        result = sp.search(q=user_input ,limit=5,market=\"GB\")   ### searching with user input of song on spotify and returning top 5 search results\n",
    "                        continue\n",
    "                    elif int(number_input) in range(1, len(result['tracks']['items'])+1):\n",
    "                        break\n",
    "                    else:\n",
    "                        print('Please input a vaild number.')\n",
    "                        continue\n",
    "            \n",
    "        new_input_uri = result['tracks']['items'][number_input-1]['uri']   ### locating the track based on user input\n",
    "        my_dict = sp.audio_features(new_input_uri)[0]   ### getting the audio features of the chosen track\n",
    "        my_dict_new = { key: [my_dict[key]] for key in list(my_dict.keys()) }   ### converting the extracted audio features for dataframe format\n",
    "        audio_feature_df = pd.DataFrame(my_dict_new)   ### saving the extracted audio features in a dataframe\n",
    "\n",
    "        audio_feature_df.drop(columns=['type','uri','track_href','analysis_url','duration_ms','time_signature','id'],inplace=True)   ### dropping irrelvant columns from audio feature dataframe\n",
    "\n",
    "        audio_feature_tf_df = scaler.transform(audio_feature_df)   ### scaling the audio feature data with the scaler from the model (refer to Jupyter Notebook 2_Clustering) \n",
    "        user_input_cluster = kmeans.predict(audio_feature_tf_df)[0]   ### predicting the cluster of the user in put of song based on the K-means model (refer to Jupyter Notebook 2_Clustering)\n",
    "\n",
    "        track_id = upsampled_df[upsampled_df['cluster']==user_input_cluster].sample(1)['track_id'].values[0]   ### looking for the track id from the song database, sampling from tracks in the same cluster as the predicted cluster\n",
    "        print('\\n')\n",
    "        print('Here is another similar song for you.')\n",
    "        return IFrame(src=\"https://open.spotify.com/embed/track/\"+track_id, width=\"420\", height=\"80\", frameborder=\"0\", allowtransparency=\"true\", allow=\"encrypted-media\",)   ### displaying the embedded spotify player for the recommended song"
   ]
  },
  {
   "cell_type": "markdown",
   "id": "246c20d9",
   "metadata": {},
   "source": [
    "### Song Recommender"
   ]
  },
  {
   "cell_type": "markdown",
   "id": "d96cceca",
   "metadata": {},
   "source": [
    "Mechanism: if the song input is on the current Billboard top 100 list, another song from the top chart will be recommended. Otherwise, a similar song will be recommended. Try it out!"
   ]
  },
  {
   "cell_type": "code",
   "execution_count": 139,
   "id": "90846858",
   "metadata": {
    "scrolled": true
   },
   "outputs": [
    {
     "name": "stdout",
     "output_type": "stream",
     "text": [
      "Please input a song: sing for the moment\n",
      "The song you input is not in the top 100 chart.\n",
      "1. Eminem (Sing For The Moment)\n",
      "2. Tech N9ne (Sriracha)\n",
      "3. Eminem (Sing For The Moment)\n",
      "4. NISHI KAMI (Sing for the Moment)\n",
      "5. Eminem (Sing For The Moment)\n",
      "\n",
      "0. The song I want is not on the list.\n",
      "Which song and artists do you mean? Please input the number: 1\n",
      "\n",
      "\n",
      "\n",
      "\n",
      "Here is another similar song for you.\n"
     ]
    },
    {
     "name": "stderr",
     "output_type": "stream",
     "text": [
      "C:\\Users\\Bosco\\anaconda3\\envs\\DA_ENV\\lib\\site-packages\\sklearn\\base.py:445: UserWarning: X does not have valid feature names, but KMeans was fitted with feature names\n",
      "  warnings.warn(\n"
     ]
    },
    {
     "data": {
      "text/html": [
       "\n",
       "        <iframe\n",
       "            width=\"420\"\n",
       "            height=\"80\"\n",
       "            src=\"https://open.spotify.com/embed/track/5N7Zvj2lx1kKbTgFN5UmzH?frameborder=0&allowtransparency=true&allow=encrypted-media\"\n",
       "            frameborder=\"0\"\n",
       "            allowfullscreen\n",
       "            \n",
       "        ></iframe>\n",
       "        "
      ],
      "text/plain": [
       "<IPython.lib.display.IFrame at 0x294cdccd2b0>"
      ]
     },
     "execution_count": 139,
     "metadata": {},
     "output_type": "execute_result"
    }
   ],
   "source": [
    "song_recommender()"
   ]
  },
  {
   "cell_type": "code",
   "execution_count": 140,
   "id": "f866372a",
   "metadata": {},
   "outputs": [
    {
     "data": {
      "text/html": [
       "<div>\n",
       "<style scoped>\n",
       "    .dataframe tbody tr th:only-of-type {\n",
       "        vertical-align: middle;\n",
       "    }\n",
       "\n",
       "    .dataframe tbody tr th {\n",
       "        vertical-align: top;\n",
       "    }\n",
       "\n",
       "    .dataframe thead th {\n",
       "        text-align: right;\n",
       "    }\n",
       "</style>\n",
       "<table border=\"1\" class=\"dataframe\">\n",
       "  <thead>\n",
       "    <tr style=\"text-align: right;\">\n",
       "      <th></th>\n",
       "      <th>title</th>\n",
       "      <th>artist</th>\n",
       "      <th>track_id</th>\n",
       "      <th>genre</th>\n",
       "      <th>danceability</th>\n",
       "      <th>energy</th>\n",
       "      <th>key</th>\n",
       "      <th>loudness</th>\n",
       "      <th>mode</th>\n",
       "      <th>speechiness</th>\n",
       "      <th>acousticness</th>\n",
       "      <th>instrumentalness</th>\n",
       "      <th>liveness</th>\n",
       "      <th>valence</th>\n",
       "      <th>tempo</th>\n",
       "      <th>cluster</th>\n",
       "    </tr>\n",
       "  </thead>\n",
       "  <tbody>\n",
       "    <tr>\n",
       "      <th>4246</th>\n",
       "      <td>Run from the Crushing Tide</td>\n",
       "      <td>Ensiferum</td>\n",
       "      <td>5N7Zvj2lx1kKbTgFN5UmzH</td>\n",
       "      <td>metal</td>\n",
       "      <td>0.374</td>\n",
       "      <td>0.986</td>\n",
       "      <td>11</td>\n",
       "      <td>-4.374</td>\n",
       "      <td>0</td>\n",
       "      <td>0.164</td>\n",
       "      <td>0.000314</td>\n",
       "      <td>0.000162</td>\n",
       "      <td>0.371</td>\n",
       "      <td>0.247</td>\n",
       "      <td>169.757</td>\n",
       "      <td>15</td>\n",
       "    </tr>\n",
       "    <tr>\n",
       "      <th>4506</th>\n",
       "      <td>Run from the Crushing Tide</td>\n",
       "      <td>Ensiferum</td>\n",
       "      <td>5N7Zvj2lx1kKbTgFN5UmzH</td>\n",
       "      <td>metal</td>\n",
       "      <td>0.374</td>\n",
       "      <td>0.986</td>\n",
       "      <td>11</td>\n",
       "      <td>-4.374</td>\n",
       "      <td>0</td>\n",
       "      <td>0.164</td>\n",
       "      <td>0.000314</td>\n",
       "      <td>0.000162</td>\n",
       "      <td>0.371</td>\n",
       "      <td>0.247</td>\n",
       "      <td>169.757</td>\n",
       "      <td>15</td>\n",
       "    </tr>\n",
       "    <tr>\n",
       "      <th>4553</th>\n",
       "      <td>Run from the Crushing Tide</td>\n",
       "      <td>Ensiferum</td>\n",
       "      <td>5N7Zvj2lx1kKbTgFN5UmzH</td>\n",
       "      <td>metal</td>\n",
       "      <td>0.374</td>\n",
       "      <td>0.986</td>\n",
       "      <td>11</td>\n",
       "      <td>-4.374</td>\n",
       "      <td>0</td>\n",
       "      <td>0.164</td>\n",
       "      <td>0.000314</td>\n",
       "      <td>0.000162</td>\n",
       "      <td>0.371</td>\n",
       "      <td>0.247</td>\n",
       "      <td>169.757</td>\n",
       "      <td>15</td>\n",
       "    </tr>\n",
       "    <tr>\n",
       "      <th>4622</th>\n",
       "      <td>Run from the Crushing Tide</td>\n",
       "      <td>Ensiferum</td>\n",
       "      <td>5N7Zvj2lx1kKbTgFN5UmzH</td>\n",
       "      <td>metal</td>\n",
       "      <td>0.374</td>\n",
       "      <td>0.986</td>\n",
       "      <td>11</td>\n",
       "      <td>-4.374</td>\n",
       "      <td>0</td>\n",
       "      <td>0.164</td>\n",
       "      <td>0.000314</td>\n",
       "      <td>0.000162</td>\n",
       "      <td>0.371</td>\n",
       "      <td>0.247</td>\n",
       "      <td>169.757</td>\n",
       "      <td>15</td>\n",
       "    </tr>\n",
       "  </tbody>\n",
       "</table>\n",
       "</div>"
      ],
      "text/plain": [
       "                           title     artist                track_id  genre  \\\n",
       "4246  Run from the Crushing Tide  Ensiferum  5N7Zvj2lx1kKbTgFN5UmzH  metal   \n",
       "4506  Run from the Crushing Tide  Ensiferum  5N7Zvj2lx1kKbTgFN5UmzH  metal   \n",
       "4553  Run from the Crushing Tide  Ensiferum  5N7Zvj2lx1kKbTgFN5UmzH  metal   \n",
       "4622  Run from the Crushing Tide  Ensiferum  5N7Zvj2lx1kKbTgFN5UmzH  metal   \n",
       "\n",
       "      danceability  energy  key  loudness  mode  speechiness  acousticness  \\\n",
       "4246         0.374   0.986   11    -4.374     0        0.164      0.000314   \n",
       "4506         0.374   0.986   11    -4.374     0        0.164      0.000314   \n",
       "4553         0.374   0.986   11    -4.374     0        0.164      0.000314   \n",
       "4622         0.374   0.986   11    -4.374     0        0.164      0.000314   \n",
       "\n",
       "      instrumentalness  liveness  valence    tempo  cluster  \n",
       "4246          0.000162     0.371    0.247  169.757       15  \n",
       "4506          0.000162     0.371    0.247  169.757       15  \n",
       "4553          0.000162     0.371    0.247  169.757       15  \n",
       "4622          0.000162     0.371    0.247  169.757       15  "
      ]
     },
     "execution_count": 140,
     "metadata": {},
     "output_type": "execute_result"
    }
   ],
   "source": [
    "upsampled_df[upsampled_df['title']==\"Run from the Crushing Tide\"]"
   ]
  },
  {
   "cell_type": "code",
   "execution_count": 141,
   "id": "51e37896",
   "metadata": {},
   "outputs": [
    {
     "data": {
      "text/plain": [
       "metal      212\n",
       "rock        92\n",
       "techno      41\n",
       "rnb         31\n",
       "dance       24\n",
       "pop         23\n",
       "hiphop      18\n",
       "kpop        14\n",
       "house        7\n",
       "country      5\n",
       "jazz         2\n",
       "Name: genre, dtype: int64"
      ]
     },
     "execution_count": 141,
     "metadata": {},
     "output_type": "execute_result"
    }
   ],
   "source": [
    "upsampled_df[upsampled_df['cluster']==15].genre.value_counts()"
   ]
  },
  {
   "cell_type": "code",
   "execution_count": 132,
   "id": "3b34c165",
   "metadata": {},
   "outputs": [
    {
     "name": "stdout",
     "output_type": "stream",
     "text": [
      "jazz         401\n",
      "classical     47\n",
      "house          5\n",
      "country        4\n",
      "metal          3\n",
      "pop            1\n",
      "Name: genre, dtype: int64\n",
      "techno    251\n",
      "house     227\n",
      "dance      82\n",
      "jazz       56\n",
      "metal      17\n",
      "pop         4\n",
      "rock        3\n",
      "Name: genre, dtype: int64\n",
      "house      180\n",
      "kpop       144\n",
      "dance      129\n",
      "pop        103\n",
      "rnb        100\n",
      "hiphop      84\n",
      "rock        45\n",
      "techno      41\n",
      "metal        8\n",
      "country      7\n",
      "jazz         6\n",
      "Name: genre, dtype: int64\n",
      "pop        155\n",
      "dance      151\n",
      "kpop       151\n",
      "house      150\n",
      "country    112\n",
      "rock        84\n",
      "hiphop      78\n",
      "rnb         61\n",
      "techno      36\n",
      "jazz         8\n",
      "metal        7\n",
      "Name: genre, dtype: int64\n",
      "house      61\n",
      "dance      56\n",
      "rock       43\n",
      "kpop       43\n",
      "pop        42\n",
      "techno     40\n",
      "hiphop     38\n",
      "country    25\n",
      "rnb        23\n",
      "jazz       21\n",
      "metal      20\n",
      "Name: genre, dtype: int64\n",
      "pop          198\n",
      "country      167\n",
      "house        162\n",
      "kpop         136\n",
      "dance        130\n",
      "rock         114\n",
      "hiphop        62\n",
      "rnb           59\n",
      "techno        50\n",
      "metal         12\n",
      "jazz          11\n",
      "classical      6\n",
      "Name: genre, dtype: int64\n",
      "hiphop     111\n",
      "rnb         58\n",
      "pop         34\n",
      "kpop        26\n",
      "jazz        11\n",
      "rock         8\n",
      "metal        5\n",
      "dance        5\n",
      "house        2\n",
      "country      2\n",
      "techno       2\n",
      "Name: genre, dtype: int64\n",
      "kpop       150\n",
      "house      148\n",
      "pop        132\n",
      "dance      108\n",
      "rnb         96\n",
      "rock        57\n",
      "hiphop      53\n",
      "techno      35\n",
      "country     15\n",
      "jazz        11\n",
      "metal        9\n",
      "Name: genre, dtype: int64\n",
      "hiphop    263\n",
      "rnb       125\n",
      "pop        47\n",
      "house      29\n",
      "jazz       18\n",
      "kpop       14\n",
      "rock       11\n",
      "techno      7\n",
      "dance       5\n",
      "metal       1\n",
      "Name: genre, dtype: int64\n",
      "classical    708\n",
      "jazz          27\n",
      "Name: genre, dtype: int64\n",
      "house     253\n",
      "techno    248\n",
      "dance      53\n",
      "jazz       48\n",
      "metal      24\n",
      "rock       11\n",
      "pop         2\n",
      "Name: genre, dtype: int64\n",
      "country      274\n",
      "jazz         163\n",
      "pop           95\n",
      "rock          56\n",
      "classical     39\n",
      "rnb           33\n",
      "kpop          17\n",
      "metal          7\n",
      "hiphop         7\n",
      "techno         4\n",
      "Name: genre, dtype: int64\n",
      "rnb       140\n",
      "metal     139\n",
      "rock      104\n",
      "pop        82\n",
      "hiphop     35\n",
      "kpop       33\n",
      "house      31\n",
      "dance      27\n",
      "techno     13\n",
      "jazz        4\n",
      "Name: genre, dtype: int64\n",
      "rock       208\n",
      "metal      188\n",
      "pop         79\n",
      "country     71\n",
      "rnb         56\n",
      "hiphop      38\n",
      "house       29\n",
      "techno      24\n",
      "kpop        21\n",
      "dance       20\n",
      "jazz         7\n",
      "Name: genre, dtype: int64\n"
     ]
    }
   ],
   "source": [
    "for i in range(1, max(upsampled_df['cluster'])):\n",
    "    genre_count = upsampled_df[upsampled_df['cluster']==i].genre.value_counts()\n",
    "    print(genre_count)"
   ]
  },
  {
   "cell_type": "code",
   "execution_count": 98,
   "id": "64a98bb1",
   "metadata": {},
   "outputs": [
    {
     "data": {
      "text/plain": [
       "36"
      ]
     },
     "execution_count": 98,
     "metadata": {},
     "output_type": "execute_result"
    }
   ],
   "source": [
    "max(upsampled_df['cluster'])"
   ]
  },
  {
   "cell_type": "code",
   "execution_count": 100,
   "id": "1a551653",
   "metadata": {},
   "outputs": [
    {
     "data": {
      "text/plain": [
       "4     580\n",
       "18    568\n",
       "7     514\n",
       "14    441\n",
       "21    433\n",
       "35    421\n",
       "28    357\n",
       "19    348\n",
       "11    333\n",
       "13    328\n",
       "8     327\n",
       "20    322\n",
       "9     318\n",
       "0     313\n",
       "15    300\n",
       "23    293\n",
       "3     288\n",
       "22    280\n",
       "32    278\n",
       "26    276\n",
       "36    263\n",
       "25    262\n",
       "16    235\n",
       "17    227\n",
       "12    225\n",
       "27    224\n",
       "31    205\n",
       "30    193\n",
       "34    189\n",
       "6     187\n",
       "5     184\n",
       "1     173\n",
       "10    169\n",
       "2     162\n",
       "24    150\n",
       "29     96\n",
       "33     75\n",
       "Name: cluster, dtype: int64"
      ]
     },
     "execution_count": 100,
     "metadata": {},
     "output_type": "execute_result"
    }
   ],
   "source": [
    "upsampled_df.cluster.value_counts()"
   ]
  },
  {
   "cell_type": "code",
   "execution_count": null,
   "id": "53078b2d",
   "metadata": {},
   "outputs": [],
   "source": []
  }
 ],
 "metadata": {
  "kernelspec": {
   "display_name": "Python 3 (ipykernel)",
   "language": "python",
   "name": "python3"
  },
  "language_info": {
   "codemirror_mode": {
    "name": "ipython",
    "version": 3
   },
   "file_extension": ".py",
   "mimetype": "text/x-python",
   "name": "python",
   "nbconvert_exporter": "python",
   "pygments_lexer": "ipython3",
   "version": "3.9.7"
  },
  "toc": {
   "base_numbering": 1,
   "nav_menu": {},
   "number_sections": true,
   "sideBar": true,
   "skip_h1_title": false,
   "title_cell": "Table of Contents",
   "title_sidebar": "Contents",
   "toc_cell": false,
   "toc_position": {},
   "toc_section_display": true,
   "toc_window_display": true
  }
 },
 "nbformat": 4,
 "nbformat_minor": 5
}
