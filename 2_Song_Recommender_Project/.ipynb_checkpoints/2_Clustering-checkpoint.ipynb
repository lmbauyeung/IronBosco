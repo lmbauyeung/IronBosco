{
 "cells": [
  {
   "cell_type": "code",
   "execution_count": 88,
   "id": "46a7742a",
   "metadata": {},
   "outputs": [],
   "source": [
    "import numpy as np\n",
    "import pandas as pd\n",
    "import pickle\n",
    "from sklearn import datasets\n",
    "from sklearn.preprocessing import StandardScaler\n",
    "from sklearn.cluster import KMeans\n",
    "from matplotlib import pyplot\n",
    "from sklearn.metrics import silhouette_score\n",
    "import matplotlib.pyplot as plt\n",
    "%matplotlib inline"
   ]
  },
  {
   "cell_type": "code",
   "execution_count": 89,
   "id": "b7172ebf",
   "metadata": {},
   "outputs": [],
   "source": [
    "# loading full dataframe\n",
    "final_df = pd.read_csv('final_df.csv')"
   ]
  },
  {
   "cell_type": "code",
   "execution_count": 90,
   "id": "0f2b5264",
   "metadata": {},
   "outputs": [
    {
     "data": {
      "text/html": [
       "<div>\n",
       "<style scoped>\n",
       "    .dataframe tbody tr th:only-of-type {\n",
       "        vertical-align: middle;\n",
       "    }\n",
       "\n",
       "    .dataframe tbody tr th {\n",
       "        vertical-align: top;\n",
       "    }\n",
       "\n",
       "    .dataframe thead th {\n",
       "        text-align: right;\n",
       "    }\n",
       "</style>\n",
       "<table border=\"1\" class=\"dataframe\">\n",
       "  <thead>\n",
       "    <tr style=\"text-align: right;\">\n",
       "      <th></th>\n",
       "      <th>title</th>\n",
       "      <th>artist</th>\n",
       "      <th>genre</th>\n",
       "      <th>danceability</th>\n",
       "      <th>energy</th>\n",
       "      <th>key</th>\n",
       "      <th>loudness</th>\n",
       "      <th>mode</th>\n",
       "      <th>speechiness</th>\n",
       "      <th>acousticness</th>\n",
       "      <th>instrumentalness</th>\n",
       "      <th>liveness</th>\n",
       "      <th>valence</th>\n",
       "      <th>tempo</th>\n",
       "    </tr>\n",
       "  </thead>\n",
       "  <tbody>\n",
       "    <tr>\n",
       "      <th>0</th>\n",
       "      <td>Crazy - Single Version</td>\n",
       "      <td>Patsy Cline, The Jordanaires</td>\n",
       "      <td>country</td>\n",
       "      <td>0.471</td>\n",
       "      <td>0.021</td>\n",
       "      <td>10</td>\n",
       "      <td>-24.385</td>\n",
       "      <td>1</td>\n",
       "      <td>0.0366</td>\n",
       "      <td>0.931000</td>\n",
       "      <td>0.000001</td>\n",
       "      <td>0.1030</td>\n",
       "      <td>0.356</td>\n",
       "      <td>107.796</td>\n",
       "    </tr>\n",
       "    <tr>\n",
       "      <th>1</th>\n",
       "      <td>Folsom Prison Blues</td>\n",
       "      <td>Johnny Cash, The Tennessee Two</td>\n",
       "      <td>country</td>\n",
       "      <td>0.754</td>\n",
       "      <td>0.540</td>\n",
       "      <td>5</td>\n",
       "      <td>-8.326</td>\n",
       "      <td>1</td>\n",
       "      <td>0.0266</td>\n",
       "      <td>0.687000</td>\n",
       "      <td>0.000075</td>\n",
       "      <td>0.0868</td>\n",
       "      <td>0.790</td>\n",
       "      <td>101.738</td>\n",
       "    </tr>\n",
       "    <tr>\n",
       "      <th>2</th>\n",
       "      <td>I Will Always Love You</td>\n",
       "      <td>Dolly Parton</td>\n",
       "      <td>country</td>\n",
       "      <td>0.446</td>\n",
       "      <td>0.142</td>\n",
       "      <td>9</td>\n",
       "      <td>-13.498</td>\n",
       "      <td>1</td>\n",
       "      <td>0.0335</td>\n",
       "      <td>0.960000</td>\n",
       "      <td>0.001140</td>\n",
       "      <td>0.1010</td>\n",
       "      <td>0.156</td>\n",
       "      <td>135.724</td>\n",
       "    </tr>\n",
       "    <tr>\n",
       "      <th>3</th>\n",
       "      <td>Springsteen</td>\n",
       "      <td>Eric Church</td>\n",
       "      <td>country</td>\n",
       "      <td>0.692</td>\n",
       "      <td>0.809</td>\n",
       "      <td>2</td>\n",
       "      <td>-5.935</td>\n",
       "      <td>1</td>\n",
       "      <td>0.0255</td>\n",
       "      <td>0.100000</td>\n",
       "      <td>0.000098</td>\n",
       "      <td>0.1850</td>\n",
       "      <td>0.927</td>\n",
       "      <td>104.023</td>\n",
       "    </tr>\n",
       "    <tr>\n",
       "      <th>4</th>\n",
       "      <td>He Stopped Loving Her Today</td>\n",
       "      <td>George Jones</td>\n",
       "      <td>country</td>\n",
       "      <td>0.430</td>\n",
       "      <td>0.173</td>\n",
       "      <td>8</td>\n",
       "      <td>-18.597</td>\n",
       "      <td>1</td>\n",
       "      <td>0.0321</td>\n",
       "      <td>0.594000</td>\n",
       "      <td>0.000111</td>\n",
       "      <td>0.2240</td>\n",
       "      <td>0.365</td>\n",
       "      <td>72.103</td>\n",
       "    </tr>\n",
       "    <tr>\n",
       "      <th>...</th>\n",
       "      <td>...</td>\n",
       "      <td>...</td>\n",
       "      <td>...</td>\n",
       "      <td>...</td>\n",
       "      <td>...</td>\n",
       "      <td>...</td>\n",
       "      <td>...</td>\n",
       "      <td>...</td>\n",
       "      <td>...</td>\n",
       "      <td>...</td>\n",
       "      <td>...</td>\n",
       "      <td>...</td>\n",
       "      <td>...</td>\n",
       "      <td>...</td>\n",
       "    </tr>\n",
       "    <tr>\n",
       "      <th>7911</th>\n",
       "      <td>Alpha Centauri</td>\n",
       "      <td>Fergie</td>\n",
       "      <td>techno</td>\n",
       "      <td>0.569</td>\n",
       "      <td>0.983</td>\n",
       "      <td>1</td>\n",
       "      <td>-4.547</td>\n",
       "      <td>1</td>\n",
       "      <td>0.0816</td>\n",
       "      <td>0.000204</td>\n",
       "      <td>0.907000</td>\n",
       "      <td>0.0547</td>\n",
       "      <td>0.356</td>\n",
       "      <td>129.976</td>\n",
       "    </tr>\n",
       "    <tr>\n",
       "      <th>7912</th>\n",
       "      <td>The Future</td>\n",
       "      <td>CamelPhat, Rebūke</td>\n",
       "      <td>techno</td>\n",
       "      <td>0.599</td>\n",
       "      <td>0.910</td>\n",
       "      <td>6</td>\n",
       "      <td>-7.403</td>\n",
       "      <td>0</td>\n",
       "      <td>0.1070</td>\n",
       "      <td>0.000116</td>\n",
       "      <td>0.876000</td>\n",
       "      <td>0.1500</td>\n",
       "      <td>0.110</td>\n",
       "      <td>128.020</td>\n",
       "    </tr>\n",
       "    <tr>\n",
       "      <th>7913</th>\n",
       "      <td>Vibrant</td>\n",
       "      <td>LEVT</td>\n",
       "      <td>techno</td>\n",
       "      <td>0.612</td>\n",
       "      <td>0.905</td>\n",
       "      <td>1</td>\n",
       "      <td>-7.154</td>\n",
       "      <td>0</td>\n",
       "      <td>0.0615</td>\n",
       "      <td>0.000170</td>\n",
       "      <td>0.887000</td>\n",
       "      <td>0.0632</td>\n",
       "      <td>0.398</td>\n",
       "      <td>132.000</td>\n",
       "    </tr>\n",
       "    <tr>\n",
       "      <th>7914</th>\n",
       "      <td>Zero Gravity</td>\n",
       "      <td>Ramon Tapia</td>\n",
       "      <td>techno</td>\n",
       "      <td>0.637</td>\n",
       "      <td>0.931</td>\n",
       "      <td>2</td>\n",
       "      <td>-3.093</td>\n",
       "      <td>1</td>\n",
       "      <td>0.0449</td>\n",
       "      <td>0.000198</td>\n",
       "      <td>0.877000</td>\n",
       "      <td>0.3580</td>\n",
       "      <td>0.530</td>\n",
       "      <td>133.993</td>\n",
       "    </tr>\n",
       "    <tr>\n",
       "      <th>7915</th>\n",
       "      <td>Mother Earth - Original Mix</td>\n",
       "      <td>Fatima Hajji</td>\n",
       "      <td>techno</td>\n",
       "      <td>0.575</td>\n",
       "      <td>0.998</td>\n",
       "      <td>10</td>\n",
       "      <td>-5.957</td>\n",
       "      <td>0</td>\n",
       "      <td>0.0792</td>\n",
       "      <td>0.000063</td>\n",
       "      <td>0.685000</td>\n",
       "      <td>0.2700</td>\n",
       "      <td>0.671</td>\n",
       "      <td>134.993</td>\n",
       "    </tr>\n",
       "  </tbody>\n",
       "</table>\n",
       "<p>7916 rows × 14 columns</p>\n",
       "</div>"
      ],
      "text/plain": [
       "                            title                          artist    genre  \\\n",
       "0          Crazy - Single Version    Patsy Cline, The Jordanaires  country   \n",
       "1             Folsom Prison Blues  Johnny Cash, The Tennessee Two  country   \n",
       "2          I Will Always Love You                    Dolly Parton  country   \n",
       "3                     Springsteen                     Eric Church  country   \n",
       "4     He Stopped Loving Her Today                    George Jones  country   \n",
       "...                           ...                             ...      ...   \n",
       "7911               Alpha Centauri                          Fergie   techno   \n",
       "7912                   The Future               CamelPhat, Rebūke   techno   \n",
       "7913                      Vibrant                            LEVT   techno   \n",
       "7914                 Zero Gravity                     Ramon Tapia   techno   \n",
       "7915  Mother Earth - Original Mix                    Fatima Hajji   techno   \n",
       "\n",
       "      danceability  energy  key  loudness  mode  speechiness  acousticness  \\\n",
       "0            0.471   0.021   10   -24.385     1       0.0366      0.931000   \n",
       "1            0.754   0.540    5    -8.326     1       0.0266      0.687000   \n",
       "2            0.446   0.142    9   -13.498     1       0.0335      0.960000   \n",
       "3            0.692   0.809    2    -5.935     1       0.0255      0.100000   \n",
       "4            0.430   0.173    8   -18.597     1       0.0321      0.594000   \n",
       "...            ...     ...  ...       ...   ...          ...           ...   \n",
       "7911         0.569   0.983    1    -4.547     1       0.0816      0.000204   \n",
       "7912         0.599   0.910    6    -7.403     0       0.1070      0.000116   \n",
       "7913         0.612   0.905    1    -7.154     0       0.0615      0.000170   \n",
       "7914         0.637   0.931    2    -3.093     1       0.0449      0.000198   \n",
       "7915         0.575   0.998   10    -5.957     0       0.0792      0.000063   \n",
       "\n",
       "      instrumentalness  liveness  valence    tempo  \n",
       "0             0.000001    0.1030    0.356  107.796  \n",
       "1             0.000075    0.0868    0.790  101.738  \n",
       "2             0.001140    0.1010    0.156  135.724  \n",
       "3             0.000098    0.1850    0.927  104.023  \n",
       "4             0.000111    0.2240    0.365   72.103  \n",
       "...                ...       ...      ...      ...  \n",
       "7911          0.907000    0.0547    0.356  129.976  \n",
       "7912          0.876000    0.1500    0.110  128.020  \n",
       "7913          0.887000    0.0632    0.398  132.000  \n",
       "7914          0.877000    0.3580    0.530  133.993  \n",
       "7915          0.685000    0.2700    0.671  134.993  \n",
       "\n",
       "[7916 rows x 14 columns]"
      ]
     },
     "execution_count": 90,
     "metadata": {},
     "output_type": "execute_result"
    }
   ],
   "source": [
    "# dropping the track_id\n",
    "final_df.drop(['track_id'], axis=1, inplace=True)\n",
    "final_df"
   ]
  },
  {
   "cell_type": "code",
   "execution_count": 91,
   "id": "a05f2bae",
   "metadata": {},
   "outputs": [],
   "source": [
    "genre_count = final_df['genre'].value_counts()"
   ]
  },
  {
   "cell_type": "markdown",
   "id": "87f02771",
   "metadata": {},
   "source": [
    "### Handling Data Imbalance"
   ]
  },
  {
   "cell_type": "code",
   "execution_count": 92,
   "id": "bdbb5a13",
   "metadata": {},
   "outputs": [
    {
     "data": {
      "text/plain": [
       "house        1285\n",
       "pop          1056\n",
       "rock          995\n",
       "country       747\n",
       "metal         685\n",
       "hiphop        681\n",
       "techno        547\n",
       "dance         522\n",
       "jazz          487\n",
       "kpop          397\n",
       "classical     276\n",
       "rnb           238\n",
       "Name: genre, dtype: int64"
      ]
     },
     "execution_count": 92,
     "metadata": {},
     "output_type": "execute_result"
    }
   ],
   "source": [
    "genre_count"
   ]
  },
  {
   "cell_type": "code",
   "execution_count": 93,
   "id": "447555f7",
   "metadata": {},
   "outputs": [],
   "source": [
    "# setting a minimum number of sample for each genre\n",
    "min_genre_count = 800"
   ]
  },
  {
   "cell_type": "code",
   "execution_count": 94,
   "id": "89838ca2",
   "metadata": {},
   "outputs": [
    {
     "data": {
      "text/plain": [
       "Index(['house', 'pop', 'rock'], dtype='object')"
      ]
     },
     "execution_count": 94,
     "metadata": {},
     "output_type": "execute_result"
    }
   ],
   "source": [
    "# genres with samples more than min_genre_count\n",
    "genre_count[genre_count > min_genre_count].index"
   ]
  },
  {
   "cell_type": "code",
   "execution_count": 95,
   "id": "0e41e326",
   "metadata": {},
   "outputs": [],
   "source": [
    "# retaining data for genres with samples more than min_genre_count\n",
    "genre_house = final_df[final_df['genre'] == 'house']\n",
    "genre_pop = final_df[final_df['genre'] == 'pop']\n",
    "genre_rock = final_df[final_df['genre'] == 'rock']"
   ]
  },
  {
   "cell_type": "code",
   "execution_count": 96,
   "id": "75f4a8a3",
   "metadata": {},
   "outputs": [
    {
     "data": {
      "text/plain": [
       "Index(['country', 'metal', 'hiphop', 'techno', 'dance', 'jazz', 'kpop',\n",
       "       'classical', 'rnb'],\n",
       "      dtype='object')"
      ]
     },
     "execution_count": 96,
     "metadata": {},
     "output_type": "execute_result"
    }
   ],
   "source": [
    "# genres with samples less than min_genre_count\n",
    "genre_count[genre_count < min_genre_count].index"
   ]
  },
  {
   "cell_type": "code",
   "execution_count": 97,
   "id": "3bac77e3",
   "metadata": {},
   "outputs": [],
   "source": [
    "# upsampling data for genres with samples less than min_genre_count\n",
    "genre_country = final_df[final_df['genre']=='country'].sample(min_genre_count, replace=True)\n",
    "genre_metal = final_df[final_df['genre']=='metal'].sample(min_genre_count, replace=True)\n",
    "genre_hiphop = final_df[final_df['genre']=='hiphop'].sample(min_genre_count, replace=True)\n",
    "genre_techno = final_df[final_df['genre']=='techno'].sample(min_genre_count, replace=True)\n",
    "genre_dance = final_df[final_df['genre']=='dance'].sample(min_genre_count, replace=True)\n",
    "genre_jazz = final_df[final_df['genre']=='jazz'].sample(min_genre_count, replace=True)\n",
    "genre_kpop = final_df[final_df['genre']=='kpop'].sample(min_genre_count, replace=True)\n",
    "genre_classical = final_df[final_df['genre']=='classical'].sample(min_genre_count, replace=True)\n",
    "genre_rnb = final_df[final_df['genre']=='rnb'].sample(min_genre_count, replace=True)"
   ]
  },
  {
   "cell_type": "code",
   "execution_count": 98,
   "id": "d2ada791",
   "metadata": {},
   "outputs": [],
   "source": [
    "# concatetnating all genre dataframes after upsampling\n",
    "upsampled_df = pd.concat([genre_house, genre_pop, genre_rock, genre_country, genre_metal, genre_hiphop, genre_techno, genre_dance, genre_jazz,  genre_kpop, genre_classical, genre_rnb], axis=0)"
   ]
  },
  {
   "cell_type": "code",
   "execution_count": 99,
   "id": "f8dc0a81",
   "metadata": {},
   "outputs": [
    {
     "data": {
      "text/plain": [
       "10536"
      ]
     },
     "execution_count": 99,
     "metadata": {},
     "output_type": "execute_result"
    }
   ],
   "source": [
    "# computing supposed total numbers of tracks after upsampling\n",
    "genre_count[genre_count > min_genre_count].values.sum()+len(genre_count[genre_count < min_genre_count].index)*min_genre_count"
   ]
  },
  {
   "cell_type": "code",
   "execution_count": 100,
   "id": "04718593",
   "metadata": {},
   "outputs": [
    {
     "data": {
      "text/plain": [
       "10536"
      ]
     },
     "execution_count": 100,
     "metadata": {},
     "output_type": "execute_result"
    }
   ],
   "source": [
    "# checking total numbers of tracks in new dataframe\n",
    "len(upsampled_df)"
   ]
  },
  {
   "cell_type": "code",
   "execution_count": 105,
   "id": "e53912a7",
   "metadata": {},
   "outputs": [],
   "source": [
    "# resetting index\n",
    "upsampled_df.reset_index(drop=True, inplace=True)"
   ]
  },
  {
   "cell_type": "markdown",
   "id": "db855369",
   "metadata": {},
   "source": [
    "### Clustering\n",
    "#### Scaling Data"
   ]
  },
  {
   "cell_type": "code",
   "execution_count": 106,
   "id": "cbd55f41",
   "metadata": {},
   "outputs": [],
   "source": [
    "# creating a dataframe for only audio features\n",
    "X = upsampled_df.drop(columns=['title','artist', 'genre'])"
   ]
  },
  {
   "cell_type": "code",
   "execution_count": 108,
   "id": "65b020f7",
   "metadata": {},
   "outputs": [
    {
     "data": {
      "text/html": [
       "<div>\n",
       "<style scoped>\n",
       "    .dataframe tbody tr th:only-of-type {\n",
       "        vertical-align: middle;\n",
       "    }\n",
       "\n",
       "    .dataframe tbody tr th {\n",
       "        vertical-align: top;\n",
       "    }\n",
       "\n",
       "    .dataframe thead th {\n",
       "        text-align: right;\n",
       "    }\n",
       "</style>\n",
       "<table border=\"1\" class=\"dataframe\">\n",
       "  <thead>\n",
       "    <tr style=\"text-align: right;\">\n",
       "      <th></th>\n",
       "      <th>danceability</th>\n",
       "      <th>energy</th>\n",
       "      <th>key</th>\n",
       "      <th>loudness</th>\n",
       "      <th>mode</th>\n",
       "      <th>speechiness</th>\n",
       "      <th>acousticness</th>\n",
       "      <th>instrumentalness</th>\n",
       "      <th>liveness</th>\n",
       "      <th>valence</th>\n",
       "      <th>tempo</th>\n",
       "    </tr>\n",
       "  </thead>\n",
       "  <tbody>\n",
       "    <tr>\n",
       "      <th>0</th>\n",
       "      <td>0.721</td>\n",
       "      <td>0.923</td>\n",
       "      <td>11</td>\n",
       "      <td>-4.497</td>\n",
       "      <td>0</td>\n",
       "      <td>0.0370</td>\n",
       "      <td>0.00299</td>\n",
       "      <td>0.03120</td>\n",
       "      <td>0.0989</td>\n",
       "      <td>0.575</td>\n",
       "      <td>128.748</td>\n",
       "    </tr>\n",
       "    <tr>\n",
       "      <th>1</th>\n",
       "      <td>0.805</td>\n",
       "      <td>0.660</td>\n",
       "      <td>5</td>\n",
       "      <td>-11.972</td>\n",
       "      <td>0</td>\n",
       "      <td>0.0897</td>\n",
       "      <td>0.01790</td>\n",
       "      <td>0.29500</td>\n",
       "      <td>0.3340</td>\n",
       "      <td>0.147</td>\n",
       "      <td>133.002</td>\n",
       "    </tr>\n",
       "    <tr>\n",
       "      <th>2</th>\n",
       "      <td>0.722</td>\n",
       "      <td>0.990</td>\n",
       "      <td>7</td>\n",
       "      <td>-5.103</td>\n",
       "      <td>1</td>\n",
       "      <td>0.0667</td>\n",
       "      <td>0.02090</td>\n",
       "      <td>0.00186</td>\n",
       "      <td>0.2620</td>\n",
       "      <td>0.398</td>\n",
       "      <td>122.991</td>\n",
       "    </tr>\n",
       "    <tr>\n",
       "      <th>3</th>\n",
       "      <td>0.691</td>\n",
       "      <td>0.830</td>\n",
       "      <td>0</td>\n",
       "      <td>-9.189</td>\n",
       "      <td>1</td>\n",
       "      <td>0.0450</td>\n",
       "      <td>0.06010</td>\n",
       "      <td>0.75800</td>\n",
       "      <td>0.4050</td>\n",
       "      <td>0.830</td>\n",
       "      <td>128.912</td>\n",
       "    </tr>\n",
       "    <tr>\n",
       "      <th>4</th>\n",
       "      <td>0.761</td>\n",
       "      <td>0.808</td>\n",
       "      <td>11</td>\n",
       "      <td>-5.629</td>\n",
       "      <td>0</td>\n",
       "      <td>0.0518</td>\n",
       "      <td>0.00258</td>\n",
       "      <td>0.00003</td>\n",
       "      <td>0.0869</td>\n",
       "      <td>0.157</td>\n",
       "      <td>119.931</td>\n",
       "    </tr>\n",
       "  </tbody>\n",
       "</table>\n",
       "</div>"
      ],
      "text/plain": [
       "   danceability  energy  key  loudness  mode  speechiness  acousticness  \\\n",
       "0         0.721   0.923   11    -4.497     0       0.0370       0.00299   \n",
       "1         0.805   0.660    5   -11.972     0       0.0897       0.01790   \n",
       "2         0.722   0.990    7    -5.103     1       0.0667       0.02090   \n",
       "3         0.691   0.830    0    -9.189     1       0.0450       0.06010   \n",
       "4         0.761   0.808   11    -5.629     0       0.0518       0.00258   \n",
       "\n",
       "   instrumentalness  liveness  valence    tempo  \n",
       "0           0.03120    0.0989    0.575  128.748  \n",
       "1           0.29500    0.3340    0.147  133.002  \n",
       "2           0.00186    0.2620    0.398  122.991  \n",
       "3           0.75800    0.4050    0.830  128.912  \n",
       "4           0.00003    0.0869    0.157  119.931  "
      ]
     },
     "metadata": {},
     "output_type": "display_data"
    },
    {
     "name": "stdout",
     "output_type": "stream",
     "text": [
      "\n"
     ]
    },
    {
     "data": {
      "text/html": [
       "<div>\n",
       "<style scoped>\n",
       "    .dataframe tbody tr th:only-of-type {\n",
       "        vertical-align: middle;\n",
       "    }\n",
       "\n",
       "    .dataframe tbody tr th {\n",
       "        vertical-align: top;\n",
       "    }\n",
       "\n",
       "    .dataframe thead th {\n",
       "        text-align: right;\n",
       "    }\n",
       "</style>\n",
       "<table border=\"1\" class=\"dataframe\">\n",
       "  <thead>\n",
       "    <tr style=\"text-align: right;\">\n",
       "      <th></th>\n",
       "      <th>danceability</th>\n",
       "      <th>energy</th>\n",
       "      <th>key</th>\n",
       "      <th>loudness</th>\n",
       "      <th>mode</th>\n",
       "      <th>speechiness</th>\n",
       "      <th>acousticness</th>\n",
       "      <th>instrumentalness</th>\n",
       "      <th>liveness</th>\n",
       "      <th>valence</th>\n",
       "      <th>tempo</th>\n",
       "    </tr>\n",
       "  </thead>\n",
       "  <tbody>\n",
       "    <tr>\n",
       "      <th>0</th>\n",
       "      <td>0.606474</td>\n",
       "      <td>0.949054</td>\n",
       "      <td>1.590727</td>\n",
       "      <td>0.669158</td>\n",
       "      <td>-1.150555</td>\n",
       "      <td>-0.607405</td>\n",
       "      <td>-0.694318</td>\n",
       "      <td>-0.549015</td>\n",
       "      <td>-0.543965</td>\n",
       "      <td>0.289980</td>\n",
       "      <td>0.318752</td>\n",
       "    </tr>\n",
       "    <tr>\n",
       "      <th>1</th>\n",
       "      <td>1.072358</td>\n",
       "      <td>-0.048919</td>\n",
       "      <td>-0.095945</td>\n",
       "      <td>-0.574938</td>\n",
       "      <td>-1.150555</td>\n",
       "      <td>0.056452</td>\n",
       "      <td>-0.646297</td>\n",
       "      <td>0.215029</td>\n",
       "      <td>1.051954</td>\n",
       "      <td>-1.394319</td>\n",
       "      <td>0.477718</td>\n",
       "    </tr>\n",
       "    <tr>\n",
       "      <th>2</th>\n",
       "      <td>0.612020</td>\n",
       "      <td>1.203290</td>\n",
       "      <td>0.466279</td>\n",
       "      <td>0.568299</td>\n",
       "      <td>0.869146</td>\n",
       "      <td>-0.233277</td>\n",
       "      <td>-0.636635</td>\n",
       "      <td>-0.633992</td>\n",
       "      <td>0.563199</td>\n",
       "      <td>-0.406564</td>\n",
       "      <td>0.103620</td>\n",
       "    </tr>\n",
       "    <tr>\n",
       "      <th>3</th>\n",
       "      <td>0.440087</td>\n",
       "      <td>0.596158</td>\n",
       "      <td>-1.501505</td>\n",
       "      <td>-0.111751</td>\n",
       "      <td>0.869146</td>\n",
       "      <td>-0.506630</td>\n",
       "      <td>-0.510382</td>\n",
       "      <td>1.556015</td>\n",
       "      <td>1.533920</td>\n",
       "      <td>1.293477</td>\n",
       "      <td>0.324880</td>\n",
       "    </tr>\n",
       "    <tr>\n",
       "      <th>4</th>\n",
       "      <td>0.828324</td>\n",
       "      <td>0.512678</td>\n",
       "      <td>1.590727</td>\n",
       "      <td>0.480755</td>\n",
       "      <td>-1.150555</td>\n",
       "      <td>-0.420971</td>\n",
       "      <td>-0.695639</td>\n",
       "      <td>-0.639293</td>\n",
       "      <td>-0.625424</td>\n",
       "      <td>-1.354967</td>\n",
       "      <td>-0.010728</td>\n",
       "    </tr>\n",
       "  </tbody>\n",
       "</table>\n",
       "</div>"
      ],
      "text/plain": [
       "   danceability    energy       key  loudness      mode  speechiness  \\\n",
       "0      0.606474  0.949054  1.590727  0.669158 -1.150555    -0.607405   \n",
       "1      1.072358 -0.048919 -0.095945 -0.574938 -1.150555     0.056452   \n",
       "2      0.612020  1.203290  0.466279  0.568299  0.869146    -0.233277   \n",
       "3      0.440087  0.596158 -1.501505 -0.111751  0.869146    -0.506630   \n",
       "4      0.828324  0.512678  1.590727  0.480755 -1.150555    -0.420971   \n",
       "\n",
       "   acousticness  instrumentalness  liveness   valence     tempo  \n",
       "0     -0.694318         -0.549015 -0.543965  0.289980  0.318752  \n",
       "1     -0.646297          0.215029  1.051954 -1.394319  0.477718  \n",
       "2     -0.636635         -0.633992  0.563199 -0.406564  0.103620  \n",
       "3     -0.510382          1.556015  1.533920  1.293477  0.324880  \n",
       "4     -0.695639         -0.639293 -0.625424 -1.354967 -0.010728  "
      ]
     },
     "metadata": {},
     "output_type": "display_data"
    }
   ],
   "source": [
    "# scaling the audio features dataframe\n",
    "scaler = StandardScaler()\n",
    "scaler.fit(X)\n",
    "X_scaled = scaler.transform(X)\n",
    "X_scaled_df = pd.DataFrame(X_scaled, columns = X.columns)\n",
    "display(X.head())\n",
    "print()\n",
    "display(X_scaled_df.head())"
   ]
  },
  {
   "cell_type": "markdown",
   "id": "38dfb9cf",
   "metadata": {},
   "source": [
    "### Clustering\n",
    "#### Elbow Method"
   ]
  },
  {
   "cell_type": "code",
   "execution_count": 113,
   "id": "9f24a104",
   "metadata": {},
   "outputs": [
    {
     "name": "stdout",
     "output_type": "stream",
     "text": [
      "Training a K-Means model with 2 clusters! \n",
      "\n",
      "Training a K-Means model with 3 clusters! \n",
      "\n",
      "Training a K-Means model with 4 clusters! \n",
      "\n",
      "Training a K-Means model with 5 clusters! \n",
      "\n",
      "Training a K-Means model with 6 clusters! \n",
      "\n",
      "Training a K-Means model with 7 clusters! \n",
      "\n",
      "Training a K-Means model with 8 clusters! \n",
      "\n",
      "Training a K-Means model with 9 clusters! \n",
      "\n",
      "Training a K-Means model with 10 clusters! \n",
      "\n",
      "Training a K-Means model with 11 clusters! \n",
      "\n",
      "Training a K-Means model with 12 clusters! \n",
      "\n",
      "Training a K-Means model with 13 clusters! \n",
      "\n",
      "Training a K-Means model with 14 clusters! \n",
      "\n",
      "Training a K-Means model with 15 clusters! \n",
      "\n",
      "Training a K-Means model with 16 clusters! \n",
      "\n",
      "Training a K-Means model with 17 clusters! \n",
      "\n",
      "Training a K-Means model with 18 clusters! \n",
      "\n",
      "Training a K-Means model with 19 clusters! \n",
      "\n",
      "Training a K-Means model with 20 clusters! \n",
      "\n",
      "Training a K-Means model with 21 clusters! \n",
      "\n",
      "Training a K-Means model with 22 clusters! \n",
      "\n",
      "Training a K-Means model with 23 clusters! \n",
      "\n",
      "Training a K-Means model with 24 clusters! \n",
      "\n",
      "Training a K-Means model with 25 clusters! \n",
      "\n",
      "Training a K-Means model with 26 clusters! \n",
      "\n",
      "Training a K-Means model with 27 clusters! \n",
      "\n",
      "Training a K-Means model with 28 clusters! \n",
      "\n",
      "Training a K-Means model with 29 clusters! \n",
      "\n",
      "Training a K-Means model with 30 clusters! \n",
      "\n",
      "Training a K-Means model with 31 clusters! \n",
      "\n",
      "Training a K-Means model with 32 clusters! \n",
      "\n",
      "Training a K-Means model with 33 clusters! \n",
      "\n",
      "Training a K-Means model with 34 clusters! \n",
      "\n",
      "Training a K-Means model with 35 clusters! \n",
      "\n",
      "Training a K-Means model with 36 clusters! \n",
      "\n",
      "Training a K-Means model with 37 clusters! \n",
      "\n",
      "Training a K-Means model with 38 clusters! \n",
      "\n",
      "Training a K-Means model with 39 clusters! \n",
      "\n"
     ]
    },
    {
     "data": {
      "text/plain": [
       "Text(0.5, 1.0, 'Elbow Method showing the optimal k')"
      ]
     },
     "execution_count": 113,
     "metadata": {},
     "output_type": "execute_result"
    },
    {
     "data": {
      "image/png": "[encoded data removed]",
      "text/plain": [
       "<Figure size 1152x576 with 1 Axes>"
      ]
     },
     "metadata": {
      "needs_background": "light"
     },
     "output_type": "display_data"
    }
   ],
   "source": [
    "K = range(2, 40)\n",
    "inertia = []\n",
    "\n",
    "for k in K:\n",
    "    print(\"Training a K-Means model with {} clusters! \".format(k))\n",
    "    print()\n",
    "    kmeans = KMeans(n_clusters=k,\n",
    "                    random_state=345)\n",
    "    kmeans.fit(X_scaled_df)\n",
    "    inertia.append(kmeans.inertia_)\n",
    "    \n",
    "plt.figure(figsize=(16,8))\n",
    "plt.plot(K, inertia, 'bx-')\n",
    "plt.xlabel('k')\n",
    "plt.ylabel('inertia')\n",
    "plt.xticks(np.arange(min(K), max(K)+1, 1.0))\n",
    "plt.title('Elbow Method showing the optimal k')"
   ]
  },
  {
   "cell_type": "markdown",
   "id": "014642e7",
   "metadata": {},
   "source": [
    "### Clustering\n",
    "#### Silhouette Method"
   ]
  },
  {
   "cell_type": "code",
   "execution_count": 115,
   "id": "768b95bd",
   "metadata": {},
   "outputs": [
    {
     "data": {
      "text/plain": [
       "Text(0.5, 1.0, 'Silhouette Method showing the optimal k')"
      ]
     },
     "execution_count": 115,
     "metadata": {},
     "output_type": "execute_result"
    },
    {
     "data": {
      "image/png": "[encoded data removed]",
      "text/plain": [
       "<Figure size 1152x576 with 1 Axes>"
      ]
     },
     "metadata": {
      "needs_background": "light"
     },
     "output_type": "display_data"
    }
   ],
   "source": [
    "K = range(2, 40)\n",
    "silhouette = []\n",
    "\n",
    "for k in K:\n",
    "    kmeans = KMeans(n_clusters=k,\n",
    "                    random_state=345)\n",
    "    kmeans.fit(X_scaled_df)\n",
    "    \n",
    "    filename = \"Model/kmeans_\" + str(k) + \".pickle\"\n",
    "    with open(filename, \"wb\") as f:\n",
    "        pickle.dump(kmeans,f)\n",
    "    \n",
    "    silhouette.append(silhouette_score(X_scaled_df, kmeans.predict(X_scaled_df)))\n",
    "\n",
    "\n",
    "plt.figure(figsize=(16,8))\n",
    "plt.plot(K, silhouette, 'bx-')\n",
    "plt.xlabel('k')\n",
    "plt.ylabel('silhouette score')\n",
    "plt.xticks(np.arange(min(K), max(K)+1, 1.0))\n",
    "plt.title('Silhouette Method showing the optimal k')"
   ]
  },
  {
   "cell_type": "code",
   "execution_count": 116,
   "id": "39067236",
   "metadata": {},
   "outputs": [],
   "source": [
    "import pickle\n",
    "with open(\"Model/scaler.pickle\", \"wb\") as f:\n",
    "    pickle.dump(scaler,f)\n",
    "with open(\"Model/kmeans_24.pickle\", \"wb\") as f:\n",
    "    pickle.dump(kmeans,f)"
   ]
  },
  {
   "cell_type": "code",
   "execution_count": 117,
   "id": "dcf632d9",
   "metadata": {},
   "outputs": [
    {
     "data": {
      "text/plain": [
       "KMeans(n_clusters=24, random_state=345)"
      ]
     },
     "execution_count": 117,
     "metadata": {},
     "output_type": "execute_result"
    }
   ],
   "source": [
    "# setting up clusters\n",
    "kmeans = KMeans(n_clusters=24, random_state=345)\n",
    "kmeans.fit(X_scaled_df)"
   ]
  },
  {
   "cell_type": "code",
   "execution_count": 118,
   "id": "965744a0",
   "metadata": {},
   "outputs": [
    {
     "data": {
      "text/plain": [
       "39974.48122112494"
      ]
     },
     "execution_count": 118,
     "metadata": {},
     "output_type": "execute_result"
    }
   ],
   "source": [
    "kmeans.inertia_"
   ]
  },
  {
   "cell_type": "code",
   "execution_count": 119,
   "id": "ca89cae0",
   "metadata": {},
   "outputs": [
    {
     "data": {
      "text/plain": [
       "0     251\n",
       "1     664\n",
       "2     241\n",
       "3     783\n",
       "4     563\n",
       "5     400\n",
       "6     659\n",
       "7     307\n",
       "8     376\n",
       "9     444\n",
       "10    495\n",
       "11    582\n",
       "12    653\n",
       "13    725\n",
       "14    421\n",
       "15    373\n",
       "16    220\n",
       "17    327\n",
       "18    249\n",
       "19    366\n",
       "20    357\n",
       "21    204\n",
       "22    319\n",
       "23    557\n",
       "dtype: int64"
      ]
     },
     "execution_count": 119,
     "metadata": {},
     "output_type": "execute_result"
    }
   ],
   "source": [
    "clusters = kmeans.predict(X_scaled_df)\n",
    "pd.Series(clusters).value_counts().sort_index()"
   ]
  },
  {
   "cell_type": "code",
   "execution_count": null,
   "id": "93c7989f",
   "metadata": {},
   "outputs": [],
   "source": []
  }
 ],
 "metadata": {
  "kernelspec": {
   "display_name": "Python 3 (ipykernel)",
   "language": "python",
   "name": "python3"
  },
  "language_info": {
   "codemirror_mode": {
    "name": "ipython",
    "version": 3
   },
   "file_extension": ".py",
   "mimetype": "text/x-python",
   "name": "python",
   "nbconvert_exporter": "python",
   "pygments_lexer": "ipython3",
   "version": "3.9.7"
  }
 },
 "nbformat": 4,
 "nbformat_minor": 5
}
