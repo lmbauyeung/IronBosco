{
 "cells": [
  {
   "cell_type": "code",
   "execution_count": 1,
   "id": "46a7742a",
   "metadata": {},
   "outputs": [],
   "source": [
    "import numpy as np\n",
    "import pandas as pd\n",
    "import pickle\n",
    "from sklearn import datasets\n",
    "from sklearn.preprocessing import StandardScaler\n",
    "from sklearn.cluster import KMeans\n",
    "from matplotlib import pyplot\n",
    "from sklearn.metrics import silhouette_score\n",
    "import matplotlib.pyplot as plt\n",
    "%matplotlib inline"
   ]
  },
  {
   "cell_type": "markdown",
   "id": "a8f9d506",
   "metadata": {},
   "source": [
    "### Data Preparation"
   ]
  },
  {
   "cell_type": "code",
   "execution_count": 2,
   "id": "b7172ebf",
   "metadata": {},
   "outputs": [],
   "source": [
    "# loading full dataframe\n",
    "final_df = pd.read_csv('final_df.csv')"
   ]
  },
  {
   "cell_type": "code",
   "execution_count": 3,
   "id": "d91b20c0",
   "metadata": {},
   "outputs": [
    {
     "data": {
      "text/plain": [
       "title               1\n",
       "artist              1\n",
       "track_id            0\n",
       "genre               0\n",
       "danceability        0\n",
       "energy              0\n",
       "key                 0\n",
       "loudness            0\n",
       "mode                0\n",
       "speechiness         0\n",
       "acousticness        0\n",
       "instrumentalness    0\n",
       "liveness            0\n",
       "valence             0\n",
       "tempo               0\n",
       "dtype: int64"
      ]
     },
     "execution_count": 3,
     "metadata": {},
     "output_type": "execute_result"
    }
   ],
   "source": [
    "# checking for null values\n",
    "final_df.isna().sum()"
   ]
  },
  {
   "cell_type": "code",
   "execution_count": 4,
   "id": "3e708a63",
   "metadata": {},
   "outputs": [],
   "source": [
    "# dropping duplicates\n",
    "final_df.dropna(inplace=True)"
   ]
  },
  {
   "cell_type": "code",
   "execution_count": 5,
   "id": "de1bdf7a",
   "metadata": {},
   "outputs": [],
   "source": [
    "# resetting index\n",
    "final_df.reset_index(drop=True, inplace=True)"
   ]
  },
  {
   "cell_type": "markdown",
   "id": "87f02771",
   "metadata": {},
   "source": [
    "### Handling Data Imbalance Through Upsampling"
   ]
  },
  {
   "cell_type": "code",
   "execution_count": 6,
   "id": "a05f2bae",
   "metadata": {},
   "outputs": [
    {
     "data": {
      "text/plain": [
       "house        1285\n",
       "pop          1057\n",
       "rock          995\n",
       "country       747\n",
       "metal         685\n",
       "hiphop        680\n",
       "techno        547\n",
       "dance         522\n",
       "jazz          487\n",
       "kpop          397\n",
       "classical     276\n",
       "rnb           238\n",
       "Name: genre, dtype: int64"
      ]
     },
     "execution_count": 6,
     "metadata": {},
     "output_type": "execute_result"
    }
   ],
   "source": [
    "genre_count = final_df['genre'].value_counts()\n",
    "genre_count"
   ]
  },
  {
   "cell_type": "code",
   "execution_count": 7,
   "id": "447555f7",
   "metadata": {},
   "outputs": [],
   "source": [
    "# setting a minimum number of sample for each genre\n",
    "min_genre_count = 800"
   ]
  },
  {
   "cell_type": "code",
   "execution_count": 8,
   "id": "89838ca2",
   "metadata": {},
   "outputs": [
    {
     "data": {
      "text/plain": [
       "Index(['house', 'pop', 'rock'], dtype='object')"
      ]
     },
     "execution_count": 8,
     "metadata": {},
     "output_type": "execute_result"
    }
   ],
   "source": [
    "# genres with samples more than min_genre_count\n",
    "genre_count[genre_count > min_genre_count].index"
   ]
  },
  {
   "cell_type": "code",
   "execution_count": 9,
   "id": "0e41e326",
   "metadata": {},
   "outputs": [],
   "source": [
    "# retaining data for genres with samples more than min_genre_count\n",
    "genre_house = final_df[final_df['genre'] == 'house']\n",
    "genre_pop = final_df[final_df['genre'] == 'pop']\n",
    "genre_rock = final_df[final_df['genre'] == 'rock']"
   ]
  },
  {
   "cell_type": "code",
   "execution_count": 10,
   "id": "75f4a8a3",
   "metadata": {},
   "outputs": [
    {
     "data": {
      "text/plain": [
       "Index(['country', 'metal', 'hiphop', 'techno', 'dance', 'jazz', 'kpop',\n",
       "       'classical', 'rnb'],\n",
       "      dtype='object')"
      ]
     },
     "execution_count": 10,
     "metadata": {},
     "output_type": "execute_result"
    }
   ],
   "source": [
    "# genres with samples less than min_genre_count\n",
    "genre_count[genre_count < min_genre_count].index"
   ]
  },
  {
   "cell_type": "code",
   "execution_count": 11,
   "id": "3bac77e3",
   "metadata": {},
   "outputs": [],
   "source": [
    "# upsampling data for genres with samples less than min_genre_count\n",
    "genre_country = final_df[final_df['genre']=='country'].sample(min_genre_count, replace=True)\n",
    "genre_metal = final_df[final_df['genre']=='metal'].sample(min_genre_count, replace=True)\n",
    "genre_hiphop = final_df[final_df['genre']=='hiphop'].sample(min_genre_count, replace=True)\n",
    "genre_techno = final_df[final_df['genre']=='techno'].sample(min_genre_count, replace=True)\n",
    "genre_dance = final_df[final_df['genre']=='dance'].sample(min_genre_count, replace=True)\n",
    "genre_jazz = final_df[final_df['genre']=='jazz'].sample(min_genre_count, replace=True)\n",
    "genre_kpop = final_df[final_df['genre']=='kpop'].sample(min_genre_count, replace=True)\n",
    "genre_classical = final_df[final_df['genre']=='classical'].sample(min_genre_count, replace=True)\n",
    "genre_rnb = final_df[final_df['genre']=='rnb'].sample(min_genre_count, replace=True)"
   ]
  },
  {
   "cell_type": "code",
   "execution_count": 12,
   "id": "d2ada791",
   "metadata": {},
   "outputs": [],
   "source": [
    "# concatetnating all genre dataframes after upsampling\n",
    "upsampled_df = pd.concat([genre_house, genre_pop, genre_rock, genre_country, genre_metal, genre_hiphop, genre_techno, genre_dance, genre_jazz,  genre_kpop, genre_classical, genre_rnb], axis=0)"
   ]
  },
  {
   "cell_type": "code",
   "execution_count": 13,
   "id": "f8dc0a81",
   "metadata": {},
   "outputs": [
    {
     "data": {
      "text/plain": [
       "10537"
      ]
     },
     "execution_count": 13,
     "metadata": {},
     "output_type": "execute_result"
    }
   ],
   "source": [
    "# computing supposed total numbers of tracks after upsampling\n",
    "genre_count[genre_count > min_genre_count].values.sum()+len(genre_count[genre_count < min_genre_count].index)*min_genre_count"
   ]
  },
  {
   "cell_type": "code",
   "execution_count": 14,
   "id": "04718593",
   "metadata": {},
   "outputs": [
    {
     "data": {
      "text/plain": [
       "10537"
      ]
     },
     "execution_count": 14,
     "metadata": {},
     "output_type": "execute_result"
    }
   ],
   "source": [
    "# checking total numbers of tracks in new dataframe\n",
    "len(upsampled_df)"
   ]
  },
  {
   "cell_type": "code",
   "execution_count": 15,
   "id": "e53912a7",
   "metadata": {},
   "outputs": [],
   "source": [
    "# resetting index\n",
    "upsampled_df.reset_index(drop=True, inplace=True)"
   ]
  },
  {
   "cell_type": "markdown",
   "id": "db855369",
   "metadata": {},
   "source": [
    "### Clustering\n",
    "#### Scaling Data"
   ]
  },
  {
   "cell_type": "code",
   "execution_count": 16,
   "id": "cbd55f41",
   "metadata": {},
   "outputs": [],
   "source": [
    "# creating a dataframe for only audio features\n",
    "X = upsampled_df.drop(columns=['title','artist', 'genre', 'track_id'])"
   ]
  },
  {
   "cell_type": "code",
   "execution_count": 17,
   "id": "65b020f7",
   "metadata": {},
   "outputs": [
    {
     "data": {
      "text/html": [
       "<div>\n",
       "<style scoped>\n",
       "    .dataframe tbody tr th:only-of-type {\n",
       "        vertical-align: middle;\n",
       "    }\n",
       "\n",
       "    .dataframe tbody tr th {\n",
       "        vertical-align: top;\n",
       "    }\n",
       "\n",
       "    .dataframe thead th {\n",
       "        text-align: right;\n",
       "    }\n",
       "</style>\n",
       "<table border=\"1\" class=\"dataframe\">\n",
       "  <thead>\n",
       "    <tr style=\"text-align: right;\">\n",
       "      <th></th>\n",
       "      <th>danceability</th>\n",
       "      <th>energy</th>\n",
       "      <th>key</th>\n",
       "      <th>loudness</th>\n",
       "      <th>mode</th>\n",
       "      <th>speechiness</th>\n",
       "      <th>acousticness</th>\n",
       "      <th>instrumentalness</th>\n",
       "      <th>liveness</th>\n",
       "      <th>valence</th>\n",
       "      <th>tempo</th>\n",
       "    </tr>\n",
       "  </thead>\n",
       "  <tbody>\n",
       "    <tr>\n",
       "      <th>0</th>\n",
       "      <td>0.721</td>\n",
       "      <td>0.923</td>\n",
       "      <td>11</td>\n",
       "      <td>-4.497</td>\n",
       "      <td>0</td>\n",
       "      <td>0.0370</td>\n",
       "      <td>0.00299</td>\n",
       "      <td>0.03120</td>\n",
       "      <td>0.0989</td>\n",
       "      <td>0.575</td>\n",
       "      <td>128.748</td>\n",
       "    </tr>\n",
       "    <tr>\n",
       "      <th>1</th>\n",
       "      <td>0.805</td>\n",
       "      <td>0.660</td>\n",
       "      <td>5</td>\n",
       "      <td>-11.972</td>\n",
       "      <td>0</td>\n",
       "      <td>0.0897</td>\n",
       "      <td>0.01790</td>\n",
       "      <td>0.29500</td>\n",
       "      <td>0.3340</td>\n",
       "      <td>0.147</td>\n",
       "      <td>133.002</td>\n",
       "    </tr>\n",
       "    <tr>\n",
       "      <th>2</th>\n",
       "      <td>0.722</td>\n",
       "      <td>0.990</td>\n",
       "      <td>7</td>\n",
       "      <td>-5.103</td>\n",
       "      <td>1</td>\n",
       "      <td>0.0667</td>\n",
       "      <td>0.02090</td>\n",
       "      <td>0.00186</td>\n",
       "      <td>0.2620</td>\n",
       "      <td>0.398</td>\n",
       "      <td>122.991</td>\n",
       "    </tr>\n",
       "    <tr>\n",
       "      <th>3</th>\n",
       "      <td>0.691</td>\n",
       "      <td>0.830</td>\n",
       "      <td>0</td>\n",
       "      <td>-9.189</td>\n",
       "      <td>1</td>\n",
       "      <td>0.0450</td>\n",
       "      <td>0.06010</td>\n",
       "      <td>0.75800</td>\n",
       "      <td>0.4050</td>\n",
       "      <td>0.830</td>\n",
       "      <td>128.912</td>\n",
       "    </tr>\n",
       "    <tr>\n",
       "      <th>4</th>\n",
       "      <td>0.761</td>\n",
       "      <td>0.808</td>\n",
       "      <td>11</td>\n",
       "      <td>-5.629</td>\n",
       "      <td>0</td>\n",
       "      <td>0.0518</td>\n",
       "      <td>0.00258</td>\n",
       "      <td>0.00003</td>\n",
       "      <td>0.0869</td>\n",
       "      <td>0.157</td>\n",
       "      <td>119.931</td>\n",
       "    </tr>\n",
       "  </tbody>\n",
       "</table>\n",
       "</div>"
      ],
      "text/plain": [
       "   danceability  energy  key  loudness  mode  speechiness  acousticness  \\\n",
       "0         0.721   0.923   11    -4.497     0       0.0370       0.00299   \n",
       "1         0.805   0.660    5   -11.972     0       0.0897       0.01790   \n",
       "2         0.722   0.990    7    -5.103     1       0.0667       0.02090   \n",
       "3         0.691   0.830    0    -9.189     1       0.0450       0.06010   \n",
       "4         0.761   0.808   11    -5.629     0       0.0518       0.00258   \n",
       "\n",
       "   instrumentalness  liveness  valence    tempo  \n",
       "0           0.03120    0.0989    0.575  128.748  \n",
       "1           0.29500    0.3340    0.147  133.002  \n",
       "2           0.00186    0.2620    0.398  122.991  \n",
       "3           0.75800    0.4050    0.830  128.912  \n",
       "4           0.00003    0.0869    0.157  119.931  "
      ]
     },
     "metadata": {},
     "output_type": "display_data"
    },
    {
     "name": "stdout",
     "output_type": "stream",
     "text": [
      "\n"
     ]
    },
    {
     "data": {
      "text/html": [
       "<div>\n",
       "<style scoped>\n",
       "    .dataframe tbody tr th:only-of-type {\n",
       "        vertical-align: middle;\n",
       "    }\n",
       "\n",
       "    .dataframe tbody tr th {\n",
       "        vertical-align: top;\n",
       "    }\n",
       "\n",
       "    .dataframe thead th {\n",
       "        text-align: right;\n",
       "    }\n",
       "</style>\n",
       "<table border=\"1\" class=\"dataframe\">\n",
       "  <thead>\n",
       "    <tr style=\"text-align: right;\">\n",
       "      <th></th>\n",
       "      <th>danceability</th>\n",
       "      <th>energy</th>\n",
       "      <th>key</th>\n",
       "      <th>loudness</th>\n",
       "      <th>mode</th>\n",
       "      <th>speechiness</th>\n",
       "      <th>acousticness</th>\n",
       "      <th>instrumentalness</th>\n",
       "      <th>liveness</th>\n",
       "      <th>valence</th>\n",
       "      <th>tempo</th>\n",
       "    </tr>\n",
       "  </thead>\n",
       "  <tbody>\n",
       "    <tr>\n",
       "      <th>0</th>\n",
       "      <td>0.608589</td>\n",
       "      <td>0.948153</td>\n",
       "      <td>1.573423</td>\n",
       "      <td>0.670814</td>\n",
       "      <td>-1.149760</td>\n",
       "      <td>-0.596365</td>\n",
       "      <td>-0.693457</td>\n",
       "      <td>-0.542625</td>\n",
       "      <td>-0.533791</td>\n",
       "      <td>0.291990</td>\n",
       "      <td>0.318016</td>\n",
       "    </tr>\n",
       "    <tr>\n",
       "      <th>1</th>\n",
       "      <td>1.078728</td>\n",
       "      <td>-0.049857</td>\n",
       "      <td>-0.112622</td>\n",
       "      <td>-0.571783</td>\n",
       "      <td>-1.149760</td>\n",
       "      <td>0.062695</td>\n",
       "      <td>-0.645865</td>\n",
       "      <td>0.221479</td>\n",
       "      <td>1.076057</td>\n",
       "      <td>-1.380217</td>\n",
       "      <td>0.477242</td>\n",
       "    </tr>\n",
       "    <tr>\n",
       "      <th>2</th>\n",
       "      <td>0.614186</td>\n",
       "      <td>1.202399</td>\n",
       "      <td>0.449393</td>\n",
       "      <td>0.570076</td>\n",
       "      <td>0.869747</td>\n",
       "      <td>-0.224940</td>\n",
       "      <td>-0.636289</td>\n",
       "      <td>-0.627609</td>\n",
       "      <td>0.583037</td>\n",
       "      <td>-0.399554</td>\n",
       "      <td>0.102533</td>\n",
       "    </tr>\n",
       "    <tr>\n",
       "      <th>3</th>\n",
       "      <td>0.440682</td>\n",
       "      <td>0.595245</td>\n",
       "      <td>-1.517659</td>\n",
       "      <td>-0.109155</td>\n",
       "      <td>0.869747</td>\n",
       "      <td>-0.496318</td>\n",
       "      <td>-0.511166</td>\n",
       "      <td>1.562573</td>\n",
       "      <td>1.562229</td>\n",
       "      <td>1.288282</td>\n",
       "      <td>0.324154</td>\n",
       "    </tr>\n",
       "    <tr>\n",
       "      <th>4</th>\n",
       "      <td>0.832465</td>\n",
       "      <td>0.511761</td>\n",
       "      <td>1.573423</td>\n",
       "      <td>0.482637</td>\n",
       "      <td>-1.149760</td>\n",
       "      <td>-0.411278</td>\n",
       "      <td>-0.694765</td>\n",
       "      <td>-0.632911</td>\n",
       "      <td>-0.615961</td>\n",
       "      <td>-1.341147</td>\n",
       "      <td>-0.012002</td>\n",
       "    </tr>\n",
       "  </tbody>\n",
       "</table>\n",
       "</div>"
      ],
      "text/plain": [
       "   danceability    energy       key  loudness      mode  speechiness  \\\n",
       "0      0.608589  0.948153  1.573423  0.670814 -1.149760    -0.596365   \n",
       "1      1.078728 -0.049857 -0.112622 -0.571783 -1.149760     0.062695   \n",
       "2      0.614186  1.202399  0.449393  0.570076  0.869747    -0.224940   \n",
       "3      0.440682  0.595245 -1.517659 -0.109155  0.869747    -0.496318   \n",
       "4      0.832465  0.511761  1.573423  0.482637 -1.149760    -0.411278   \n",
       "\n",
       "   acousticness  instrumentalness  liveness   valence     tempo  \n",
       "0     -0.693457         -0.542625 -0.533791  0.291990  0.318016  \n",
       "1     -0.645865          0.221479  1.076057 -1.380217  0.477242  \n",
       "2     -0.636289         -0.627609  0.583037 -0.399554  0.102533  \n",
       "3     -0.511166          1.562573  1.562229  1.288282  0.324154  \n",
       "4     -0.694765         -0.632911 -0.615961 -1.341147 -0.012002  "
      ]
     },
     "metadata": {},
     "output_type": "display_data"
    }
   ],
   "source": [
    "# scaling the audio features dataframe\n",
    "scaler = StandardScaler()\n",
    "scaler.fit(X)\n",
    "X_scaled = scaler.transform(X)\n",
    "X_scaled_df = pd.DataFrame(X_scaled, columns = X.columns)\n",
    "display(X.head())\n",
    "print()\n",
    "display(X_scaled_df.head())"
   ]
  },
  {
   "cell_type": "markdown",
   "id": "38dfb9cf",
   "metadata": {},
   "source": [
    "#### Elbow Method"
   ]
  },
  {
   "cell_type": "code",
   "execution_count": 18,
   "id": "9f24a104",
   "metadata": {},
   "outputs": [
    {
     "name": "stdout",
     "output_type": "stream",
     "text": [
      "Training a K-Means model with 8 clusters! \n",
      "\n",
      "Training a K-Means model with 9 clusters! \n",
      "\n",
      "Training a K-Means model with 10 clusters! \n",
      "\n",
      "Training a K-Means model with 11 clusters! \n",
      "\n",
      "Training a K-Means model with 12 clusters! \n",
      "\n",
      "Training a K-Means model with 13 clusters! \n",
      "\n",
      "Training a K-Means model with 14 clusters! \n",
      "\n",
      "Training a K-Means model with 15 clusters! \n",
      "\n",
      "Training a K-Means model with 16 clusters! \n",
      "\n",
      "Training a K-Means model with 17 clusters! \n",
      "\n",
      "Training a K-Means model with 18 clusters! \n",
      "\n",
      "Training a K-Means model with 19 clusters! \n",
      "\n",
      "Training a K-Means model with 20 clusters! \n",
      "\n",
      "Training a K-Means model with 21 clusters! \n",
      "\n",
      "Training a K-Means model with 22 clusters! \n",
      "\n",
      "Training a K-Means model with 23 clusters! \n",
      "\n",
      "Training a K-Means model with 24 clusters! \n",
      "\n",
      "Training a K-Means model with 25 clusters! \n",
      "\n",
      "Training a K-Means model with 26 clusters! \n",
      "\n",
      "Training a K-Means model with 27 clusters! \n",
      "\n",
      "Training a K-Means model with 28 clusters! \n",
      "\n",
      "Training a K-Means model with 29 clusters! \n",
      "\n",
      "Training a K-Means model with 30 clusters! \n",
      "\n",
      "Training a K-Means model with 31 clusters! \n",
      "\n",
      "Training a K-Means model with 32 clusters! \n",
      "\n",
      "Training a K-Means model with 33 clusters! \n",
      "\n",
      "Training a K-Means model with 34 clusters! \n",
      "\n",
      "Training a K-Means model with 35 clusters! \n",
      "\n",
      "Training a K-Means model with 36 clusters! \n",
      "\n",
      "Training a K-Means model with 37 clusters! \n",
      "\n",
      "Training a K-Means model with 38 clusters! \n",
      "\n",
      "Training a K-Means model with 39 clusters! \n",
      "\n"
     ]
    },
    {
     "data": {
      "text/plain": [
       "Text(0.5, 1.0, 'Elbow Method showing the optimal k')"
      ]
     },
     "execution_count": 18,
     "metadata": {},
     "output_type": "execute_result"
    },
    {
     "data": {
      "image/png": "[encoded data removed]",
      "text/plain": [
       "<Figure size 1152x576 with 1 Axes>"
      ]
     },
     "metadata": {
      "needs_background": "light"
     },
     "output_type": "display_data"
    }
   ],
   "source": [
    "K = range(8, 40)\n",
    "inertia = []\n",
    "\n",
    "for k in K:\n",
    "    print(\"Training a K-Means model with {} clusters! \".format(k))\n",
    "    print()\n",
    "    kmeans = KMeans(n_clusters=k,\n",
    "                    random_state=345)\n",
    "    kmeans.fit(X_scaled_df)\n",
    "    inertia.append(kmeans.inertia_)\n",
    "    \n",
    "plt.figure(figsize=(16,8))\n",
    "plt.plot(K, inertia, 'bx-')\n",
    "plt.xlabel('k')\n",
    "plt.ylabel('inertia')\n",
    "plt.xticks(np.arange(min(K), max(K)+1, 1.0))\n",
    "plt.title('Elbow Method showing the optimal k')"
   ]
  },
  {
   "cell_type": "markdown",
   "id": "014642e7",
   "metadata": {},
   "source": [
    "#### Silhouette Method"
   ]
  },
  {
   "cell_type": "code",
   "execution_count": 19,
   "id": "768b95bd",
   "metadata": {
    "scrolled": true
   },
   "outputs": [
    {
     "data": {
      "text/plain": [
       "Text(0.5, 1.0, 'Silhouette Method showing the optimal k')"
      ]
     },
     "execution_count": 19,
     "metadata": {},
     "output_type": "execute_result"
    },
    {
     "data": {
      "image/png": "[encoded data removed]",
      "text/plain": [
       "<Figure size 1152x576 with 1 Axes>"
      ]
     },
     "metadata": {
      "needs_background": "light"
     },
     "output_type": "display_data"
    }
   ],
   "source": [
    "K = range(2, 40)\n",
    "silhouette = []\n",
    "\n",
    "for k in K:\n",
    "    kmeans = KMeans(n_clusters=k,\n",
    "                    random_state=345)\n",
    "    kmeans.fit(X_scaled_df)\n",
    "    \n",
    "    filename = \"Model/kmeans_\" + str(k) + \".pickle\"\n",
    "    with open(filename, \"wb\") as f:\n",
    "        pickle.dump(kmeans,f)\n",
    "    \n",
    "    silhouette.append(silhouette_score(X_scaled_df, kmeans.predict(X_scaled_df)))\n",
    "\n",
    "\n",
    "plt.figure(figsize=(16,8))\n",
    "plt.plot(K, silhouette, 'bx-')\n",
    "plt.xlabel('k')\n",
    "plt.ylabel('silhouette score')\n",
    "plt.xticks(np.arange(min(K), max(K)+1, 1.0))\n",
    "plt.title('Silhouette Method showing the optimal k')"
   ]
  },
  {
   "cell_type": "markdown",
   "id": "5b7d73ee",
   "metadata": {},
   "source": [
    "### Finalizing Database"
   ]
  },
  {
   "cell_type": "code",
   "execution_count": 20,
   "id": "dcf632d9",
   "metadata": {},
   "outputs": [
    {
     "data": {
      "text/plain": [
       "KMeans(n_clusters=38, random_state=345)"
      ]
     },
     "execution_count": 20,
     "metadata": {},
     "output_type": "execute_result"
    }
   ],
   "source": [
    "# setting up clusters, using 38 based on Silhouette\n",
    "kmeans = KMeans(n_clusters=38, random_state=345)\n",
    "kmeans.fit(X_scaled_df)"
   ]
  },
  {
   "cell_type": "code",
   "execution_count": 21,
   "id": "3e1b7cc7",
   "metadata": {},
   "outputs": [
    {
     "data": {
      "text/plain": [
       "34094.25484761366"
      ]
     },
     "execution_count": 21,
     "metadata": {},
     "output_type": "execute_result"
    }
   ],
   "source": [
    "kmeans.inertia_"
   ]
  },
  {
   "cell_type": "code",
   "execution_count": 22,
   "id": "ca89cae0",
   "metadata": {},
   "outputs": [
    {
     "data": {
      "text/plain": [
       "0     249\n",
       "1     453\n",
       "2     216\n",
       "3     275\n",
       "4     203\n",
       "5     489\n",
       "6     279\n",
       "7     278\n",
       "8     303\n",
       "9     293\n",
       "10    487\n",
       "11    156\n",
       "12    329\n",
       "13    325\n",
       "14     91\n",
       "15    236\n",
       "16    156\n",
       "17    326\n",
       "18    227\n",
       "19    203\n",
       "20    200\n",
       "21    153\n",
       "22    316\n",
       "23    202\n",
       "24    179\n",
       "25    187\n",
       "26    414\n",
       "27    308\n",
       "28    160\n",
       "29    277\n",
       "30    332\n",
       "31    558\n",
       "32    233\n",
       "33    189\n",
       "34    308\n",
       "35    533\n",
       "36    329\n",
       "37     85\n",
       "dtype: int64"
      ]
     },
     "execution_count": 22,
     "metadata": {},
     "output_type": "execute_result"
    }
   ],
   "source": [
    "clusters = kmeans.predict(X_scaled_df)\n",
    "pd.Series(clusters).value_counts().sort_index()"
   ]
  },
  {
   "cell_type": "code",
   "execution_count": 23,
   "id": "93c7989f",
   "metadata": {},
   "outputs": [],
   "source": [
    "# integrating cluster into dataframe\n",
    "upsampled_df['cluster'] = clusters"
   ]
  },
  {
   "cell_type": "code",
   "execution_count": 24,
   "id": "c378c845",
   "metadata": {},
   "outputs": [],
   "source": [
    "# saving the upsampled dataframe to a csv\n",
    "from pathlib import Path  \n",
    "filepath = Path('upsampled_df.csv')  \n",
    "filepath.parent.mkdir(parents=True, exist_ok=True)\n",
    "upsampled_df.to_csv(filepath, index=False)"
   ]
  },
  {
   "cell_type": "code",
   "execution_count": 25,
   "id": "39067236",
   "metadata": {},
   "outputs": [],
   "source": [
    "# saving models\n",
    "with open(\"Model/scaler.pickle\", \"wb\") as f:\n",
    "    pickle.dump(scaler,f)\n",
    "with open(\"Model/kmeans.pickle\", \"wb\") as f:\n",
    "    pickle.dump(kmeans,f)"
   ]
  },
  {
   "cell_type": "code",
   "execution_count": null,
   "id": "7d07786a",
   "metadata": {},
   "outputs": [],
   "source": []
  }
 ],
 "metadata": {
  "kernelspec": {
   "display_name": "Python 3 (ipykernel)",
   "language": "python",
   "name": "python3"
  },
  "language_info": {
   "codemirror_mode": {
    "name": "ipython",
    "version": 3
   },
   "file_extension": ".py",
   "mimetype": "text/x-python",
   "name": "python",
   "nbconvert_exporter": "python",
   "pygments_lexer": "ipython3",
   "version": "3.9.7"
  },
  "toc": {
   "base_numbering": 1,
   "nav_menu": {
    "height": "205px",
    "width": "335px"
   },
   "number_sections": true,
   "sideBar": true,
   "skip_h1_title": false,
   "title_cell": "Table of Contents",
   "title_sidebar": "Contents",
   "toc_cell": false,
   "toc_position": {},
   "toc_section_display": true,
   "toc_window_display": true
  }
 },
 "nbformat": 4,
 "nbformat_minor": 5
}
