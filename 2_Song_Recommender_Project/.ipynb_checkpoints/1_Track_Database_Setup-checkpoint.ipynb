{
 "cells": [
  {
   "cell_type": "code",
   "execution_count": 2,
   "id": "d15bfa0d",
   "metadata": {},
   "outputs": [],
   "source": [
    "import config\n",
    "import spotipy\n",
    "import json\n",
    "import pprint\n",
    "from bs4 import BeautifulSoup\n",
    "import requests\n",
    "import pandas as pd\n",
    "import numpy as np\n",
    "from pyjarowinkler import distance\n",
    "from spotipy.oauth2 import SpotifyClientCredentials\n",
    "\n",
    "\n",
    "#Initialize SpotiPy with user credentias\n",
    "sp = spotipy.Spotify(auth_manager=SpotifyClientCredentials(client_id= config.c_id,\n",
    "                                                           client_secret= config.c_se))"
   ]
  },
  {
   "cell_type": "markdown",
   "id": "d51fa5c2",
   "metadata": {},
   "source": [
    "### Selecting Playlists"
   ]
  },
  {
   "cell_type": "code",
   "execution_count": 3,
   "id": "8865ec4d",
   "metadata": {},
   "outputs": [],
   "source": [
    "# storing playlists\n",
    "playlist_country_classic = sp.user_playlist_tracks(\"spotify\", \"3RPaWvjgg1SAi8oIh09Irp\",market=\"GB\") #747 tracks\n",
    "playlist_rock_all = sp.user_playlist_tracks(\"spotify\", \"7KMtxb9kh3TtVvJTdLtJ2K\",market=\"GB\") #1000 tracks\n",
    "playlist_house_all = sp.user_playlist_tracks(\"spotify\", \"4VXFwpNvQysB8yS6E2t2ls\",market=\"GB\") #1000 tracks\n",
    "playlist_house_classic = sp.user_playlist_tracks(\"spotify\", \"2dzVUieQEga2NiLQT4uTR2\",market=\"GB\") #337 tracks\n",
    "playlist_classicals1 = sp.user_playlist_tracks(\"spotify\", \"1h0CEZCm6IbFTbxThn6Xcs\",market=\"GB\") #138 tracks\n",
    "playlist_classicals2 = sp.user_playlist_tracks(\"spotify\", \"37i9dQZF1DWWEJlAGA9gs0\",market=\"GB\") #148 tracks\n",
    "playlist_dance_all = sp.user_playlist_tracks(\"spotify\", \"794tEP1QrKMcaQcFmEyFst\",market=\"GB\") #98 tracks\n",
    "playlist_dance_classic1 = sp.user_playlist_tracks(\"spotify\", \"4KnRcapJREQmYDmoWM6HbM\",market=\"GB\") #352 tracks\n",
    "playlist_dance_classic2 = sp.user_playlist_tracks(\"spotify\", \"37i9dQZF1DX8a1tdzq5tbM\",market=\"GB\") #120 tracks\n",
    "playlist_hiphop_classic = sp.user_playlist_tracks(\"spotify\", \"3UP2icCny4NLcOJS7sKdn7\",market=\"GB\") #408 tracks\n",
    "playlist_hiphop_new1 = sp.user_playlist_tracks(\"spotify\", \"06KmJWiQhL0XiV6QQAHsmw\",market=\"GB\") #100 tracks\n",
    "playlist_hiphop_new2 = sp.user_playlist_tracks(\"spotify\", \"0ppKLqk6Jy0hNpoLQY5NvQ\",market=\"GB\") #185 tracks\n",
    "playlist_pop_new = sp.user_playlist_tracks(\"spotify\", \"2YRe7HRKNRvXdJBp9nXFza\",market=\"GB\") #769 tracks\n",
    "playlist_pop_classic1 = sp.user_playlist_tracks(\"spotify\", \"2DcD3NwuaRB3jtJ2g9gJl9\",market=\"GB\") #174 tracks\n",
    "playlist_pop_classic2 = sp.user_playlist_tracks(\"spotify\", \"1Y7JPH2WFdOPturybDa2q4\",market=\"GB\") #247 tracks\n",
    "playlist_pop_all = sp.user_playlist_tracks(\"spotify\", \"0K8DNHMwJaZmERK4FeaAOJ\",market=\"GB\") #150 tracks\n",
    "playlist_jazz_all = sp.user_playlist_tracks(\"spotify\", \"7g2KyiE9RI5F1fV60OIUu4\",market=\"GB\") #187 tracks\n",
    "playlist_jazz_new = sp.user_playlist_tracks(\"spotify\", \"37i9dQZF1DX0SM0LYsmbMT\",market=\"GB\") #300 tracks\n",
    "playlist_kpop_classic = sp.user_playlist_tracks(\"spotify\", \"37i9dQZF1DX14fiWYoe7Oh\",market=\"GB\") #137 tracks\n",
    "playlist_kpop_new1 = sp.user_playlist_tracks(\"spotify\", \"37i9dQZF1DX9tPFwDMOaN1\",market=\"GB\") #51 tracks\n",
    "playlist_kpop_new2 = sp.user_playlist_tracks(\"spotify\", \"7zx6cOoUpkY9rAHOkD5Tab\",market=\"GB\") #228 tracks\n",
    "playlist_rnb_classic = sp.user_playlist_tracks(\"spotify\", \"37i9dQZF1DX04mASjTsvf0\",market=\"GB\") #100 tracks\n",
    "playlist_rnb_new1 = sp.user_playlist_tracks(\"spotify\", \"4jQ6XB3f0NBtak8FxjiJI3\",market=\"GB\") #40 tracks\n",
    "playlist_rnb_new2 = sp.user_playlist_tracks(\"spotify\", \"5tSbO6M5AT7r91ytDd4nNP\",market=\"GB\") #139 tracks\n",
    "playlist_metal_all1 = sp.user_playlist_tracks(\"spotify\", \"37i9dQZF1DX9qNs32fujYe\",market=\"GB\") #140 tracks\n",
    "playlist_metal_all2 = sp.user_playlist_tracks(\"spotify\", \"2iFHzm6F41h57HLSpqubyX\",market=\"GB\") #631 tracks\n",
    "playlist_techno_classic = sp.user_playlist_tracks(\"spotify\", \"3Y3NX4qhBo5rxvU60MgUoh\",market=\"GB\") #539 tracks\n",
    "playlist_techno_new = sp.user_playlist_tracks(\"spotify\", \"37i9dQZF1DX6J5NfMJS675\",market=\"GB\") #60 tracks"
   ]
  },
  {
   "cell_type": "code",
   "execution_count": 4,
   "id": "548ec903",
   "metadata": {},
   "outputs": [],
   "source": [
    "# creating a genre dictionary for playlist\n",
    "genre_dict = {\"3RPaWvjgg1SAi8oIh09Irp\":'country', \"7KMtxb9kh3TtVvJTdLtJ2K\":'rock', \"4VXFwpNvQysB8yS6E2t2ls\":'house', \"2dzVUieQEga2NiLQT4uTR2\":'house', \"1h0CEZCm6IbFTbxThn6Xcs\":'classical', \"37i9dQZF1DWWEJlAGA9gs0\":'classical', \"794tEP1QrKMcaQcFmEyFst\":'dance', \"4KnRcapJREQmYDmoWM6HbM\":'dance', \"37i9dQZF1DX8a1tdzq5tbM\":'dance', \"3UP2icCny4NLcOJS7sKdn7\":'hiphop', \"06KmJWiQhL0XiV6QQAHsmw\":'hiphop', \"0ppKLqk6Jy0hNpoLQY5NvQ\":'hiphop', \"2YRe7HRKNRvXdJBp9nXFza\":'pop', \"2DcD3NwuaRB3jtJ2g9gJl9\":'pop', \"1Y7JPH2WFdOPturybDa2q4\":'pop', \"0K8DNHMwJaZmERK4FeaAOJ\":'pop', \"7g2KyiE9RI5F1fV60OIUu4\":'jazz', \"37i9dQZF1DX0SM0LYsmbMT\":'jazz', \"37i9dQZF1DX14fiWYoe7Oh\":'kpop', \"37i9dQZF1DX9tPFwDMOaN1\":'kpop', \"7zx6cOoUpkY9rAHOkD5Tab\":'kpop', \"37i9dQZF1DX04mASjTsvf0\":'rnb', \"4jQ6XB3f0NBtak8FxjiJI3\":'rnb', \"5tSbO6M5AT7r91ytDd4nNP\":'rnb', \"37i9dQZF1DX9qNs32fujYe\":'metal', \"2iFHzm6F41h57HLSpqubyX\":'metal', \"3Y3NX4qhBo5rxvU60MgUoh\":'techno', \"37i9dQZF1DX6J5NfMJS675\":'techno'}"
   ]
  },
  {
   "cell_type": "markdown",
   "id": "1c56fe63",
   "metadata": {},
   "source": [
    "### Data Extraction From Playlists - Track, Artists, Track ID"
   ]
  },
  {
   "cell_type": "code",
   "execution_count": 5,
   "id": "a701575d",
   "metadata": {},
   "outputs": [],
   "source": [
    "# creating an empty dataframe\n",
    "track = []\n",
    "artist = []\n",
    "track_id = []\n",
    "playlist_id = []\n",
    "track_df = pd.DataFrame({'title':track,\n",
    "                     'artist':artist,\n",
    "                     'track_id':track_id,\n",
    "                     'playlist_id':playlist_id})"
   ]
  },
  {
   "cell_type": "code",
   "execution_count": 6,
   "id": "f6d165e1",
   "metadata": {},
   "outputs": [],
   "source": [
    "# function for extracting tracks from playlist\n",
    "def get_playlist_tracks(username, playlist_id):\n",
    "    results = sp.user_playlist_tracks(username, playlist_id, market=\"GB\")\n",
    "    tracks = results['items']\n",
    "    while results['next']:\n",
    "        results = sp.next(results)\n",
    "        tracks.extend(results['items'])\n",
    "    return tracks"
   ]
  },
  {
   "cell_type": "code",
   "execution_count": 7,
   "id": "4a9389be",
   "metadata": {},
   "outputs": [],
   "source": [
    "# function for extracting artists from track\n",
    "def get_artists_from_track(track):\n",
    "    return [artist[\"name\"] for artist in track[\"artists\"]]"
   ]
  },
  {
   "cell_type": "code",
   "execution_count": 8,
   "id": "daf5e492",
   "metadata": {},
   "outputs": [],
   "source": [
    "# function for extracting artists from playlist\n",
    "def get_artists_from_playlist(playlist_id):\n",
    "    tracks_from_playlist = get_playlist_tracks(\"spotify\", playlist_id)\n",
    "    return list(get_artists_from_track(track[\"track\"]) for track in tracks_from_playlist)"
   ]
  },
  {
   "cell_type": "code",
   "execution_count": 9,
   "id": "a73fa64f",
   "metadata": {},
   "outputs": [],
   "source": [
    "# function for extracting tracks, artists and track ids from a playlist\n",
    "def append_info(playlist_id):\n",
    "    global track_df\n",
    "    track_list = get_playlist_tracks(\"spotify\", playlist_id)\n",
    "    artist_list = get_artists_from_playlist(playlist_id)\n",
    "    new_track = []\n",
    "    new_artist = []\n",
    "    new_track_id = []\n",
    "    new_playlist_id = []\n",
    "    for i in range(0, len(track_list)):\n",
    "        new_track.append(track_list[i]['track']['name'])\n",
    "    for i in artist_list:\n",
    "        new_artist.append(\", \".join(i))\n",
    "    for i in range(0, len(track_list)):\n",
    "        new_track_id.append(track_list[i]['track']['id'])\n",
    "    for i in range(0, len(track_list)):\n",
    "        new_playlist_id.append(playlist_id)\n",
    "    new_df = pd.DataFrame({'title':new_track,\n",
    "                          'artist':new_artist,\n",
    "                          'track_id':new_track_id,\n",
    "                          'playlist_id':new_playlist_id  \n",
    "                          })\n",
    "    track_df = track_df.append(new_df)"
   ]
  },
  {
   "cell_type": "code",
   "execution_count": 10,
   "id": "4a67bd3a",
   "metadata": {},
   "outputs": [],
   "source": [
    "# extracting all tracks, artists, track ids from all playlists\n",
    "for i in list(genre_dict.keys()):\n",
    "    append_info(i)"
   ]
  },
  {
   "cell_type": "markdown",
   "id": "485dad25",
   "metadata": {},
   "source": [
    "### Cleaning Dataframe"
   ]
  },
  {
   "cell_type": "code",
   "execution_count": 11,
   "id": "5e5760fd",
   "metadata": {},
   "outputs": [
    {
     "name": "stdout",
     "output_type": "stream",
     "text": [
      "Number of tracks in database is 8525\n"
     ]
    }
   ],
   "source": [
    "# number of tracks\n",
    "print('Number of tracks in database is '+str(len(track_df)))"
   ]
  },
  {
   "cell_type": "code",
   "execution_count": 12,
   "id": "c1242f34",
   "metadata": {},
   "outputs": [
    {
     "name": "stdout",
     "output_type": "stream",
     "text": [
      "Number of tracks in database is 7915\n"
     ]
    }
   ],
   "source": [
    "# dropping duplicates\n",
    "track_df.drop_duplicates(subset=['track_id'],keep='first',inplace=True)\n",
    "print('Number of tracks in database is '+str(len(track_df)))"
   ]
  },
  {
   "cell_type": "code",
   "execution_count": 13,
   "id": "b2c93873",
   "metadata": {},
   "outputs": [
    {
     "data": {
      "text/html": [
       "<div>\n",
       "<style scoped>\n",
       "    .dataframe tbody tr th:only-of-type {\n",
       "        vertical-align: middle;\n",
       "    }\n",
       "\n",
       "    .dataframe tbody tr th {\n",
       "        vertical-align: top;\n",
       "    }\n",
       "\n",
       "    .dataframe thead th {\n",
       "        text-align: right;\n",
       "    }\n",
       "</style>\n",
       "<table border=\"1\" class=\"dataframe\">\n",
       "  <thead>\n",
       "    <tr style=\"text-align: right;\">\n",
       "      <th></th>\n",
       "      <th>title</th>\n",
       "      <th>artist</th>\n",
       "      <th>track_id</th>\n",
       "      <th>playlist_id</th>\n",
       "    </tr>\n",
       "  </thead>\n",
       "  <tbody>\n",
       "    <tr>\n",
       "      <th>0</th>\n",
       "      <td>Crazy - Single Version</td>\n",
       "      <td>Patsy Cline, The Jordanaires</td>\n",
       "      <td>3zpj9dvJABiyMrmLCPw6i8</td>\n",
       "      <td>3RPaWvjgg1SAi8oIh09Irp</td>\n",
       "    </tr>\n",
       "    <tr>\n",
       "      <th>1</th>\n",
       "      <td>Folsom Prison Blues</td>\n",
       "      <td>Johnny Cash, The Tennessee Two</td>\n",
       "      <td>121sjkub4p4zcFNozkKnQD</td>\n",
       "      <td>3RPaWvjgg1SAi8oIh09Irp</td>\n",
       "    </tr>\n",
       "    <tr>\n",
       "      <th>2</th>\n",
       "      <td>I Will Always Love You</td>\n",
       "      <td>Dolly Parton</td>\n",
       "      <td>6nRvgo4ySezQKD1D7NIqAu</td>\n",
       "      <td>3RPaWvjgg1SAi8oIh09Irp</td>\n",
       "    </tr>\n",
       "    <tr>\n",
       "      <th>3</th>\n",
       "      <td>Springsteen</td>\n",
       "      <td>Eric Church</td>\n",
       "      <td>05ZACkzW8YbRq3eFgIfSNB</td>\n",
       "      <td>3RPaWvjgg1SAi8oIh09Irp</td>\n",
       "    </tr>\n",
       "    <tr>\n",
       "      <th>4</th>\n",
       "      <td>He Stopped Loving Her Today</td>\n",
       "      <td>George Jones</td>\n",
       "      <td>6qMgx8ys4MNNxypaIvbG0i</td>\n",
       "      <td>3RPaWvjgg1SAi8oIh09Irp</td>\n",
       "    </tr>\n",
       "    <tr>\n",
       "      <th>...</th>\n",
       "      <td>...</td>\n",
       "      <td>...</td>\n",
       "      <td>...</td>\n",
       "      <td>...</td>\n",
       "    </tr>\n",
       "    <tr>\n",
       "      <th>7910</th>\n",
       "      <td>Alpha Centauri</td>\n",
       "      <td>Fergie</td>\n",
       "      <td>3r3PoJF2L57UyfkzmBydvP</td>\n",
       "      <td>37i9dQZF1DX6J5NfMJS675</td>\n",
       "    </tr>\n",
       "    <tr>\n",
       "      <th>7911</th>\n",
       "      <td>The Future</td>\n",
       "      <td>CamelPhat, Rebūke</td>\n",
       "      <td>3MZHllv4rhpBnoOSoD1Mqe</td>\n",
       "      <td>37i9dQZF1DX6J5NfMJS675</td>\n",
       "    </tr>\n",
       "    <tr>\n",
       "      <th>7912</th>\n",
       "      <td>Vibrant</td>\n",
       "      <td>LEVT</td>\n",
       "      <td>3PZ3wXifsjAhcsbNimcmUW</td>\n",
       "      <td>37i9dQZF1DX6J5NfMJS675</td>\n",
       "    </tr>\n",
       "    <tr>\n",
       "      <th>7913</th>\n",
       "      <td>Zero Gravity</td>\n",
       "      <td>Ramon Tapia</td>\n",
       "      <td>4EnsqgcfZCY8ADE530NaNZ</td>\n",
       "      <td>37i9dQZF1DX6J5NfMJS675</td>\n",
       "    </tr>\n",
       "    <tr>\n",
       "      <th>7914</th>\n",
       "      <td>Mother Earth - Original Mix</td>\n",
       "      <td>Fatima Hajji</td>\n",
       "      <td>4U29PAbl99xuzW3JWSX0u0</td>\n",
       "      <td>37i9dQZF1DX6J5NfMJS675</td>\n",
       "    </tr>\n",
       "  </tbody>\n",
       "</table>\n",
       "<p>7915 rows × 4 columns</p>\n",
       "</div>"
      ],
      "text/plain": [
       "                            title                          artist  \\\n",
       "0          Crazy - Single Version    Patsy Cline, The Jordanaires   \n",
       "1             Folsom Prison Blues  Johnny Cash, The Tennessee Two   \n",
       "2          I Will Always Love You                    Dolly Parton   \n",
       "3                     Springsteen                     Eric Church   \n",
       "4     He Stopped Loving Her Today                    George Jones   \n",
       "...                           ...                             ...   \n",
       "7910               Alpha Centauri                          Fergie   \n",
       "7911                   The Future               CamelPhat, Rebūke   \n",
       "7912                      Vibrant                            LEVT   \n",
       "7913                 Zero Gravity                     Ramon Tapia   \n",
       "7914  Mother Earth - Original Mix                    Fatima Hajji   \n",
       "\n",
       "                    track_id             playlist_id  \n",
       "0     3zpj9dvJABiyMrmLCPw6i8  3RPaWvjgg1SAi8oIh09Irp  \n",
       "1     121sjkub4p4zcFNozkKnQD  3RPaWvjgg1SAi8oIh09Irp  \n",
       "2     6nRvgo4ySezQKD1D7NIqAu  3RPaWvjgg1SAi8oIh09Irp  \n",
       "3     05ZACkzW8YbRq3eFgIfSNB  3RPaWvjgg1SAi8oIh09Irp  \n",
       "4     6qMgx8ys4MNNxypaIvbG0i  3RPaWvjgg1SAi8oIh09Irp  \n",
       "...                      ...                     ...  \n",
       "7910  3r3PoJF2L57UyfkzmBydvP  37i9dQZF1DX6J5NfMJS675  \n",
       "7911  3MZHllv4rhpBnoOSoD1Mqe  37i9dQZF1DX6J5NfMJS675  \n",
       "7912  3PZ3wXifsjAhcsbNimcmUW  37i9dQZF1DX6J5NfMJS675  \n",
       "7913  4EnsqgcfZCY8ADE530NaNZ  37i9dQZF1DX6J5NfMJS675  \n",
       "7914  4U29PAbl99xuzW3JWSX0u0  37i9dQZF1DX6J5NfMJS675  \n",
       "\n",
       "[7915 rows x 4 columns]"
      ]
     },
     "execution_count": 13,
     "metadata": {},
     "output_type": "execute_result"
    }
   ],
   "source": [
    "# resetting index\n",
    "track_df.reset_index(drop=True, inplace=True)\n",
    "track_df"
   ]
  },
  {
   "cell_type": "code",
   "execution_count": 14,
   "id": "a54cde02",
   "metadata": {},
   "outputs": [],
   "source": [
    "# replacing playlist_id with genre\n",
    "for i in range(0, len(track_df)):\n",
    "    track_df['playlist_id'][i] = genre_dict[track_df['playlist_id'][i]]\n",
    "\n",
    "track_df.rename({'playlist_id':'genre'}, axis=1, inplace=True)"
   ]
  },
  {
   "cell_type": "code",
   "execution_count": 15,
   "id": "4e1b7aef",
   "metadata": {},
   "outputs": [
    {
     "data": {
      "text/plain": [
       "house        1285\n",
       "pop          1056\n",
       "rock          995\n",
       "country       747\n",
       "metal         685\n",
       "hiphop        681\n",
       "techno        547\n",
       "dance         521\n",
       "jazz          487\n",
       "kpop          397\n",
       "classical     276\n",
       "rnb           238\n",
       "Name: genre, dtype: int64"
      ]
     },
     "execution_count": 15,
     "metadata": {},
     "output_type": "execute_result"
    }
   ],
   "source": [
    "track_df.genre.value_counts()"
   ]
  },
  {
   "cell_type": "markdown",
   "id": "eea91d1e",
   "metadata": {},
   "source": [
    "### Data Extraction for Tracks in Database - Audio Features"
   ]
  },
  {
   "cell_type": "code",
   "execution_count": 16,
   "id": "5a047db0",
   "metadata": {},
   "outputs": [],
   "source": [
    "# creating a features dataframe with columns only\n",
    "features_df = pd.DataFrame(columns=['danceability', 'energy', 'key', 'loudness', 'mode', 'speechiness',\n",
    "                                   'acousticness', 'instrumentalness', 'liveness', 'valence', 'tempo',\n",
    "                                   'type', 'track_id', 'uri', 'track_href', 'analysis_url', 'duration_ms',\n",
    "                                   'time_signature'])"
   ]
  },
  {
   "cell_type": "code",
   "execution_count": 17,
   "id": "450e6c44",
   "metadata": {},
   "outputs": [],
   "source": [
    "# retrieving audio features for all tracks\n",
    "for i in range(0,len(track_df)):\n",
    "    uri = 'spotify:track:'+track_df['track_id'][i]\n",
    "    my_dict = sp.audio_features(uri)[0]\n",
    "    my_dict_new = { key: [my_dict[key]] for key in list(my_dict.keys()) }\n",
    "    features_df_new = pd.DataFrame(my_dict_new)\n",
    "    features_df = features_df.append(features_df_new)\n",
    "    "
   ]
  },
  {
   "cell_type": "code",
   "execution_count": 18,
   "id": "4f38d9d4",
   "metadata": {},
   "outputs": [],
   "source": [
    "# dropping irrelevant columns\n",
    "features_df.drop(columns=['type','uri','track_href','analysis_url','duration_ms','time_signature'],inplace=True)"
   ]
  },
  {
   "cell_type": "markdown",
   "id": "f44e95b6",
   "metadata": {},
   "source": [
    "### Final dataframe"
   ]
  },
  {
   "cell_type": "code",
   "execution_count": 19,
   "id": "5666597f",
   "metadata": {},
   "outputs": [],
   "source": [
    "# merging two dataframes\n",
    "final_df = track_df.merge(features_df, how='inner', on='track_id')"
   ]
  },
  {
   "cell_type": "code",
   "execution_count": 20,
   "id": "8155f256",
   "metadata": {},
   "outputs": [
    {
     "data": {
      "text/plain": [
       "title               0.0\n",
       "artist              0.0\n",
       "track_id            0.0\n",
       "genre               0.0\n",
       "danceability        0.0\n",
       "energy              0.0\n",
       "key                 0.0\n",
       "loudness            0.0\n",
       "mode                0.0\n",
       "speechiness         0.0\n",
       "acousticness        0.0\n",
       "instrumentalness    0.0\n",
       "liveness            0.0\n",
       "valence             0.0\n",
       "tempo               0.0\n",
       "id                  0.0\n",
       "dtype: float64"
      ]
     },
     "execution_count": 20,
     "metadata": {},
     "output_type": "execute_result"
    }
   ],
   "source": [
    "# checking for null values\n",
    "final_df.isna().sum()"
   ]
  },
  {
   "cell_type": "code",
   "execution_count": 21,
   "id": "3611064b",
   "metadata": {},
   "outputs": [],
   "source": [
    "# saving the merged dataframe to a csv\n",
    "from pathlib import Path  \n",
    "filepath = Path('final_df.csv')  \n",
    "filepath.parent.mkdir(parents=True, exist_ok=True)\n",
    "final_df.to_csv(filepath, index=False)"
   ]
  },
  {
   "cell_type": "code",
   "execution_count": null,
   "id": "b2a4306a",
   "metadata": {},
   "outputs": [],
   "source": []
  }
 ],
 "metadata": {
  "kernelspec": {
   "display_name": "Python 3 (ipykernel)",
   "language": "python",
   "name": "python3"
  },
  "language_info": {
   "codemirror_mode": {
    "name": "ipython",
    "version": 3
   },
   "file_extension": ".py",
   "mimetype": "text/x-python",
   "name": "python",
   "nbconvert_exporter": "python",
   "pygments_lexer": "ipython3",
   "version": "3.9.7"
  }
 },
 "nbformat": 4,
 "nbformat_minor": 5
}
