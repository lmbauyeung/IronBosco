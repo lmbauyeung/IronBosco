{
 "cells": [
  {
   "cell_type": "code",
   "execution_count": 11,
   "id": "97dcc4b8",
   "metadata": {},
   "outputs": [],
   "source": [
    "from bs4 import BeautifulSoup\n",
    "import requests\n",
    "import pandas as pd\n",
    "import numpy as np\n",
    "from pathlib import Path"
   ]
  },
  {
   "cell_type": "markdown",
   "id": "2885b7db",
   "metadata": {},
   "source": [
    "### Data Source For Top Chart"
   ]
  },
  {
   "cell_type": "code",
   "execution_count": 12,
   "id": "f456ca39",
   "metadata": {},
   "outputs": [],
   "source": [
    "# top 100 chart from Billboard for web scraping\n",
    "url = \"https://www.billboard.com/charts/hot-100/\""
   ]
  },
  {
   "cell_type": "code",
   "execution_count": 13,
   "id": "7dce9791",
   "metadata": {},
   "outputs": [],
   "source": [
    "response = requests.get(url)"
   ]
  },
  {
   "cell_type": "code",
   "execution_count": 14,
   "id": "d5722e1f",
   "metadata": {},
   "outputs": [],
   "source": [
    "soup = BeautifulSoup(response.content, \"html.parser\")"
   ]
  },
  {
   "cell_type": "markdown",
   "id": "ade4662a",
   "metadata": {},
   "source": [
    "### Web Scraping - Title & Artists"
   ]
  },
  {
   "cell_type": "code",
   "execution_count": 15,
   "id": "19bc2b5c",
   "metadata": {},
   "outputs": [
    {
     "data": {
      "text/plain": [
       "100"
      ]
     },
     "execution_count": 15,
     "metadata": {},
     "output_type": "execute_result"
    }
   ],
   "source": [
    "# define the number of iterations for the for-loop\n",
    "num_iter = len(soup.select(\".o-chart-results-list__item #title-of-a-story\"))\n",
    "num_iter"
   ]
  },
  {
   "cell_type": "code",
   "execution_count": 16,
   "id": "a4cb6e42",
   "metadata": {},
   "outputs": [],
   "source": [
    "# initialize empty lists\n",
    "title=[]\n",
    "artist=[]"
   ]
  },
  {
   "cell_type": "code",
   "execution_count": 17,
   "id": "fa8940ec",
   "metadata": {},
   "outputs": [],
   "source": [
    "# fill the lists with songs and artists from top charts\n",
    "for i in range(num_iter):\n",
    "    title.append(soup.select(\".o-chart-results-list__item #title-of-a-story\")[i].get_text(strip=True))\n",
    "    artist.append(soup.select(\".c-label.a-no-trucate\")[i].get_text(strip=True))"
   ]
  },
  {
   "cell_type": "code",
   "execution_count": 20,
   "id": "81221d79",
   "metadata": {},
   "outputs": [
    {
     "data": {
      "text/html": [
       "<div>\n",
       "<style scoped>\n",
       "    .dataframe tbody tr th:only-of-type {\n",
       "        vertical-align: middle;\n",
       "    }\n",
       "\n",
       "    .dataframe tbody tr th {\n",
       "        vertical-align: top;\n",
       "    }\n",
       "\n",
       "    .dataframe thead th {\n",
       "        text-align: right;\n",
       "    }\n",
       "</style>\n",
       "<table border=\"1\" class=\"dataframe\">\n",
       "  <thead>\n",
       "    <tr style=\"text-align: right;\">\n",
       "      <th></th>\n",
       "      <th>title</th>\n",
       "      <th>artist</th>\n",
       "    </tr>\n",
       "  </thead>\n",
       "  <tbody>\n",
       "    <tr>\n",
       "      <th>0</th>\n",
       "      <td>Heat Waves</td>\n",
       "      <td>Glass Animals</td>\n",
       "    </tr>\n",
       "    <tr>\n",
       "      <th>1</th>\n",
       "      <td>We Don't Talk About Bruno</td>\n",
       "      <td>Carolina Gaitan, Mauro Castillo, Adassa, Rhenz...</td>\n",
       "    </tr>\n",
       "    <tr>\n",
       "      <th>2</th>\n",
       "      <td>abcdefu</td>\n",
       "      <td>GAYLE</td>\n",
       "    </tr>\n",
       "    <tr>\n",
       "      <th>3</th>\n",
       "      <td>Super Gremlin</td>\n",
       "      <td>Kodak Black</td>\n",
       "    </tr>\n",
       "    <tr>\n",
       "      <th>4</th>\n",
       "      <td>Stay</td>\n",
       "      <td>The Kid LAROI &amp; Justin Bieber</td>\n",
       "    </tr>\n",
       "  </tbody>\n",
       "</table>\n",
       "</div>"
      ],
      "text/plain": [
       "                       title  \\\n",
       "0                 Heat Waves   \n",
       "1  We Don't Talk About Bruno   \n",
       "2                    abcdefu   \n",
       "3              Super Gremlin   \n",
       "4                       Stay   \n",
       "\n",
       "                                              artist  \n",
       "0                                      Glass Animals  \n",
       "1  Carolina Gaitan, Mauro Castillo, Adassa, Rhenz...  \n",
       "2                                              GAYLE  \n",
       "3                                        Kodak Black  \n",
       "4                      The Kid LAROI & Justin Bieber  "
      ]
     },
     "execution_count": 20,
     "metadata": {},
     "output_type": "execute_result"
    }
   ],
   "source": [
    "# store scraped data in a dataframe\n",
    "top_chart_df = pd.DataFrame({\"title\":title,\n",
    "                           \"artist\":artist\n",
    "                          })\n",
    "top_chart_df.head()"
   ]
  },
  {
   "cell_type": "code",
   "execution_count": 21,
   "id": "7a671ef0",
   "metadata": {},
   "outputs": [
    {
     "data": {
      "text/plain": [
       "title     0\n",
       "artist    0\n",
       "dtype: int64"
      ]
     },
     "execution_count": 21,
     "metadata": {},
     "output_type": "execute_result"
    }
   ],
   "source": [
    "# check for null values\n",
    "top_chart_df.isna().sum()"
   ]
  },
  {
   "cell_type": "code",
   "execution_count": 22,
   "id": "b0ee1b1b",
   "metadata": {},
   "outputs": [],
   "source": [
    "# saving the top_chart dataframe to a csv \n",
    "filepath = Path('top_chart_df.csv')  \n",
    "filepath.parent.mkdir(parents=True, exist_ok=True)\n",
    "top_chart_df.to_csv(filepath, index=False)"
   ]
  },
  {
   "cell_type": "code",
   "execution_count": null,
   "id": "85d84068",
   "metadata": {},
   "outputs": [],
   "source": []
  }
 ],
 "metadata": {
  "kernelspec": {
   "display_name": "Python 3 (ipykernel)",
   "language": "python",
   "name": "python3"
  },
  "language_info": {
   "codemirror_mode": {
    "name": "ipython",
    "version": 3
   },
   "file_extension": ".py",
   "mimetype": "text/x-python",
   "name": "python",
   "nbconvert_exporter": "python",
   "pygments_lexer": "ipython3",
   "version": "3.9.7"
  },
  "toc": {
   "base_numbering": 1,
   "nav_menu": {},
   "number_sections": true,
   "sideBar": true,
   "skip_h1_title": false,
   "title_cell": "Table of Contents",
   "title_sidebar": "Contents",
   "toc_cell": false,
   "toc_position": {},
   "toc_section_display": true,
   "toc_window_display": true
  }
 },
 "nbformat": 4,
 "nbformat_minor": 5
}
