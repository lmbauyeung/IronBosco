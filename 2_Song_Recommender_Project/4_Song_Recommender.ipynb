{
 "cells": [
  {
   "cell_type": "markdown",
   "id": "c0a20a2f",
   "metadata": {},
   "source": [
    "### Model Preparation"
   ]
  },
  {
   "cell_type": "code",
   "execution_count": 1,
   "id": "16f7e12c",
   "metadata": {
    "code_folding": [
     0
    ]
   },
   "outputs": [],
   "source": [
    "# importing from libraries\n",
    "import config\n",
    "import spotipy\n",
    "import numpy as np\n",
    "import pandas as pd\n",
    "import pickle\n",
    "from sklearn.preprocessing import StandardScaler\n",
    "from pyjarowinkler import distance\n",
    "from IPython.display import IFrame\n",
    "from spotipy.oauth2 import SpotifyClientCredentials\n",
    "\n",
    "#Initialize SpotiPy with user credentias\n",
    "sp = spotipy.Spotify(auth_manager=SpotifyClientCredentials(client_id= config.c_id,\n",
    "                                                           client_secret= config.c_se))"
   ]
  },
  {
   "cell_type": "code",
   "execution_count": 2,
   "id": "fe0e39fa",
   "metadata": {
    "code_folding": [
     0
    ]
   },
   "outputs": [],
   "source": [
    "# loading top 100 chart (top_chart_df) and song database (upsampled_df)\n",
    "top_chart_df = pd.read_csv('top_chart_df.csv')\n",
    "upsampled_df = pd.read_csv('upsampled_df.csv')"
   ]
  },
  {
   "cell_type": "code",
   "execution_count": 3,
   "id": "c1ea2e85",
   "metadata": {
    "code_folding": [
     0
    ]
   },
   "outputs": [],
   "source": [
    "# function for loading files with pickle\n",
    "def load(filename = \"filename.pickle\"): \n",
    "    try: \n",
    "        with open(filename, \"rb\") as f: \n",
    "            return pickle.load(f) \n",
    "        \n",
    "    except FileNotFoundError: \n",
    "        print(\"File not found!\") "
   ]
  },
  {
   "cell_type": "code",
   "execution_count": 4,
   "id": "c1cdcfba",
   "metadata": {
    "code_folding": [
     0
    ]
   },
   "outputs": [],
   "source": [
    "# loading scaler\n",
    "scaler = load(\"Model/scaler.pickle\")"
   ]
  },
  {
   "cell_type": "code",
   "execution_count": 5,
   "id": "9221b386",
   "metadata": {
    "code_folding": [
     0
    ]
   },
   "outputs": [],
   "source": [
    "# loading kmeans\n",
    "kmeans = load(\"Model/kmeans.pickle\")"
   ]
  },
  {
   "cell_type": "markdown",
   "id": "d818339b",
   "metadata": {},
   "source": [
    "### Function For Song Recommender"
   ]
  },
  {
   "cell_type": "code",
   "execution_count": 6,
   "id": "afe8c911",
   "metadata": {
    "code_folding": []
   },
   "outputs": [],
   "source": [
    "# function for recommending similar songs\n",
    "def song_recommender():\n",
    "    user_input = input(\"Please input a song: \")   ### asking user for an input\n",
    "    song_list_cleaned = [each_string.replace(\" \",\"\").lower() for each_string in list(top_chart_df.title)]   ### getting generic song titles by converting to lowercase and removing space\n",
    "    artist_list_cleaned = [each_string.replace(\" \",\"\").lower() for each_string in list(top_chart_df.artist)]   ### getting generic artist names by converting to lowercase and removing space\n",
    "    user_input_cleaned = user_input.replace(\" \", \"\").lower()   ### getting generic user input of song by converting to lowercase and removing space\n",
    "    \n",
    "    duplicate_check = top_chart_df[top_chart_df.title.duplicated(keep=False)]   ### checking for tracks in top chart having the same title\n",
    "    duplicate_list = [each_string.replace(\" \",\"\").lower() for each_string in list(duplicate_check.title)]   ### getting generic duplicate song titles by converting to lowercase and removing space\n",
    "    \n",
    "    similarity_count = 0\n",
    "    similarity_song_list = []\n",
    "    similarity_score_list = []\n",
    "    for i in range(0, len(top_chart_df.title)):   ### computing the text similarity between 0 and 1 based on the cleaned user input with each cleaned song title from the top chart\n",
    "        similarity_score = distance.get_jaro_distance(user_input_cleaned, song_list_cleaned[i], winkler=True, scaling=0.1)\n",
    "        similarity_song_list.append(top_chart_df.title[i])\n",
    "        similarity_score_list.append(similarity_score)\n",
    "        if similarity_score > 0.9:   ### a song is matched with the user input of song if their similarity score is larger than 0.9\n",
    "            similarity_count = similarity_count+1\n",
    "        else:\n",
    "            similarity_count = similarity_count   ### if no song from the top chart has a similarity score more than 0.9, then user input of song is not in top chart and similarity count will be zero\n",
    "            \n",
    "    similarity_df = pd.DataFrame({\"title\":similarity_song_list, \"similarity\":similarity_score_list})   ### saving the similarity score results in a dataframe\n",
    "    \n",
    "    user_input_corrected = similarity_df.loc[similarity_df.similarity == max(similarity_df.similarity), \"title\"].values[0]   ### correcting the user input of song with the most similar song title from the top chart, given similarity score is larger than 0.9\n",
    "    user_input_corrected_and_cleaned = user_input_corrected.replace(\" \",\"\").lower()   ### getting generic corrected user input of song by converting to lowercase and removing space\n",
    "    \n",
    "    ## when there is a song match from the top chart\n",
    "    if similarity_count>0:\n",
    "        while True:\n",
    "            try:\n",
    "                suggestion = top_chart_df[top_chart_df[\"title\"]!=user_input_corrected].sample(1)   ### looking for another track in the top chart as track suggestion\n",
    "                suggestion_title = suggestion.iloc[0][0]   ### locating the track suggestion title\n",
    "                suggestion_artist = suggestion.iloc[0][1]   ### locating the track suggestion artist\n",
    "                suggestion_id = sp.search(q=suggestion_title+\" \"+suggestion_artist ,limit=1,market=\"GB\")['tracks']['items'][0]['id']   ### looking for the spotify id of the track suggestion\n",
    "            except:\n",
    "                continue\n",
    "            else:\n",
    "                break\n",
    "        \n",
    "        while True:\n",
    "            if user_input_corrected_and_cleaned in duplicate_list:   ### checking if there are duplicate titles in the top chart for the user input of song\n",
    "                print(top_chart_df[top_chart_df.title == user_input_corrected])   ### displaying the duplicate song titles and its artists\n",
    "                print('\\n')\n",
    "                artist_user_input = input(\"Which song do you mean? Please input the artist: \")   ### asking user to input the artist\n",
    "                artist_user_input_cleaned = artist_user_input.replace(\" \", \"\").lower()   ### getting generic user input of song by converting to lowercase and removing space\n",
    "\n",
    "                suggestion = top_chart_df[(top_chart_df[\"title\"]!=user_input_corrected) | (top_chart_df[\"artist\"]!=artist_user_input)].sample(1)   ### looking for another track in the top chart as track suggestion\n",
    "                suggestion_title = suggestion.iloc[0][0]   ### locating the track suggestion title\n",
    "                suggestion_artist = suggestion.iloc[0][1]   ### locating the track suggestion artist\n",
    "                try:\n",
    "                    suggestion_id = sp.search(q=suggestion_title+\" \"+suggestion_artist ,limit=1,market=\"GB\")['tracks']['items'][0]['id']   ### looking for the spotify id of the track suggestion\n",
    "                    if artist_user_input_cleaned in artist_list_cleaned:   ### when user input of artist is correct\n",
    "                        break\n",
    "                except:\n",
    "                    continue\n",
    "            else:\n",
    "                break\n",
    "\n",
    "        print(\"\\nYour song is in the top 100 chart! Here is another one from the top chart for you.\")\n",
    "        return IFrame(src=\"https://open.spotify.com/embed/track/\"+suggestion_id, width=\"420\", height=\"80\", frameborder=\"0\", allowtransparency=\"true\", allow=\"encrypted-media\",)   ### displaying the embedded spotify player for the recommended song\n",
    "    \n",
    "    ## when there is no song match from the top chart\n",
    "    else:\n",
    "        print('The song you input is not in the top 100 chart.')\n",
    "    \n",
    "        result = sp.search(q=user_input ,limit=5,market=\"GB\")   ### searching with user input of song on spotify and returning top 5 search results\n",
    "        \n",
    "        while True:\n",
    "            if len(result['tracks']['items']) == 0:   ### when there is no result for the search of song\n",
    "                user_input = input('There is no result for your input, please try again: ')   ### asking user for a new input\n",
    "                result = sp.search(q=user_input ,limit=5,market=\"GB\")   ### searching with user input of song on spotify and returning top 5 search results\n",
    "            else:\n",
    "                for i in range(0,len(result['tracks']['items'])):   ### displaying the top 5 search results\n",
    "                    print(str(i+1)+\". \"+(result['tracks']['items'][i]['artists'][0]['name'])+\" (\"+result['tracks']['items'][i]['name']+\")\")\n",
    "                print('\\n0. The song I want is not on the list.')\n",
    "                try:\n",
    "                    number_input = int(input(\"Which song and artists do you mean? Please input the number: \"))   ### asking user to choose from the top search results\n",
    "                    print('\\n')\n",
    "                except:\n",
    "                    print('\\nPlease input a vaild number.')\n",
    "                    continue\n",
    "                else:\n",
    "                    if int(number_input) == 0:   ### when the song wanted by user does not show up in the search results\n",
    "                        user_input = input('Please input a song again, artist name can be included for a better search result: ')   ### asking user for a new input\n",
    "                        result = sp.search(q=user_input ,limit=5,market=\"GB\")   ### searching with user input of song on spotify and returning top 5 search results\n",
    "                        continue\n",
    "                    elif int(number_input) in range(1, len(result['tracks']['items'])+1):   ### when user input a valid number\n",
    "                        break\n",
    "                    else:\n",
    "                        print('Please input a vaild number.')\n",
    "                        continue\n",
    "        \n",
    "        new_input_uri = result['tracks']['items'][number_input-1]['uri']   ### locating the track based on user input\n",
    "        my_dict = sp.audio_features(new_input_uri)[0]   ### getting the audio features of the chosen track\n",
    "        my_dict_new = { key: [my_dict[key]] for key in list(my_dict.keys()) }   ### converting the extracted audio features for dataframe format\n",
    "        audio_feature_df = pd.DataFrame(my_dict_new)   ### saving the extracted audio features in a dataframe\n",
    "\n",
    "        audio_feature_df.drop(columns=['type','uri','track_href','analysis_url','duration_ms','time_signature','id'],inplace=True)   ### dropping irrelvant columns from audio feature dataframe\n",
    "\n",
    "        audio_feature_tf_df = scaler.transform(audio_feature_df)   ### scaling the audio feature data with the scaler from the model (refer to Jupyter Notebook 2_Clustering) \n",
    "        user_input_cluster = kmeans.predict(audio_feature_tf_df)[0]   ### predicting the cluster of the user in put of song based on the K-means model (refer to Jupyter Notebook 2_Clustering)\n",
    "\n",
    "        track_id = upsampled_df[upsampled_df['cluster']==user_input_cluster].sample(1)['track_id'].values[0]   ### looking for the track id from the song database, sampling from tracks in the same cluster as the predicted cluster\n",
    "        print('\\n')\n",
    "        print('Here is another similar song for you.')\n",
    "        return IFrame(src=\"https://open.spotify.com/embed/track/\"+track_id, width=\"420\", height=\"80\", frameborder=\"0\", allowtransparency=\"true\", allow=\"encrypted-media\",)   ### displaying the embedded spotify player for the recommended song"
   ]
  },
  {
   "cell_type": "markdown",
   "id": "246c20d9",
   "metadata": {},
   "source": [
    "### Song Recommender"
   ]
  },
  {
   "cell_type": "markdown",
   "id": "d96cceca",
   "metadata": {},
   "source": [
    "Mechanism: if the song input is on the current Billboard top 100 list, another song from the top chart will be recommended. Otherwise, a similar song will be recommended. Try it out!"
   ]
  },
  {
   "cell_type": "code",
   "execution_count": 7,
   "id": "8132c0f2",
   "metadata": {},
   "outputs": [
    {
     "name": "stdout",
     "output_type": "stream",
     "text": [
      "Please input a song: It feels so good\n",
      "The song you input is not in the top 100 chart.\n",
      "1. Sonique (It Feels So Good)\n",
      "2. Paramore (Misery Business)\n",
      "3. Sonique (It Feels So Good - Radio Edit)\n",
      "4. Olly Murs (Troublemaker (feat. Flo Rida))\n",
      "5. Sonique (It Feels So Good - 12\" Breakbeat Mix)\n",
      "\n",
      "0. The song I want is not on the list.\n",
      "Which song and artists do you mean? Please input the number: 1\n",
      "\n",
      "\n"
     ]
    },
    {
     "name": "stderr",
     "output_type": "stream",
     "text": [
      "C:\\Users\\Bosco\\anaconda3\\envs\\DA_ENV\\lib\\site-packages\\sklearn\\base.py:445: UserWarning: X does not have valid feature names, but KMeans was fitted with feature names\n",
      "  warnings.warn(\n"
     ]
    },
    {
     "name": "stdout",
     "output_type": "stream",
     "text": [
      "\n",
      "\n",
      "Here is another similar song for you.\n"
     ]
    },
    {
     "data": {
      "text/html": [
       "\n",
       "        <iframe\n",
       "            width=\"420\"\n",
       "            height=\"80\"\n",
       "            src=\"https://open.spotify.com/embed/track/1dzQoRqT5ucxXVaAhTcT0J?frameborder=0&allowtransparency=true&allow=encrypted-media\"\n",
       "            frameborder=\"0\"\n",
       "            allowfullscreen\n",
       "            \n",
       "        ></iframe>\n",
       "        "
      ],
      "text/plain": [
       "<IPython.lib.display.IFrame at 0x14f6fb88d90>"
      ]
     },
     "execution_count": 7,
     "metadata": {},
     "output_type": "execute_result"
    }
   ],
   "source": [
    "# run it and get a song recommendation!\n",
    "song_recommender()"
   ]
  },
  {
   "cell_type": "code",
   "execution_count": null,
   "id": "aa22e40a",
   "metadata": {},
   "outputs": [],
   "source": []
  }
 ],
 "metadata": {
  "kernelspec": {
   "display_name": "Python 3 (ipykernel)",
   "language": "python",
   "name": "python3"
  },
  "language_info": {
   "codemirror_mode": {
    "name": "ipython",
    "version": 3
   },
   "file_extension": ".py",
   "mimetype": "text/x-python",
   "name": "python",
   "nbconvert_exporter": "python",
   "pygments_lexer": "ipython3",
   "version": "3.9.7"
  },
  "toc": {
   "base_numbering": 1,
   "nav_menu": {},
   "number_sections": true,
   "sideBar": true,
   "skip_h1_title": false,
   "title_cell": "Table of Contents",
   "title_sidebar": "Contents",
   "toc_cell": false,
   "toc_position": {},
   "toc_section_display": true,
   "toc_window_display": true
  }
 },
 "nbformat": 4,
 "nbformat_minor": 5
}
