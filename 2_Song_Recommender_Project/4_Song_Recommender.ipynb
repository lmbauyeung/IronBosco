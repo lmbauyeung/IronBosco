{
 "cells": [
  {
   "cell_type": "markdown",
   "id": "c0a20a2f",
   "metadata": {},
   "source": [
    "### Model Preparation"
   ]
  },
  {
   "cell_type": "code",
   "execution_count": 1,
   "id": "16f7e12c",
   "metadata": {
    "code_folding": [
     0
    ]
   },
   "outputs": [
    {
     "ename": "ModuleNotFoundError",
     "evalue": "No module named 'config'",
     "output_type": "error",
     "traceback": [
      "\u001b[1;31m---------------------------------------------------------------------------\u001b[0m",
      "\u001b[1;31mModuleNotFoundError\u001b[0m                       Traceback (most recent call last)",
      "\u001b[1;32m~\\AppData\\Local\\Temp/ipykernel_14952/1716882419.py\u001b[0m in \u001b[0;36m<module>\u001b[1;34m\u001b[0m\n\u001b[0;32m      1\u001b[0m \u001b[1;31m# importing from libraries\u001b[0m\u001b[1;33m\u001b[0m\u001b[1;33m\u001b[0m\u001b[0m\n\u001b[1;32m----> 2\u001b[1;33m \u001b[1;32mimport\u001b[0m \u001b[0mconfig\u001b[0m\u001b[1;33m\u001b[0m\u001b[1;33m\u001b[0m\u001b[0m\n\u001b[0m\u001b[0;32m      3\u001b[0m \u001b[1;32mimport\u001b[0m \u001b[0mspotipy\u001b[0m\u001b[1;33m\u001b[0m\u001b[1;33m\u001b[0m\u001b[0m\n\u001b[0;32m      4\u001b[0m \u001b[1;32mimport\u001b[0m \u001b[0mnumpy\u001b[0m \u001b[1;32mas\u001b[0m \u001b[0mnp\u001b[0m\u001b[1;33m\u001b[0m\u001b[1;33m\u001b[0m\u001b[0m\n\u001b[0;32m      5\u001b[0m \u001b[1;32mimport\u001b[0m \u001b[0mpandas\u001b[0m \u001b[1;32mas\u001b[0m \u001b[0mpd\u001b[0m\u001b[1;33m\u001b[0m\u001b[1;33m\u001b[0m\u001b[0m\n",
      "\u001b[1;31mModuleNotFoundError\u001b[0m: No module named 'config'"
     ]
    }
   ],
   "source": [
    "# importing from libraries\n",
    "import config\n",
    "import spotipy\n",
    "import numpy as np\n",
    "import pandas as pd\n",
    "import pickle\n",
    "from sklearn.preprocessing import StandardScaler\n",
    "from pyjarowinkler import distance\n",
    "from IPython.display import IFrame\n",
    "from spotipy.oauth2 import SpotifyClientCredentials\n",
    "\n",
    "#Initialize SpotiPy with user credentias\n",
    "sp = spotipy.Spotify(auth_manager=SpotifyClientCredentials(client_id= config.c_id,\n",
    "                                                           client_secret= config.c_se))"
   ]
  },
  {
   "cell_type": "code",
   "execution_count": 2,
   "id": "fe0e39fa",
   "metadata": {
    "code_folding": [
     0
    ]
   },
   "outputs": [
    {
     "ename": "NameError",
     "evalue": "name 'pd' is not defined",
     "output_type": "error",
     "traceback": [
      "\u001b[1;31m---------------------------------------------------------------------------\u001b[0m",
      "\u001b[1;31mNameError\u001b[0m                                 Traceback (most recent call last)",
      "\u001b[1;32m~\\AppData\\Local\\Temp/ipykernel_14952/3573505206.py\u001b[0m in \u001b[0;36m<module>\u001b[1;34m\u001b[0m\n\u001b[0;32m      1\u001b[0m \u001b[1;31m# loading top 100 chart (top_chart_df) and song database (upsampled_df)\u001b[0m\u001b[1;33m\u001b[0m\u001b[1;33m\u001b[0m\u001b[0m\n\u001b[1;32m----> 2\u001b[1;33m \u001b[0mtop_chart_df\u001b[0m \u001b[1;33m=\u001b[0m \u001b[0mpd\u001b[0m\u001b[1;33m.\u001b[0m\u001b[0mread_csv\u001b[0m\u001b[1;33m(\u001b[0m\u001b[1;34m'top_chart_df.csv'\u001b[0m\u001b[1;33m)\u001b[0m\u001b[1;33m\u001b[0m\u001b[1;33m\u001b[0m\u001b[0m\n\u001b[0m\u001b[0;32m      3\u001b[0m \u001b[0mupsampled_df\u001b[0m \u001b[1;33m=\u001b[0m \u001b[0mpd\u001b[0m\u001b[1;33m.\u001b[0m\u001b[0mread_csv\u001b[0m\u001b[1;33m(\u001b[0m\u001b[1;34m'upsampled_df.csv'\u001b[0m\u001b[1;33m)\u001b[0m\u001b[1;33m\u001b[0m\u001b[1;33m\u001b[0m\u001b[0m\n",
      "\u001b[1;31mNameError\u001b[0m: name 'pd' is not defined"
     ]
    }
   ],
   "source": [
    "# loading top 100 chart (top_chart_df) and song database (upsampled_df)\n",
    "top_chart_df = pd.read_csv('top_chart_df.csv')\n",
    "upsampled_df = pd.read_csv('upsampled_df.csv')"
   ]
  },
  {
   "cell_type": "code",
   "execution_count": 155,
   "id": "c1ea2e85",
   "metadata": {
    "code_folding": [
     0
    ]
   },
   "outputs": [],
   "source": [
    "# function for loading files with pickle\n",
    "def load(filename = \"filename.pickle\"): \n",
    "    try: \n",
    "        with open(filename, \"rb\") as f: \n",
    "            return pickle.load(f) \n",
    "        \n",
    "    except FileNotFoundError: \n",
    "        print(\"File not found!\") "
   ]
  },
  {
   "cell_type": "code",
   "execution_count": 156,
   "id": "c1cdcfba",
   "metadata": {
    "code_folding": [
     0
    ]
   },
   "outputs": [],
   "source": [
    "# loading scaler\n",
    "scaler = load(\"Model/scaler.pickle\")"
   ]
  },
  {
   "cell_type": "code",
   "execution_count": 157,
   "id": "9221b386",
   "metadata": {
    "code_folding": [
     0
    ]
   },
   "outputs": [],
   "source": [
    "# loading kmeans\n",
    "kmeans = load(\"Model/kmeans.pickle\")"
   ]
  },
  {
   "cell_type": "markdown",
   "id": "d818339b",
   "metadata": {},
   "source": [
    "### Function For Song Recommender"
   ]
  },
  {
   "cell_type": "code",
   "execution_count": 173,
   "id": "afe8c911",
   "metadata": {
    "code_folding": []
   },
   "outputs": [],
   "source": [
    "# function for recommending similar songs\n",
    "def song_recommender():\n",
    "    user_input = input(\"Please input a song: \")   ### asking user for an input\n",
    "    song_list_cleaned = [each_string.replace(\" \",\"\").lower() for each_string in list(top_chart_df.title)]   ### getting generic song titles by converting to lowercase and removing space\n",
    "    artist_list_cleaned = [each_string.replace(\" \",\"\").lower() for each_string in list(top_chart_df.artist)]   ### getting generic artist names by converting to lowercase and removing space\n",
    "    user_input_cleaned = user_input.replace(\" \", \"\").lower()   ### getting generic user input of song by converting to lowercase and removing space\n",
    "    \n",
    "    duplicate_check = top_chart_df[top_chart_df.title.duplicated(keep=False)]   ### checking for tracks in top chart having the same title\n",
    "    duplicate_list = [each_string.replace(\" \",\"\").lower() for each_string in list(duplicate_check.title)]   ### getting generic duplicate song titles by converting to lowercase and removing space\n",
    "    \n",
    "    similarity_count = 0\n",
    "    similarity_song_list = []\n",
    "    similarity_score_list = []\n",
    "    for i in range(0, len(top_chart_df.title)):   ### computing the text similarity between 0 and 1 based on the cleaned user input with each cleaned song title from the top chart\n",
    "        similarity_score = distance.get_jaro_distance(user_input_cleaned, song_list_cleaned[i], winkler=True, scaling=0.1)\n",
    "        similarity_song_list.append(top_chart_df.title[i])\n",
    "        similarity_score_list.append(similarity_score)\n",
    "        if similarity_score > 0.9:   ### a song is matched with the user input of song if their similarity score is larger than 0.9\n",
    "            similarity_count = similarity_count+1\n",
    "        else:\n",
    "            similarity_count = similarity_count   ### if no song from the top chart has a similarity score more than 0.9, then user input of song is not in top chart and similarity count will be zero\n",
    "            \n",
    "    similarity_df = pd.DataFrame({\"title\":similarity_song_list, \"similarity\":similarity_score_list})   ### saving the similarity score results in a dataframe\n",
    "    \n",
    "    user_input_corrected = similarity_df.loc[similarity_df.similarity == max(similarity_df.similarity), \"title\"].values[0]   ### correcting the user input of song with the most similar song title from the top chart, given similarity score is larger than 0.9\n",
    "    user_input_corrected_and_cleaned = user_input_corrected.replace(\" \",\"\").lower()   ### getting generic corrected user input of song by converting to lowercase and removing space\n",
    "    \n",
    "    ## when there is a song match from the top chart\n",
    "    if similarity_count>0:\n",
    "        while True:\n",
    "            try:\n",
    "                suggestion = top_chart_df[top_chart_df[\"title\"]!=user_input_corrected].sample(1)   ### looking for another track in the top chart as track suggestion\n",
    "                suggestion_title = suggestion.iloc[0][0]   ### locating the track suggestion title\n",
    "                suggestion_artist = suggestion.iloc[0][1]   ### locating the track suggestion artist\n",
    "                suggestion_id = sp.search(q=suggestion_title+\" \"+suggestion_artist ,limit=1,market=\"GB\")['tracks']['items'][0]['id']   ### looking for the spotify id of the track suggestion\n",
    "            except:\n",
    "                continue\n",
    "            else:\n",
    "                break\n",
    "        \n",
    "        while True:\n",
    "            if user_input_corrected_and_cleaned in duplicate_list:   ### checking if there are duplicate titles in the top chart for the user input of song\n",
    "                print(top_chart_df[top_chart_df.title == user_input_corrected])   ### displaying the duplicate song titles and its artists\n",
    "                print('\\n')\n",
    "                artist_user_input = input(\"Which song do you mean? Please input the artist: \")   ### asking user to input the artist\n",
    "                artist_user_input_cleaned = artist_user_input.replace(\" \", \"\").lower()   ### getting generic user input of song by converting to lowercase and removing space\n",
    "\n",
    "                suggestion = top_chart_df[(top_chart_df[\"title\"]!=user_input_corrected) | (top_chart_df[\"artist\"]!=artist_user_input)].sample(1)   ### looking for another track in the top chart as track suggestion\n",
    "                suggestion_title = suggestion.iloc[0][0]   ### locating the track suggestion title\n",
    "                suggestion_artist = suggestion.iloc[0][1]   ### locating the track suggestion artist\n",
    "                try:\n",
    "                    suggestion_id = sp.search(q=suggestion_title+\" \"+suggestion_artist ,limit=1,market=\"GB\")['tracks']['items'][0]['id']   ### looking for the spotify id of the track suggestion\n",
    "                    if artist_user_input_cleaned in artist_list_cleaned:   ### when user input of artist is correct\n",
    "                        break\n",
    "                except:\n",
    "                    continue\n",
    "            else:\n",
    "                break\n",
    "\n",
    "        print(\"\\nYour song is in the top 100 chart! Here is another one from the top chart for you.\")\n",
    "        return IFrame(src=\"https://open.spotify.com/embed/track/\"+suggestion_id, width=\"420\", height=\"80\", frameborder=\"0\", allowtransparency=\"true\", allow=\"encrypted-media\",)   ### displaying the embedded spotify player for the recommended song\n",
    "    \n",
    "    ## when there is no song match from the top chart\n",
    "    else:\n",
    "        print('The song you input is not in the top 100 chart.')\n",
    "    \n",
    "        result = sp.search(q=user_input ,limit=5,market=\"GB\")   ### searching with user input of song on spotify and returning top 5 search results\n",
    "        \n",
    "        while True:\n",
    "            if len(result['tracks']['items']) == 0:   ### when there is no result for the search of song\n",
    "                user_input = input('There is no result for your input, please try again: ')   ### asking user for a new input\n",
    "                result = sp.search(q=user_input ,limit=5,market=\"GB\")   ### searching with user input of song on spotify and returning top 5 search results\n",
    "            else:\n",
    "                for i in range(0,len(result['tracks']['items'])):   ### displaying the top 5 search results\n",
    "                    print(str(i+1)+\". \"+(result['tracks']['items'][i]['artists'][0]['name'])+\" (\"+result['tracks']['items'][i]['name']+\")\")\n",
    "                print('\\n0. The song I want is not on the list.')\n",
    "                try:\n",
    "                    number_input = int(input(\"Which song and artists do you mean? Please input the number: \"))   ### asking user to choose from the top search results\n",
    "                    print('\\n')\n",
    "                except:\n",
    "                    print('\\nPlease input a vaild number.')\n",
    "                    continue\n",
    "                else:\n",
    "                    if int(number_input) == 0:   ### when the song wanted by user does not show up in the search results\n",
    "                        user_input = input('Please input a song again, artist name can be included for a better search result: ')   ### asking user for a new input\n",
    "                        result = sp.search(q=user_input ,limit=5,market=\"GB\")   ### searching with user input of song on spotify and returning top 5 search results\n",
    "                        continue\n",
    "                    elif int(number_input) in range(1, len(result['tracks']['items'])+1):   ### when user input a valid number\n",
    "                        break\n",
    "                    else:\n",
    "                        print('Please input a vaild number.')\n",
    "                        continue\n",
    "        \n",
    "        new_input_uri = result['tracks']['items'][number_input-1]['uri']   ### locating the track based on user input\n",
    "        my_dict = sp.audio_features(new_input_uri)[0]   ### getting the audio features of the chosen track\n",
    "        my_dict_new = { key: [my_dict[key]] for key in list(my_dict.keys()) }   ### converting the extracted audio features for dataframe format\n",
    "        audio_feature_df = pd.DataFrame(my_dict_new)   ### saving the extracted audio features in a dataframe\n",
    "\n",
    "        audio_feature_df.drop(columns=['type','uri','track_href','analysis_url','duration_ms','time_signature','id'],inplace=True)   ### dropping irrelvant columns from audio feature dataframe\n",
    "\n",
    "        audio_feature_tf_df = scaler.transform(audio_feature_df)   ### scaling the audio feature data with the scaler from the model (refer to Jupyter Notebook 2_Clustering) \n",
    "        user_input_cluster = kmeans.predict(audio_feature_tf_df)[0]   ### predicting the cluster of the user in put of song based on the K-means model (refer to Jupyter Notebook 2_Clustering)\n",
    "\n",
    "        track_id = upsampled_df[upsampled_df['cluster']==user_input_cluster].sample(1)['track_id'].values[0]   ### looking for the track id from the song database, sampling from tracks in the same cluster as the predicted cluster\n",
    "        print('\\n')\n",
    "        print('Here is another similar song for you.')\n",
    "        return IFrame(src=\"https://open.spotify.com/embed/track/\"+track_id, width=\"420\", height=\"80\", frameborder=\"0\", allowtransparency=\"true\", allow=\"encrypted-media\",)   ### displaying the embedded spotify player for the recommended song"
   ]
  },
  {
   "cell_type": "markdown",
   "id": "246c20d9",
   "metadata": {},
   "source": [
    "### Song Recommender"
   ]
  },
  {
   "cell_type": "markdown",
   "id": "d96cceca",
   "metadata": {},
   "source": [
    "Mechanism: if the song input is on the current Billboard top 100 list, another song from the top chart will be recommended. Otherwise, a similar song will be recommended. Try it out!"
   ]
  },
  {
   "cell_type": "code",
   "execution_count": 172,
   "id": "8132c0f2",
   "metadata": {},
   "outputs": [
    {
     "name": "stdout",
     "output_type": "stream",
     "text": [
      "Please input a song: it feels so good\n",
      "The song you input is not in the top 100 chart.\n",
      "1. Sonique (It Feels So Good)\n",
      "2. Paramore (Misery Business)\n",
      "3. Sonique (It Feels So Good - 12\" Breakbeat Mix)\n",
      "4. Sonique (It Feels So Good - Radio Edit)\n",
      "5. Taylor Swift (I Did Something Bad)\n",
      "\n",
      "0. The song I want is not on the list.\n",
      "Which song and artists do you mean? Please input the number: 1\n",
      "\n",
      "\n",
      "\n",
      "\n",
      "Here is another similar song for you.\n"
     ]
    },
    {
     "name": "stderr",
     "output_type": "stream",
     "text": [
      "C:\\Users\\Bosco\\anaconda3\\envs\\DA_ENV\\lib\\site-packages\\sklearn\\base.py:445: UserWarning: X does not have valid feature names, but KMeans was fitted with feature names\n",
      "  warnings.warn(\n",
      "C:\\Users\\Bosco\\AppData\\Local\\Temp/ipykernel_8308/713919156.py:108: UserWarning: Boolean Series key will be reindexed to match DataFrame index.\n",
      "  track_id = upsampled_df[upsampled_df['cluster']==user_input_cluster][(upsampled_df['genre']==main_genre_1) | (upsampled_df['genre']==main_genre_2)].sample(1)['track_id'].values[0]   ### looking for the track id from the song database, sampling from tracks in the same cluster as the predicted cluster\n"
     ]
    },
    {
     "data": {
      "text/html": [
       "\n",
       "        <iframe\n",
       "            width=\"420\"\n",
       "            height=\"80\"\n",
       "            src=\"https://open.spotify.com/embed/track/3wPPWcVuinAU7dXcJXtCID?frameborder=0&allowtransparency=true&allow=encrypted-media\"\n",
       "            frameborder=\"0\"\n",
       "            allowfullscreen\n",
       "            \n",
       "        ></iframe>\n",
       "        "
      ],
      "text/plain": [
       "<IPython.lib.display.IFrame at 0x1c1fdd28d30>"
      ]
     },
     "execution_count": 172,
     "metadata": {},
     "output_type": "execute_result"
    }
   ],
   "source": [
    "# run it and get a song recommendation!\n",
    "song_recommender()"
   ]
  },
  {
   "cell_type": "code",
   "execution_count": 171,
   "id": "53078b2d",
   "metadata": {},
   "outputs": [
    {
     "data": {
      "text/html": [
       "<div>\n",
       "<style scoped>\n",
       "    .dataframe tbody tr th:only-of-type {\n",
       "        vertical-align: middle;\n",
       "    }\n",
       "\n",
       "    .dataframe tbody tr th {\n",
       "        vertical-align: top;\n",
       "    }\n",
       "\n",
       "    .dataframe thead th {\n",
       "        text-align: right;\n",
       "    }\n",
       "</style>\n",
       "<table border=\"1\" class=\"dataframe\">\n",
       "  <thead>\n",
       "    <tr style=\"text-align: right;\">\n",
       "      <th></th>\n",
       "      <th>title</th>\n",
       "      <th>artist</th>\n",
       "      <th>track_id</th>\n",
       "      <th>genre</th>\n",
       "      <th>danceability</th>\n",
       "      <th>energy</th>\n",
       "      <th>key</th>\n",
       "      <th>loudness</th>\n",
       "      <th>mode</th>\n",
       "      <th>speechiness</th>\n",
       "      <th>acousticness</th>\n",
       "      <th>instrumentalness</th>\n",
       "      <th>liveness</th>\n",
       "      <th>valence</th>\n",
       "      <th>tempo</th>\n",
       "      <th>cluster</th>\n",
       "    </tr>\n",
       "  </thead>\n",
       "  <tbody>\n",
       "    <tr>\n",
       "      <th>1853</th>\n",
       "      <td>Astronaut In The Ocean</td>\n",
       "      <td>Masked Wolf</td>\n",
       "      <td>6E90gq0KO6FYZVOXx8kCcC</td>\n",
       "      <td>pop</td>\n",
       "      <td>0.778</td>\n",
       "      <td>0.695</td>\n",
       "      <td>4</td>\n",
       "      <td>-6.865</td>\n",
       "      <td>0</td>\n",
       "      <td>0.0913</td>\n",
       "      <td>0.175</td>\n",
       "      <td>0.0</td>\n",
       "      <td>0.15</td>\n",
       "      <td>0.472</td>\n",
       "      <td>149.996</td>\n",
       "      <td>0</td>\n",
       "    </tr>\n",
       "  </tbody>\n",
       "</table>\n",
       "</div>"
      ],
      "text/plain": [
       "                       title       artist                track_id genre  \\\n",
       "1853  Astronaut In The Ocean  Masked Wolf  6E90gq0KO6FYZVOXx8kCcC   pop   \n",
       "\n",
       "      danceability  energy  key  loudness  mode  speechiness  acousticness  \\\n",
       "1853         0.778   0.695    4    -6.865     0       0.0913         0.175   \n",
       "\n",
       "      instrumentalness  liveness  valence    tempo  cluster  \n",
       "1853               0.0      0.15    0.472  149.996        0  "
      ]
     },
     "execution_count": 171,
     "metadata": {},
     "output_type": "execute_result"
    }
   ],
   "source": [
    "upsampled_df[upsampled_df['title']==\"Astronaut In The Ocean\"]"
   ]
  },
  {
   "cell_type": "code",
   "execution_count": 81,
   "id": "bdecbe46",
   "metadata": {},
   "outputs": [
    {
     "data": {
      "text/plain": [
       "house      137\n",
       "rnb        137\n",
       "pop        135\n",
       "dance      116\n",
       "hiphop      60\n",
       "rock        46\n",
       "techno      44\n",
       "kpop        43\n",
       "country     10\n",
       "jazz         8\n",
       "metal        2\n",
       "Name: genre, dtype: int64"
      ]
     },
     "execution_count": 81,
     "metadata": {},
     "output_type": "execute_result"
    }
   ],
   "source": [
    "upsampled_df[upsampled_df['cluster']==1].genre.value_counts()"
   ]
  },
  {
   "cell_type": "code",
   "execution_count": 93,
   "id": "4f89b0ba",
   "metadata": {},
   "outputs": [
    {
     "data": {
      "text/html": [
       "<div>\n",
       "<style scoped>\n",
       "    .dataframe tbody tr th:only-of-type {\n",
       "        vertical-align: middle;\n",
       "    }\n",
       "\n",
       "    .dataframe tbody tr th {\n",
       "        vertical-align: top;\n",
       "    }\n",
       "\n",
       "    .dataframe thead th {\n",
       "        text-align: right;\n",
       "    }\n",
       "</style>\n",
       "<table border=\"1\" class=\"dataframe\">\n",
       "  <thead>\n",
       "    <tr style=\"text-align: right;\">\n",
       "      <th></th>\n",
       "      <th>title</th>\n",
       "      <th>artist</th>\n",
       "      <th>track_id</th>\n",
       "      <th>genre</th>\n",
       "      <th>danceability</th>\n",
       "      <th>energy</th>\n",
       "      <th>key</th>\n",
       "      <th>loudness</th>\n",
       "      <th>mode</th>\n",
       "      <th>speechiness</th>\n",
       "      <th>acousticness</th>\n",
       "      <th>instrumentalness</th>\n",
       "      <th>liveness</th>\n",
       "      <th>valence</th>\n",
       "      <th>tempo</th>\n",
       "      <th>cluster</th>\n",
       "    </tr>\n",
       "  </thead>\n",
       "  <tbody>\n",
       "    <tr>\n",
       "      <th>4439</th>\n",
       "      <td>Bass (feat. Tech N9ne &amp; Hopsin)</td>\n",
       "      <td>Merkules, Hopsin, Tech N9ne</td>\n",
       "      <td>24PceGkIgHsyaLXNWDtwCf</td>\n",
       "      <td>hiphop</td>\n",
       "      <td>0.737</td>\n",
       "      <td>0.811</td>\n",
       "      <td>8</td>\n",
       "      <td>-7.123</td>\n",
       "      <td>1</td>\n",
       "      <td>0.207</td>\n",
       "      <td>0.52500</td>\n",
       "      <td>0.048200</td>\n",
       "      <td>0.2090</td>\n",
       "      <td>0.456</td>\n",
       "      <td>142.025</td>\n",
       "      <td>14</td>\n",
       "    </tr>\n",
       "    <tr>\n",
       "      <th>4443</th>\n",
       "      <td>What Happened To That Boy</td>\n",
       "      <td>Baby, Clipse</td>\n",
       "      <td>20Sp7dNLM3NjIu3TInDqjq</td>\n",
       "      <td>hiphop</td>\n",
       "      <td>0.764</td>\n",
       "      <td>0.873</td>\n",
       "      <td>2</td>\n",
       "      <td>-6.210</td>\n",
       "      <td>1</td>\n",
       "      <td>0.291</td>\n",
       "      <td>0.06080</td>\n",
       "      <td>0.000363</td>\n",
       "      <td>0.0757</td>\n",
       "      <td>0.719</td>\n",
       "      <td>93.073</td>\n",
       "      <td>14</td>\n",
       "    </tr>\n",
       "    <tr>\n",
       "      <th>4449</th>\n",
       "      <td>Business</td>\n",
       "      <td>Eminem</td>\n",
       "      <td>0x60P5taxdI5pcGbqbap6S</td>\n",
       "      <td>hiphop</td>\n",
       "      <td>0.901</td>\n",
       "      <td>0.813</td>\n",
       "      <td>7</td>\n",
       "      <td>-4.509</td>\n",
       "      <td>1</td>\n",
       "      <td>0.199</td>\n",
       "      <td>0.03250</td>\n",
       "      <td>0.000011</td>\n",
       "      <td>0.1440</td>\n",
       "      <td>0.502</td>\n",
       "      <td>96.442</td>\n",
       "      <td>14</td>\n",
       "    </tr>\n",
       "    <tr>\n",
       "      <th>4450</th>\n",
       "      <td>Offbeat</td>\n",
       "      <td>Wais P</td>\n",
       "      <td>39SThuiUXC6L9Yx8RVA7WZ</td>\n",
       "      <td>hiphop</td>\n",
       "      <td>0.575</td>\n",
       "      <td>0.815</td>\n",
       "      <td>6</td>\n",
       "      <td>-5.467</td>\n",
       "      <td>1</td>\n",
       "      <td>0.329</td>\n",
       "      <td>0.05760</td>\n",
       "      <td>0.000000</td>\n",
       "      <td>0.0644</td>\n",
       "      <td>0.779</td>\n",
       "      <td>83.695</td>\n",
       "      <td>14</td>\n",
       "    </tr>\n",
       "    <tr>\n",
       "      <th>4451</th>\n",
       "      <td>Wipe the Slate Clean</td>\n",
       "      <td>BIG HUD, Rittz</td>\n",
       "      <td>3FgN48OjEzszUrIHjOTxDe</td>\n",
       "      <td>hiphop</td>\n",
       "      <td>0.858</td>\n",
       "      <td>0.459</td>\n",
       "      <td>6</td>\n",
       "      <td>-10.312</td>\n",
       "      <td>1</td>\n",
       "      <td>0.269</td>\n",
       "      <td>0.20900</td>\n",
       "      <td>0.000000</td>\n",
       "      <td>0.1040</td>\n",
       "      <td>0.722</td>\n",
       "      <td>134.940</td>\n",
       "      <td>14</td>\n",
       "    </tr>\n",
       "    <tr>\n",
       "      <th>...</th>\n",
       "      <td>...</td>\n",
       "      <td>...</td>\n",
       "      <td>...</td>\n",
       "      <td>...</td>\n",
       "      <td>...</td>\n",
       "      <td>...</td>\n",
       "      <td>...</td>\n",
       "      <td>...</td>\n",
       "      <td>...</td>\n",
       "      <td>...</td>\n",
       "      <td>...</td>\n",
       "      <td>...</td>\n",
       "      <td>...</td>\n",
       "      <td>...</td>\n",
       "      <td>...</td>\n",
       "      <td>...</td>\n",
       "    </tr>\n",
       "    <tr>\n",
       "      <th>5216</th>\n",
       "      <td>Just A Lil Bit</td>\n",
       "      <td>50 Cent</td>\n",
       "      <td>4nva9EpKntUTs6CRSGBCn9</td>\n",
       "      <td>hiphop</td>\n",
       "      <td>0.489</td>\n",
       "      <td>0.692</td>\n",
       "      <td>1</td>\n",
       "      <td>-6.672</td>\n",
       "      <td>1</td>\n",
       "      <td>0.410</td>\n",
       "      <td>0.03220</td>\n",
       "      <td>0.006080</td>\n",
       "      <td>0.3150</td>\n",
       "      <td>0.527</td>\n",
       "      <td>96.946</td>\n",
       "      <td>14</td>\n",
       "    </tr>\n",
       "    <tr>\n",
       "      <th>5224</th>\n",
       "      <td>Our Way</td>\n",
       "      <td>Just Juice, Della Kinetic</td>\n",
       "      <td>3wQsGLMB7nOHRvl4Mjh4g9</td>\n",
       "      <td>hiphop</td>\n",
       "      <td>0.775</td>\n",
       "      <td>0.692</td>\n",
       "      <td>8</td>\n",
       "      <td>-6.724</td>\n",
       "      <td>1</td>\n",
       "      <td>0.236</td>\n",
       "      <td>0.18300</td>\n",
       "      <td>0.000000</td>\n",
       "      <td>0.0983</td>\n",
       "      <td>0.274</td>\n",
       "      <td>132.062</td>\n",
       "      <td>14</td>\n",
       "    </tr>\n",
       "    <tr>\n",
       "      <th>5228</th>\n",
       "      <td>Ambitionz Az A Ridah</td>\n",
       "      <td>2Pac</td>\n",
       "      <td>5g9lS8deSIxItFBmZRC4vN</td>\n",
       "      <td>hiphop</td>\n",
       "      <td>0.801</td>\n",
       "      <td>0.910</td>\n",
       "      <td>2</td>\n",
       "      <td>-6.566</td>\n",
       "      <td>1</td>\n",
       "      <td>0.225</td>\n",
       "      <td>0.00239</td>\n",
       "      <td>0.000891</td>\n",
       "      <td>0.0737</td>\n",
       "      <td>0.805</td>\n",
       "      <td>87.277</td>\n",
       "      <td>14</td>\n",
       "    </tr>\n",
       "    <tr>\n",
       "      <th>5232</th>\n",
       "      <td>Pornographic</td>\n",
       "      <td>Tech N9ne</td>\n",
       "      <td>1HZoGJfy2ds6AVnVnPMUTP</td>\n",
       "      <td>hiphop</td>\n",
       "      <td>0.718</td>\n",
       "      <td>0.796</td>\n",
       "      <td>2</td>\n",
       "      <td>-4.935</td>\n",
       "      <td>1</td>\n",
       "      <td>0.356</td>\n",
       "      <td>0.16500</td>\n",
       "      <td>0.000000</td>\n",
       "      <td>0.1710</td>\n",
       "      <td>0.378</td>\n",
       "      <td>81.924</td>\n",
       "      <td>14</td>\n",
       "    </tr>\n",
       "    <tr>\n",
       "      <th>5235</th>\n",
       "      <td>Through The Wire</td>\n",
       "      <td>Kanye West</td>\n",
       "      <td>4mmkhcEm1Ljy1U9nwtsxUo</td>\n",
       "      <td>hiphop</td>\n",
       "      <td>0.571</td>\n",
       "      <td>0.739</td>\n",
       "      <td>7</td>\n",
       "      <td>-6.110</td>\n",
       "      <td>1</td>\n",
       "      <td>0.247</td>\n",
       "      <td>0.00865</td>\n",
       "      <td>0.000005</td>\n",
       "      <td>0.1580</td>\n",
       "      <td>0.660</td>\n",
       "      <td>83.089</td>\n",
       "      <td>14</td>\n",
       "    </tr>\n",
       "  </tbody>\n",
       "</table>\n",
       "<p>188 rows × 16 columns</p>\n",
       "</div>"
      ],
      "text/plain": [
       "                                title                       artist  \\\n",
       "4439  Bass (feat. Tech N9ne & Hopsin)  Merkules, Hopsin, Tech N9ne   \n",
       "4443        What Happened To That Boy                 Baby, Clipse   \n",
       "4449                         Business                       Eminem   \n",
       "4450                          Offbeat                       Wais P   \n",
       "4451             Wipe the Slate Clean               BIG HUD, Rittz   \n",
       "...                               ...                          ...   \n",
       "5216                   Just A Lil Bit                      50 Cent   \n",
       "5224                          Our Way    Just Juice, Della Kinetic   \n",
       "5228             Ambitionz Az A Ridah                         2Pac   \n",
       "5232                     Pornographic                    Tech N9ne   \n",
       "5235                 Through The Wire                   Kanye West   \n",
       "\n",
       "                    track_id   genre  danceability  energy  key  loudness  \\\n",
       "4439  24PceGkIgHsyaLXNWDtwCf  hiphop         0.737   0.811    8    -7.123   \n",
       "4443  20Sp7dNLM3NjIu3TInDqjq  hiphop         0.764   0.873    2    -6.210   \n",
       "4449  0x60P5taxdI5pcGbqbap6S  hiphop         0.901   0.813    7    -4.509   \n",
       "4450  39SThuiUXC6L9Yx8RVA7WZ  hiphop         0.575   0.815    6    -5.467   \n",
       "4451  3FgN48OjEzszUrIHjOTxDe  hiphop         0.858   0.459    6   -10.312   \n",
       "...                      ...     ...           ...     ...  ...       ...   \n",
       "5216  4nva9EpKntUTs6CRSGBCn9  hiphop         0.489   0.692    1    -6.672   \n",
       "5224  3wQsGLMB7nOHRvl4Mjh4g9  hiphop         0.775   0.692    8    -6.724   \n",
       "5228  5g9lS8deSIxItFBmZRC4vN  hiphop         0.801   0.910    2    -6.566   \n",
       "5232  1HZoGJfy2ds6AVnVnPMUTP  hiphop         0.718   0.796    2    -4.935   \n",
       "5235  4mmkhcEm1Ljy1U9nwtsxUo  hiphop         0.571   0.739    7    -6.110   \n",
       "\n",
       "      mode  speechiness  acousticness  instrumentalness  liveness  valence  \\\n",
       "4439     1        0.207       0.52500          0.048200    0.2090    0.456   \n",
       "4443     1        0.291       0.06080          0.000363    0.0757    0.719   \n",
       "4449     1        0.199       0.03250          0.000011    0.1440    0.502   \n",
       "4450     1        0.329       0.05760          0.000000    0.0644    0.779   \n",
       "4451     1        0.269       0.20900          0.000000    0.1040    0.722   \n",
       "...    ...          ...           ...               ...       ...      ...   \n",
       "5216     1        0.410       0.03220          0.006080    0.3150    0.527   \n",
       "5224     1        0.236       0.18300          0.000000    0.0983    0.274   \n",
       "5228     1        0.225       0.00239          0.000891    0.0737    0.805   \n",
       "5232     1        0.356       0.16500          0.000000    0.1710    0.378   \n",
       "5235     1        0.247       0.00865          0.000005    0.1580    0.660   \n",
       "\n",
       "        tempo  cluster  \n",
       "4439  142.025       14  \n",
       "4443   93.073       14  \n",
       "4449   96.442       14  \n",
       "4450   83.695       14  \n",
       "4451  134.940       14  \n",
       "...       ...      ...  \n",
       "5216   96.946       14  \n",
       "5224  132.062       14  \n",
       "5228   87.277       14  \n",
       "5232   81.924       14  \n",
       "5235   83.089       14  \n",
       "\n",
       "[188 rows x 16 columns]"
      ]
     },
     "execution_count": 93,
     "metadata": {},
     "output_type": "execute_result"
    }
   ],
   "source": [
    "upsampled_df[(upsampled_df['genre']==upsampled_df[upsampled_df['cluster']==14].genre.value_counts().index[0]) & (upsampled_df['cluster']==14) ]"
   ]
  },
  {
   "cell_type": "code",
   "execution_count": 128,
   "id": "de1a5dd2",
   "metadata": {},
   "outputs": [
    {
     "name": "stderr",
     "output_type": "stream",
     "text": [
      "C:\\Users\\Bosco\\AppData\\Local\\Temp/ipykernel_8308/722036926.py:1: UserWarning: Boolean Series key will be reindexed to match DataFrame index.\n",
      "  upsampled_df[upsampled_df['cluster']==14][(upsampled_df['genre']==test_genre[0]) | (upsampled_df['genre']==test_genre[1]) | (upsampled_df['genre']==test_genre[2])].sample(1)\n"
     ]
    },
    {
     "data": {
      "text/html": [
       "<div>\n",
       "<style scoped>\n",
       "    .dataframe tbody tr th:only-of-type {\n",
       "        vertical-align: middle;\n",
       "    }\n",
       "\n",
       "    .dataframe tbody tr th {\n",
       "        vertical-align: top;\n",
       "    }\n",
       "\n",
       "    .dataframe thead th {\n",
       "        text-align: right;\n",
       "    }\n",
       "</style>\n",
       "<table border=\"1\" class=\"dataframe\">\n",
       "  <thead>\n",
       "    <tr style=\"text-align: right;\">\n",
       "      <th></th>\n",
       "      <th>title</th>\n",
       "      <th>artist</th>\n",
       "      <th>track_id</th>\n",
       "      <th>genre</th>\n",
       "      <th>danceability</th>\n",
       "      <th>energy</th>\n",
       "      <th>key</th>\n",
       "      <th>loudness</th>\n",
       "      <th>mode</th>\n",
       "      <th>speechiness</th>\n",
       "      <th>acousticness</th>\n",
       "      <th>instrumentalness</th>\n",
       "      <th>liveness</th>\n",
       "      <th>valence</th>\n",
       "      <th>tempo</th>\n",
       "      <th>cluster</th>\n",
       "    </tr>\n",
       "  </thead>\n",
       "  <tbody>\n",
       "    <tr>\n",
       "      <th>1369</th>\n",
       "      <td>Psycho (feat. Ty Dolla $ign)</td>\n",
       "      <td>Post Malone, Ty Dolla $ign</td>\n",
       "      <td>3swc6WTsr7rl9DqQKQA55C</td>\n",
       "      <td>pop</td>\n",
       "      <td>0.75</td>\n",
       "      <td>0.56</td>\n",
       "      <td>8</td>\n",
       "      <td>-8.094</td>\n",
       "      <td>1</td>\n",
       "      <td>0.105</td>\n",
       "      <td>0.546</td>\n",
       "      <td>0.0</td>\n",
       "      <td>0.111</td>\n",
       "      <td>0.459</td>\n",
       "      <td>140.06</td>\n",
       "      <td>14</td>\n",
       "    </tr>\n",
       "  </tbody>\n",
       "</table>\n",
       "</div>"
      ],
      "text/plain": [
       "                             title                      artist  \\\n",
       "1369  Psycho (feat. Ty Dolla $ign)  Post Malone, Ty Dolla $ign   \n",
       "\n",
       "                    track_id genre  danceability  energy  key  loudness  mode  \\\n",
       "1369  3swc6WTsr7rl9DqQKQA55C   pop          0.75    0.56    8    -8.094     1   \n",
       "\n",
       "      speechiness  acousticness  instrumentalness  liveness  valence   tempo  \\\n",
       "1369        0.105         0.546               0.0     0.111    0.459  140.06   \n",
       "\n",
       "      cluster  \n",
       "1369       14  "
      ]
     },
     "execution_count": 128,
     "metadata": {},
     "output_type": "execute_result"
    }
   ],
   "source": [
    "upsampled_df[upsampled_df['cluster']==14][(upsampled_df['genre']==test_genre[0]) | (upsampled_df['genre']==test_genre[1]) | (upsampled_df['genre']==test_genre[2])].sample(1)"
   ]
  },
  {
   "cell_type": "code",
   "execution_count": 91,
   "id": "8081216f",
   "metadata": {},
   "outputs": [
    {
     "data": {
      "text/plain": [
       "'rnb'"
      ]
     },
     "execution_count": 91,
     "metadata": {},
     "output_type": "execute_result"
    }
   ],
   "source": [
    "upsampled_df[upsampled_df['cluster']==14].genre.value_counts().index[1]"
   ]
  },
  {
   "cell_type": "code",
   "execution_count": 125,
   "id": "ed4f9557",
   "metadata": {},
   "outputs": [
    {
     "data": {
      "text/plain": [
       "Index(['country', 'jazz', 'pop'], dtype='object')"
      ]
     },
     "execution_count": 125,
     "metadata": {},
     "output_type": "execute_result"
    }
   ],
   "source": [
    "test_genre = upsampled_df[upsampled_df['cluster']==14].genre.value_counts().index[0:3]\n",
    "test_genre"
   ]
  },
  {
   "cell_type": "code",
   "execution_count": 129,
   "id": "b0664b6b",
   "metadata": {},
   "outputs": [
    {
     "ename": "AttributeError",
     "evalue": "'function' object has no attribute 'index'",
     "output_type": "error",
     "traceback": [
      "\u001b[1;31m---------------------------------------------------------------------------\u001b[0m",
      "\u001b[1;31mAttributeError\u001b[0m                            Traceback (most recent call last)",
      "\u001b[1;32m~\\AppData\\Local\\Temp/ipykernel_8308/187661106.py\u001b[0m in \u001b[0;36m<module>\u001b[1;34m\u001b[0m\n\u001b[1;32m----> 1\u001b[1;33m \u001b[0mupsampled_df\u001b[0m\u001b[1;33m[\u001b[0m\u001b[0mupsampled_df\u001b[0m\u001b[1;33m[\u001b[0m\u001b[1;34m'cluster'\u001b[0m\u001b[1;33m]\u001b[0m\u001b[1;33m==\u001b[0m\u001b[1;36m1\u001b[0m\u001b[1;33m]\u001b[0m\u001b[1;33m.\u001b[0m\u001b[0mgenre\u001b[0m\u001b[1;33m.\u001b[0m\u001b[0mvalue_counts\u001b[0m\u001b[1;33m.\u001b[0m\u001b[0mindex\u001b[0m\u001b[1;33m[\u001b[0m\u001b[1;36m0\u001b[0m\u001b[1;33m]\u001b[0m\u001b[1;33m\u001b[0m\u001b[1;33m\u001b[0m\u001b[0m\n\u001b[0m",
      "\u001b[1;31mAttributeError\u001b[0m: 'function' object has no attribute 'index'"
     ]
    }
   ],
   "source": [
    "upsampled_df[upsampled_df['cluster']==1].genre.value_counts"
   ]
  },
  {
   "cell_type": "code",
   "execution_count": null,
   "id": "aa22e40a",
   "metadata": {},
   "outputs": [],
   "source": []
  }
 ],
 "metadata": {
  "kernelspec": {
   "display_name": "Python 3 (ipykernel)",
   "language": "python",
   "name": "python3"
  },
  "language_info": {
   "codemirror_mode": {
    "name": "ipython",
    "version": 3
   },
   "file_extension": ".py",
   "mimetype": "text/x-python",
   "name": "python",
   "nbconvert_exporter": "python",
   "pygments_lexer": "ipython3",
   "version": "3.9.7"
  },
  "toc": {
   "base_numbering": 1,
   "nav_menu": {},
   "number_sections": true,
   "sideBar": true,
   "skip_h1_title": false,
   "title_cell": "Table of Contents",
   "title_sidebar": "Contents",
   "toc_cell": false,
   "toc_position": {},
   "toc_section_display": true,
   "toc_window_display": true
  }
 },
 "nbformat": 4,
 "nbformat_minor": 5
}
