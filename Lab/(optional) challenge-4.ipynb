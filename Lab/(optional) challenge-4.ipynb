{
 "cells": [
  {
   "cell_type": "markdown",
   "id": "0ff82a7a",
   "metadata": {},
   "source": [
    "# Challenge 4: Nested dictionaries"
   ]
  },
  {
   "cell_type": "markdown",
   "id": "5b92257c",
   "metadata": {},
   "source": [
    "Next week we will deal with web scraping and API's. Python wise this means since we will encounter file formats like JSON we will have to deal with a lot of dictionaries. Not only ordinary dictionaries, but also nested ones. In this lab we will train handling them.\n",
    "\n",
    "In the following, if we show values with markdown, just copy-paste them into your `# my code here` field if you need them."
   ]
  },
  {
   "cell_type": "markdown",
   "id": "26860027",
   "metadata": {},
   "source": [
    "**Warm up phase: Here are some keys and values. Use them to build a dictionary called `numbers_dct`**"
   ]
  },
  {
   "cell_type": "markdown",
   "id": "ce7b9144",
   "metadata": {},
   "source": [
    "```python\n",
    "keys = ['hundred', 'twohundred', 'threehundred']\n",
    "values = [10, 20, 30]\n",
    "```"
   ]
  },
  {
   "cell_type": "code",
   "execution_count": 232,
   "id": "0c49f983",
   "metadata": {},
   "outputs": [],
   "source": [
    "numbers_dct = {'hundred':10, 'twohundred':20, 'threehundred':30}"
   ]
  },
  {
   "cell_type": "markdown",
   "id": "82106422",
   "metadata": {},
   "source": [
    "**Here are two dictionaries. Merge their entries to a third dictionary**"
   ]
  },
  {
   "cell_type": "markdown",
   "id": "853eb147",
   "metadata": {},
   "source": [
    "```python\n",
    "dict1 = {'One': 1, 'Two': 2, 'Six': 6}\n",
    "dict2 = {'Thirty': 30, 'Fourty': 40, 'Fifty': 50}\n",
    "```"
   ]
  },
  {
   "cell_type": "code",
   "execution_count": 233,
   "id": "4f89673d",
   "metadata": {},
   "outputs": [],
   "source": [
    "dict1 = {'One': 1, 'Two': 2, 'Six': 6}\n",
    "dict2 = {'Thirty': 30, 'Fourty': 40, 'Fifty': 50}\n",
    "dict3 = {**dict1, **dict2}"
   ]
  },
  {
   "cell_type": "code",
   "execution_count": 234,
   "id": "0c626fd9",
   "metadata": {},
   "outputs": [
    {
     "data": {
      "text/plain": [
       "{'One': 1, 'Two': 2, 'Six': 6, 'Thirty': 30, 'Fourty': 40, 'Fifty': 50}"
      ]
     },
     "execution_count": 234,
     "metadata": {},
     "output_type": "execute_result"
    }
   ],
   "source": [
    "dict3"
   ]
  },
  {
   "cell_type": "markdown",
   "id": "6cc95e99",
   "metadata": {},
   "source": [
    "**Nested dictionaries**"
   ]
  },
  {
   "cell_type": "markdown",
   "id": "51bb54b7",
   "metadata": {},
   "source": [
    "Here comes a bigger, nested dictionary. Store Martin's French grades in a variable called martins_french by navigating to the value using keys and values. Remember, while you drill down the structure of the dictionary and you encounter a new dictionary, you can always use .keys() and .values() to not loose orientation."
   ]
  },
  {
   "cell_type": "code",
   "execution_count": 235,
   "id": "0609be7f",
   "metadata": {},
   "outputs": [],
   "source": [
    "sampleDict = {\n",
    "    \"class\":{\n",
    "        \"student_list\":{\n",
    "            \"Anna\":{\n",
    "                \"marks\":{\n",
    "                    \"physics\":[70, 20, 100, 20],\n",
    "                    \"history\":[80,10,55,35],\n",
    "                    \"math\":[100, 90, 70, 35],\n",
    "                }\n",
    "            },\n",
    "            \"Martin\":{\n",
    "                \"marks\":{\n",
    "                    \"french\":[20, 10, 35, 45],\n",
    "                    \"spanish\":[40, 75, 50, 90],\n",
    "                    \"math\": [90,85, 90, 95],\n",
    "                }\n",
    "            },\n",
    "            \"Richard\":{\n",
    "                \"marks\":{\n",
    "                    \"physics\":[10, 10, 0, 90],\n",
    "                    \"biology\":[50, 50, 70, 75],\n",
    "                    \"math\":[90, 70, 50, 40],\n",
    "                }\n",
    "            }\n",
    "        }\n",
    "    }\n",
    "}"
   ]
  },
  {
   "cell_type": "code",
   "execution_count": 236,
   "id": "55fcee28",
   "metadata": {},
   "outputs": [
    {
     "data": {
      "text/plain": [
       "[20, 10, 35, 45]"
      ]
     },
     "execution_count": 236,
     "metadata": {},
     "output_type": "execute_result"
    }
   ],
   "source": [
    "martins_french = sampleDict['class']['student_list']['Martin']['marks']['french']\n",
    "martins_french"
   ]
  },
  {
   "cell_type": "markdown",
   "id": "e935dd13",
   "metadata": {},
   "source": [
    "**Calculate the mean of Richard's biology's grades**"
   ]
  },
  {
   "cell_type": "code",
   "execution_count": 237,
   "id": "b55e1ee4",
   "metadata": {},
   "outputs": [
    {
     "data": {
      "text/plain": [
       "61.25"
      ]
     },
     "execution_count": 237,
     "metadata": {},
     "output_type": "execute_result"
    }
   ],
   "source": [
    "sum(sampleDict['class']['student_list']['Richard']['marks']['biology'])/len(sampleDict['class']['student_list']['Richard']['marks']['biology'])"
   ]
  },
  {
   "cell_type": "markdown",
   "id": "8fd6b018",
   "metadata": {},
   "source": [
    "**Return a list of all the students**"
   ]
  },
  {
   "cell_type": "code",
   "execution_count": 238,
   "id": "102c92e3",
   "metadata": {},
   "outputs": [
    {
     "data": {
      "text/plain": [
       "dict_keys(['Anna', 'Martin', 'Richard'])"
      ]
     },
     "execution_count": 238,
     "metadata": {},
     "output_type": "execute_result"
    }
   ],
   "source": [
    "sampleDict['class']['student_list'].keys()"
   ]
  },
  {
   "cell_type": "markdown",
   "id": "467fdf08",
   "metadata": {},
   "source": [
    "**Return Anna's 2nd grade in history**"
   ]
  },
  {
   "cell_type": "code",
   "execution_count": 239,
   "id": "72da977b",
   "metadata": {},
   "outputs": [
    {
     "data": {
      "text/plain": [
       "10"
      ]
     },
     "execution_count": 239,
     "metadata": {},
     "output_type": "execute_result"
    }
   ],
   "source": [
    "sampleDict['class']['student_list']['Anna']['marks']['history'][1]"
   ]
  },
  {
   "cell_type": "markdown",
   "id": "f3897907",
   "metadata": {},
   "source": [
    "**Return all the grades that are 3rd in the list for every subject for all the students**\n",
    "\n",
    "Use appropriate `for` loops and a `print()` statement"
   ]
  },
  {
   "cell_type": "code",
   "execution_count": 240,
   "id": "956d1f3e",
   "metadata": {},
   "outputs": [
    {
     "name": "stdout",
     "output_type": "stream",
     "text": [
      "100\n",
      "55\n",
      "70\n",
      "35\n",
      "50\n",
      "90\n",
      "0\n",
      "70\n",
      "50\n"
     ]
    }
   ],
   "source": [
    "for student in sampleDict['class']['student_list'].keys():\n",
    "    for subject in sampleDict['class']['student_list'][student]['marks'].keys():\n",
    "        print(sampleDict['class']['student_list'][student]['marks'][subject][2])"
   ]
  },
  {
   "cell_type": "markdown",
   "id": "dc295ef3",
   "metadata": {},
   "source": [
    "**Get all the grades and store them in a list `all_grades` Calculate the mean (solution: 55.97)**\n",
    "\n",
    "You can of course use a modified version of your solution of the previous question."
   ]
  },
  {
   "cell_type": "code",
   "execution_count": 241,
   "id": "b1d59539",
   "metadata": {},
   "outputs": [
    {
     "data": {
      "text/plain": [
       "[70,\n",
       " 20,\n",
       " 100,\n",
       " 20,\n",
       " 80,\n",
       " 10,\n",
       " 55,\n",
       " 35,\n",
       " 100,\n",
       " 90,\n",
       " 70,\n",
       " 35,\n",
       " 20,\n",
       " 10,\n",
       " 35,\n",
       " 45,\n",
       " 40,\n",
       " 75,\n",
       " 50,\n",
       " 90,\n",
       " 90,\n",
       " 85,\n",
       " 90,\n",
       " 95,\n",
       " 10,\n",
       " 10,\n",
       " 0,\n",
       " 90,\n",
       " 50,\n",
       " 50,\n",
       " 70,\n",
       " 75,\n",
       " 90,\n",
       " 70,\n",
       " 50,\n",
       " 40]"
      ]
     },
     "execution_count": 241,
     "metadata": {},
     "output_type": "execute_result"
    }
   ],
   "source": [
    "all_grades = []\n",
    "\n",
    "for student in sampleDict['class']['student_list'].keys():\n",
    "    for subject in sampleDict['class']['student_list'][student]['marks'].keys():\n",
    "        for grade in sampleDict['class']['student_list'][student]['marks'][subject]:\n",
    "            all_grades.append(grade)\n",
    "\n",
    "all_grades"
   ]
  },
  {
   "cell_type": "code",
   "execution_count": 242,
   "id": "b14c3b1c",
   "metadata": {},
   "outputs": [
    {
     "data": {
      "text/plain": [
       "55.97222222222222"
      ]
     },
     "execution_count": 242,
     "metadata": {},
     "output_type": "execute_result"
    }
   ],
   "source": [
    "sum(all_grades)/len(all_grades)"
   ]
  },
  {
   "cell_type": "markdown",
   "id": "c33710ee",
   "metadata": {},
   "source": [
    "**Save that list as a column in a pandas dataframe and plot a histogram with it**"
   ]
  },
  {
   "cell_type": "code",
   "execution_count": 243,
   "id": "eed568a6",
   "metadata": {},
   "outputs": [],
   "source": [
    "import math as math\n",
    "import pandas as pd \n",
    "import numpy as np\n",
    "import matplotlib.pyplot as plt\n",
    "import seaborn as sns\n",
    "%matplotlib inline"
   ]
  },
  {
   "cell_type": "code",
   "execution_count": 244,
   "id": "c940a412",
   "metadata": {},
   "outputs": [],
   "source": [
    "grade_df = pd.DataFrame(all_grades)"
   ]
  },
  {
   "cell_type": "markdown",
   "id": "581c1e18",
   "metadata": {},
   "source": [
    "Output should look like this"
   ]
  },
  {
   "cell_type": "code",
   "execution_count": 245,
   "id": "6f35f3a4",
   "metadata": {
    "scrolled": true
   },
   "outputs": [
    {
     "data": {
      "text/plain": [
       "array([[<AxesSubplot:title={'center':'0'}>]], dtype=object)"
      ]
     },
     "execution_count": 245,
     "metadata": {},
     "output_type": "execute_result"
    },
    {
     "data": {
      "image/png": "[encoded data removed]",
      "text/plain": [
       "<Figure size 576x576 with 1 Axes>"
      ]
     },
     "metadata": {
      "needs_background": "light"
     },
     "output_type": "display_data"
    }
   ],
   "source": [
    "grade_df.hist(figsize=(8,8))"
   ]
  },
  {
   "cell_type": "markdown",
   "id": "bf1468d8",
   "metadata": {},
   "source": [
    "**Return all the students subjects. Watch out: We don't want repetitions!**"
   ]
  },
  {
   "cell_type": "markdown",
   "id": "2144983d",
   "metadata": {},
   "source": [
    "Output should look like this"
   ]
  },
  {
   "cell_type": "code",
   "execution_count": 246,
   "id": "dd6a9494",
   "metadata": {},
   "outputs": [
    {
     "data": {
      "text/plain": [
       "['physics', 'history', 'math', 'french', 'spanish', 'biology']"
      ]
     },
     "execution_count": 246,
     "metadata": {},
     "output_type": "execute_result"
    }
   ],
   "source": [
    "all_subjects = []\n",
    "for student in sampleDict['class']['student_list'].keys():\n",
    "    for subject in sampleDict['class']['student_list'][student]['marks'].keys():\n",
    "        if subject not in all_subjects:\n",
    "            all_subjects.append(subject)\n",
    "            \n",
    "all_subjects"
   ]
  },
  {
   "cell_type": "markdown",
   "id": "78ecbdb7",
   "metadata": {},
   "source": [
    "**Richard heard you're a data enthusiast and asks you to hack the school server and and replace his worst physics grade rounded to full integers (0) with the mean of his physics grades (he doesn't want to raise suspicion). Help him do that. Check wether your hack was successful by printing his physics grade**"
   ]
  },
  {
   "cell_type": "code",
   "execution_count": 247,
   "id": "eaba7ba4",
   "metadata": {},
   "outputs": [
    {
     "data": {
      "text/plain": [
       "[10, 10, 0, 90]"
      ]
     },
     "execution_count": 247,
     "metadata": {},
     "output_type": "execute_result"
    }
   ],
   "source": [
    "richard_physics_grades = sampleDict['class']['student_list']['Richard']['marks']['physics']\n",
    "richard_physics_grades"
   ]
  },
  {
   "cell_type": "code",
   "execution_count": 248,
   "id": "23026f6d",
   "metadata": {},
   "outputs": [
    {
     "data": {
      "text/plain": [
       "36"
      ]
     },
     "execution_count": 248,
     "metadata": {},
     "output_type": "execute_result"
    }
   ],
   "source": [
    "# new_mean = (10 + 10 + new_mean + 90) / 4\n",
    "# new_mean * 3 = 110\n",
    "# new_mean = 110/3\n",
    "richard_physics_grades_mean = math.floor(sum(richard_physics_grades)/(len(richard_physics_grades)-1))\n",
    "richard_physics_grades_mean"
   ]
  },
  {
   "cell_type": "code",
   "execution_count": 249,
   "id": "c95e7a54",
   "metadata": {},
   "outputs": [],
   "source": [
    "sampleDict['class']['student_list']['Richard']['marks']['physics'][2] = richard_physics_grades_mean"
   ]
  },
  {
   "cell_type": "code",
   "execution_count": 250,
   "id": "5f9d810e",
   "metadata": {},
   "outputs": [
    {
     "data": {
      "text/plain": [
       "[10, 10, 36, 90]"
      ]
     },
     "execution_count": 250,
     "metadata": {},
     "output_type": "execute_result"
    }
   ],
   "source": [
    "sampleDict['class']['student_list']['Richard']['marks']['physics']"
   ]
  },
  {
   "cell_type": "markdown",
   "id": "f3ac8abe",
   "metadata": {},
   "source": [
    "**The hack was discovered! They found out it must have been Richard because his physics grade is not a multiple of 5 like all the other grades**\n",
    "\n",
    "Expell Richard (poor Richard!) by removing him from the dictionary. Use `del`. And print the resulting class dictionary."
   ]
  },
  {
   "cell_type": "code",
   "execution_count": 252,
   "id": "a9757027",
   "metadata": {},
   "outputs": [],
   "source": [
    "del sampleDict['class']['student_list']['Richard']"
   ]
  },
  {
   "cell_type": "code",
   "execution_count": 253,
   "id": "f8a7a076",
   "metadata": {},
   "outputs": [
    {
     "data": {
      "text/plain": [
       "{'class': {'student_list': {'Anna': {'marks': {'physics': [70, 20, 100, 20],\n",
       "     'history': [80, 10, 55, 35],\n",
       "     'math': [100, 90, 70, 35]}},\n",
       "   'Martin': {'marks': {'french': [20, 10, 35, 45],\n",
       "     'spanish': [40, 75, 50, 90],\n",
       "     'math': [90, 85, 90, 95]}}}}}"
      ]
     },
     "execution_count": 253,
     "metadata": {},
     "output_type": "execute_result"
    }
   ],
   "source": [
    "sampleDict"
   ]
  },
  {
   "cell_type": "code",
   "execution_count": null,
   "id": "4014dd05",
   "metadata": {},
   "outputs": [],
   "source": []
  }
 ],
 "metadata": {
  "kernelspec": {
   "display_name": "Python 3 (ipykernel)",
   "language": "python",
   "name": "python3"
  },
  "language_info": {
   "codemirror_mode": {
    "name": "ipython",
    "version": 3
   },
   "file_extension": ".py",
   "mimetype": "text/x-python",
   "name": "python",
   "nbconvert_exporter": "python",
   "pygments_lexer": "ipython3",
   "version": "3.9.7"
  }
 },
 "nbformat": 4,
 "nbformat_minor": 5
}
