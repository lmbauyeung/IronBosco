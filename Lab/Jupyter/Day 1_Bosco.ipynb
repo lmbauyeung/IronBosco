{
 "cells": [
  {
   "cell_type": "markdown",
   "id": "ef2b42ce",
   "metadata": {
    "slideshow": {
     "slide_type": "slide"
    }
   },
   "source": [
    "# <font color='purple'> Holiday Preference"
   ]
  },
  {
   "cell_type": "markdown",
   "id": "0130a91f",
   "metadata": {
    "slideshow": {
     "slide_type": "slide"
    }
   },
   "source": [
    "## TOC:\n",
    "* [Introduction](#introduction)\n",
    "* [Name](#name)\n",
    "* [Image](#image)\n",
    "* [Preference](#preference)\n",
    "* [Destination](#destination)"
   ]
  },
  {
   "cell_type": "markdown",
   "id": "0ffab542",
   "metadata": {
    "slideshow": {
     "slide_type": "slide"
    }
   },
   "source": [
    "## Introduction <a name=\"introduction\"></a>"
   ]
  },
  {
   "cell_type": "markdown",
   "id": "1a309d77",
   "metadata": {},
   "source": [
    "It is a note introducing *Elon*'s holiday preferences."
   ]
  },
  {
   "cell_type": "markdown",
   "id": "4a0ec99e",
   "metadata": {},
   "source": [
    "## Name <a name=\"name\"></a>"
   ]
  },
  {
   "cell_type": "code",
   "execution_count": 18,
   "id": "3cb43fe6",
   "metadata": {},
   "outputs": [
    {
     "name": "stdout",
     "output_type": "stream",
     "text": [
      "Elon\n"
     ]
    },
    {
     "data": {
      "text/plain": [
       "'Elon'"
      ]
     },
     "execution_count": 18,
     "metadata": {},
     "output_type": "execute_result"
    }
   ],
   "source": [
    "input(\"\")"
   ]
  },
  {
   "cell_type": "markdown",
   "id": "e0d4aba1",
   "metadata": {
    "slideshow": {
     "slide_type": "slide"
    }
   },
   "source": [
    "## Image <a name=\"image\"></a>"
   ]
  },
  {
   "cell_type": "markdown",
   "id": "cd549fb0",
   "metadata": {
    "slideshow": {
     "slide_type": "subslide"
    }
   },
   "source": [
    "![alt text](https://upload.wikimedia.org/wikipedia/commons/e/ed/Elon_Musk_Royal_Society.jpg)"
   ]
  },
  {
   "cell_type": "markdown",
   "id": "d9c9088f",
   "metadata": {
    "slideshow": {
     "slide_type": "slide"
    }
   },
   "source": [
    "## Preference <a name='preference'></a>"
   ]
  },
  {
   "cell_type": "code",
   "execution_count": 19,
   "id": "adc83f19",
   "metadata": {
    "slideshow": {
     "slide_type": "subslide"
    }
   },
   "outputs": [
    {
     "name": "stdout",
     "output_type": "stream",
     "text": [
      "Chill\n",
      "New\n"
     ]
    },
    {
     "data": {
      "text/plain": [
       "'New'"
      ]
     },
     "execution_count": 19,
     "metadata": {},
     "output_type": "execute_result"
    }
   ],
   "source": [
    "# Do you prefer a chill or an adventurous vacation?\n",
    "input()\n",
    "\n",
    "# Do you prefer to go to places you are familiar with or those that are new to you?\n",
    "input()"
   ]
  },
  {
   "cell_type": "markdown",
   "id": "db50b7eb",
   "metadata": {
    "slideshow": {
     "slide_type": "slide"
    }
   },
   "source": [
    "## Destination <a name='destination'></a> "
   ]
  },
  {
   "cell_type": "markdown",
   "id": "ef42a25c",
   "metadata": {
    "slideshow": {
     "slide_type": "subslide"
    }
   },
   "source": [
    "![alt text](https://raw.githubusercontent.com/lmbauyeung/IronBosco/main/Lab/Jupyter/Holiday%20Preference.png?token=GHSAT0AAAAAABQGRAED6F3WRKXM5JZY2M36YO4KE4Q)"
   ]
  },
  {
   "cell_type": "markdown",
   "id": "606706d2",
   "metadata": {
    "slideshow": {
     "slide_type": "subslide"
    }
   },
   "source": [
    "- <font color='green'>*water sports*\n",
    "- <font color='red'>**smoking**\n",
    "- <font color='blue'>sunbathing"
   ]
  },
  {
   "cell_type": "markdown",
   "id": "c4ef4514",
   "metadata": {
    "slideshow": {
     "slide_type": "subslide"
    }
   },
   "source": [
    "[Visit Okinawa](https://www.youtube.com/watch?v=0-UjXsMAJs4&ab_channel=Grenzenlos-DieWeltentdecken)"
   ]
  },
  {
   "cell_type": "code",
   "execution_count": null,
   "id": "73fd6cd9",
   "metadata": {},
   "outputs": [],
   "source": []
  }
 ],
 "metadata": {
  "celltoolbar": "Slideshow",
  "kernelspec": {
   "display_name": "Python 3 (ipykernel)",
   "language": "python",
   "name": "python3"
  },
  "language_info": {
   "codemirror_mode": {
    "name": "ipython",
    "version": 3
   },
   "file_extension": ".py",
   "mimetype": "text/x-python",
   "name": "python",
   "nbconvert_exporter": "python",
   "pygments_lexer": "ipython3",
   "version": "3.9.7"
  }
 },
 "nbformat": 4,
 "nbformat_minor": 5
}
