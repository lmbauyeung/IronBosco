{
 "cells": [
  {
   "cell_type": "markdown",
   "id": "ef2b42ce",
   "metadata": {},
   "source": [
    "# <font color='purple'> Holiday Preference"
   ]
  },
  {
   "cell_type": "markdown",
   "id": "4e00601a",
   "metadata": {},
   "source": [
    "It is a note introducing *Elon*'s holiday preferences."
   ]
  },
  {
   "cell_type": "code",
   "execution_count": 8,
   "id": "64487be8",
   "metadata": {},
   "outputs": [
    {
     "name": "stdout",
     "output_type": "stream",
     "text": [
      "Elon Musk\n"
     ]
    },
    {
     "data": {
      "text/plain": [
       "'Elon Musk'"
      ]
     },
     "execution_count": 8,
     "metadata": {},
     "output_type": "execute_result"
    }
   ],
   "source": [
    "input(\"\")"
   ]
  },
  {
   "cell_type": "markdown",
   "id": "eceef7b9",
   "metadata": {},
   "source": [
    "![alt text](https://upload.wikimedia.org/wikipedia/commons/e/ed/Elon_Musk_Royal_Society.jpg)"
   ]
  },
  {
   "cell_type": "code",
   "execution_count": 9,
   "id": "2cc720c8",
   "metadata": {},
   "outputs": [
    {
     "name": "stdout",
     "output_type": "stream",
     "text": [
      "Adventurous\n",
      "New\n"
     ]
    },
    {
     "data": {
      "text/plain": [
       "'New'"
      ]
     },
     "execution_count": 9,
     "metadata": {},
     "output_type": "execute_result"
    }
   ],
   "source": [
    "# Do you prefer a chill or an adventurous vacation?\n",
    "input()\n",
    "\n",
    "# Do you prefer to go to places you are familiar with or those that are new to you?\n",
    "input()"
   ]
  },
  {
   "cell_type": "markdown",
   "id": "b7321e06",
   "metadata": {},
   "source": [
    "![alt text](https://raw.githubusercontent.com/lmbauyeung/IronBosco/main/Lab/Jupyter/Holiday%20Preference.png?token=GHSAT0AAAAAABQGRAED6F3WRKXM5JZY2M36YO4KE4Q)"
   ]
  },
  {
   "cell_type": "markdown",
   "id": "21018339",
   "metadata": {},
   "source": [
    "- <font color='green'>*water sports*\n",
    "- <font color='red'>**smoking**\n",
    "- <font color='blue'>sunbathing"
   ]
  },
  {
   "cell_type": "markdown",
   "id": "657c48d5",
   "metadata": {},
   "source": [
    "[Visit Okinawa](https://www.youtube.com/watch?v=0-UjXsMAJs4&ab_channel=Grenzenlos-DieWeltentdecken)"
   ]
  },
  {
   "cell_type": "code",
   "execution_count": null,
   "id": "1a421252",
   "metadata": {},
   "outputs": [],
   "source": []
  }
 ],
 "metadata": {
  "kernelspec": {
   "display_name": "Python 3 (ipykernel)",
   "language": "python",
   "name": "python3"
  },
  "language_info": {
   "codemirror_mode": {
    "name": "ipython",
    "version": 3
   },
   "file_extension": ".py",
   "mimetype": "text/x-python",
   "name": "python",
   "nbconvert_exporter": "python",
   "pygments_lexer": "ipython3",
   "version": "3.9.7"
  }
 },
 "nbformat": 4,
 "nbformat_minor": 5
}
