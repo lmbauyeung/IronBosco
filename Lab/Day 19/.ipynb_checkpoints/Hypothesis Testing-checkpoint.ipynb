{
 "cells": [
  {
   "cell_type": "code",
   "execution_count": 1,
   "id": "e69d227b",
   "metadata": {},
   "outputs": [],
   "source": [
    "import numpy as np\n",
    "import pandas as pd\n",
    "import scipy.stats as stats\n",
    "import matplotlib.pyplot as plt\n",
    "import seaborn as sns\n",
    "\n",
    "%matplotlib inline"
   ]
  },
  {
   "cell_type": "markdown",
   "id": "3b2d7d46",
   "metadata": {},
   "source": [
    "## Setup"
   ]
  },
  {
   "cell_type": "code",
   "execution_count": 2,
   "id": "c3bfe817",
   "metadata": {},
   "outputs": [],
   "source": [
    "n = 100\n",
    "pop_mean = 120\n",
    "sample_mean = 130.1\n",
    "sample_sd = 21.21"
   ]
  },
  {
   "cell_type": "markdown",
   "id": "c55c1c4e",
   "metadata": {},
   "source": [
    "## Hypothesis 1 - One Sided Test"
   ]
  },
  {
   "cell_type": "code",
   "execution_count": null,
   "id": "12917807",
   "metadata": {},
   "outputs": [],
   "source": [
    "# Ho: mean = 120\n",
    "# Ha: mean > 120"
   ]
  },
  {
   "cell_type": "code",
   "execution_count": 4,
   "id": "15f1b407",
   "metadata": {},
   "outputs": [
    {
     "data": {
      "text/plain": [
       "4.761904761904759"
      ]
     },
     "execution_count": 4,
     "metadata": {},
     "output_type": "execute_result"
    }
   ],
   "source": [
    "z = (sample_mean - pop_mean)/(sample_sd/np.sqrt(n))\n",
    "z"
   ]
  },
  {
   "cell_type": "code",
   "execution_count": 5,
   "id": "5a92a557",
   "metadata": {},
   "outputs": [
    {
     "data": {
      "text/plain": [
       "1.6448536269514722"
      ]
     },
     "execution_count": 5,
     "metadata": {},
     "output_type": "execute_result"
    }
   ],
   "source": [
    "# 95% confidence interval\n",
    "zc = stats.norm.ppf(0.95)\n",
    "zc"
   ]
  },
  {
   "cell_type": "code",
   "execution_count": 6,
   "id": "3d5b9b82",
   "metadata": {},
   "outputs": [
    {
     "data": {
      "text/plain": [
       "2.3263478740408408"
      ]
     },
     "execution_count": 6,
     "metadata": {},
     "output_type": "execute_result"
    }
   ],
   "source": [
    "# 99% confidence interval\n",
    "zc = stats.norm.ppf(0.99)\n",
    "zc"
   ]
  },
  {
   "cell_type": "markdown",
   "id": "9679b53a",
   "metadata": {},
   "source": [
    "## Hypothesis 2 - Two Sided Test"
   ]
  },
  {
   "cell_type": "code",
   "execution_count": null,
   "id": "9119c962",
   "metadata": {},
   "outputs": [],
   "source": [
    "# Ho: mean = 120\n",
    "# Ha: mean != 120"
   ]
  },
  {
   "cell_type": "code",
   "execution_count": 7,
   "id": "18be6cce",
   "metadata": {},
   "outputs": [
    {
     "data": {
      "text/plain": [
       "1.959963984540054"
      ]
     },
     "execution_count": 7,
     "metadata": {},
     "output_type": "execute_result"
    }
   ],
   "source": [
    "# 95% confidence interval\n",
    "zc = stats.norm.ppf(1-(0.05/2))\n",
    "zc"
   ]
  },
  {
   "cell_type": "code",
   "execution_count": 8,
   "id": "20c1a8d4",
   "metadata": {},
   "outputs": [
    {
     "data": {
      "text/plain": [
       "2.5758293035489004"
      ]
     },
     "execution_count": 8,
     "metadata": {},
     "output_type": "execute_result"
    }
   ],
   "source": [
    "# 99% confidence interval\n",
    "zc = stats.norm.ppf(1-(0.01/2))\n",
    "zc"
   ]
  },
  {
   "cell_type": "code",
   "execution_count": null,
   "id": "d317c334",
   "metadata": {},
   "outputs": [],
   "source": []
  }
 ],
 "metadata": {
  "kernelspec": {
   "display_name": "Python 3 (ipykernel)",
   "language": "python",
   "name": "python3"
  },
  "language_info": {
   "codemirror_mode": {
    "name": "ipython",
    "version": 3
   },
   "file_extension": ".py",
   "mimetype": "text/x-python",
   "name": "python",
   "nbconvert_exporter": "python",
   "pygments_lexer": "ipython3",
   "version": "3.9.7"
  }
 },
 "nbformat": 4,
 "nbformat_minor": 5
}
