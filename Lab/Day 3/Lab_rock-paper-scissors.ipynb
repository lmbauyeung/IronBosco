{
 "cells": [
  {
   "cell_type": "markdown",
   "metadata": {},
   "source": [
    "<img src=\"https://bit.ly/2VnXWr2\" width=\"100\" align=\"left\">"
   ]
  },
  {
   "cell_type": "markdown",
   "metadata": {},
   "source": [
    "# Rock, Paper & Scissors\n",
    "\n",
    "Let's play the famous game against our computer. You can check the rules [here](https://en.wikipedia.org/wiki/Rock%E2%80%93paper%E2%80%93scissors). \n",
    "\n",
    "## Task\n",
    "Create a program that imitates the playability of the well known game of rock, paper, scissors. Follow the guidelines provided.\n",
    "\n",
    "## Tools\n",
    "1. Loop: **for/while**\n",
    "2. Functions: **input(), print()...**\n",
    "3. Conditional statements: **if, elif, else**\n",
    "4. Definition of functions. Modular programming\n",
    "5. Import modules\n",
    "\n",
    "**To solve this challenge, the use of functions is recommended.**\n",
    "\n",
    "#### 1. Import the choice function of the random module."
   ]
  },
  {
   "cell_type": "code",
   "execution_count": 1,
   "metadata": {},
   "outputs": [],
   "source": [
    "import random"
   ]
  },
  {
   "cell_type": "markdown",
   "metadata": {},
   "source": [
    "#### 2. Create a list that includes the 3 possible gesture options of the game: 'rock', 'paper' or 'scissors'. Store the list in a variable called `gestures`."
   ]
  },
  {
   "cell_type": "code",
   "execution_count": 2,
   "metadata": {},
   "outputs": [],
   "source": [
    "gestures = [\"rock\", \"paper\", \"scissors\"]"
   ]
  },
  {
   "cell_type": "markdown",
   "metadata": {},
   "source": [
    "#### 3. Create a variable called `n_rounds` to store the maximum number of rounds to play in a game. \n",
    "Remember that the number of rounds must be odd: 1, 3, 5, ..."
   ]
  },
  {
   "cell_type": "code",
   "execution_count": 3,
   "metadata": {},
   "outputs": [],
   "source": [
    "n_rounds = 5"
   ]
  },
  {
   "cell_type": "markdown",
   "metadata": {},
   "source": [
    "#### 4. Create a variable called `rounds_to_win` to store the number of rounds that a player must win to win the game.\n",
    "**Hint**: the value stored in `rounds_to_win` depends on the value of `n_rounds`. "
   ]
  },
  {
   "cell_type": "code",
   "execution_count": 4,
   "metadata": {},
   "outputs": [],
   "source": [
    "rounds_to_win = (n_rounds+1)/2"
   ]
  },
  {
   "cell_type": "markdown",
   "metadata": {},
   "source": [
    "#### 5. Create two variables to store the number of rounds that the computer and the player have won. Call these variables `cpu_score` and `player_score`."
   ]
  },
  {
   "cell_type": "code",
   "execution_count": 5,
   "metadata": {},
   "outputs": [],
   "source": [
    "cpu_score = 0\n",
    "player_score = 0"
   ]
  },
  {
   "cell_type": "markdown",
   "metadata": {},
   "source": [
    "#### 6. Define a function that randomly returns one of the 3 gesture options.\n",
    "You will use this function to simulate the gesture choice of the computer. "
   ]
  },
  {
   "cell_type": "code",
   "execution_count": 6,
   "metadata": {},
   "outputs": [],
   "source": [
    "def computer_choice():\n",
    "    computer_gesture = random.choice(gestures)\n",
    "    return computer_gesture"
   ]
  },
  {
   "cell_type": "markdown",
   "metadata": {},
   "source": [
    "#### 7. Define a function that asks the player which is the gesture he or she wants to show: 'rock', 'paper' or 'scissors'.\n",
    "The player should only be allowed to choose one of the 3 gesture options. If the player's choice is not rock, paper or scissors, keep asking until it is."
   ]
  },
  {
   "cell_type": "code",
   "execution_count": 7,
   "metadata": {},
   "outputs": [],
   "source": [
    "def player_choice():\n",
    "    player_gesture = input(\"Please enter your gesture: rock/paper/scissors: \")\n",
    "    while player_gesture not in gestures:\n",
    "        player_gesture = input(\"Please enter a valid gesture: \")\n",
    "    return player_gesture"
   ]
  },
  {
   "cell_type": "markdown",
   "metadata": {},
   "source": [
    "#### 8. Define a function that checks who won a round. \n",
    "The function should return 0 if there is a tie, 1 if the computer wins and 2 if the player wins."
   ]
  },
  {
   "cell_type": "code",
   "execution_count": 8,
   "metadata": {},
   "outputs": [],
   "source": [
    "def round_check():\n",
    "    computer_gesture = computer_choice()\n",
    "    player_gesture = player_choice()\n",
    "    print('Player chose '+player_gesture+' and computer chose '+computer_gesture+'.')\n",
    "    if computer_gesture == player_gesture:\n",
    "        print('It is a tie.')\n",
    "        return 0\n",
    "    elif (player_gesture == 'rock' and computer_gesture == 'scissors') or (player_gesture =='scissors' and computer_gesture == 'paper') or (player_gesture == 'paper' and computer_gesture == 'rock'):\n",
    "        print('Player wins this round.')\n",
    "        return 1\n",
    "    else:\n",
    "        print('Computer wins this round.')\n",
    "        return 2"
   ]
  },
  {
   "cell_type": "markdown",
   "metadata": {},
   "source": [
    "#### 9. Define a function that prints the choice of the computer, the choice of the player and a message that announces who won the current round. \n",
    "You should also use this function to update the variables that count the number of rounds that the computer and the player have won. The score of the winner increases by one point. If there is a tie, the score does not increase."
   ]
  },
  {
   "cell_type": "code",
   "execution_count": 9,
   "metadata": {},
   "outputs": [],
   "source": [
    "def gametime():\n",
    "    nth_round = 0\n",
    "    global n_rounds\n",
    "    global rounds_to_win\n",
    "    global cpu_score\n",
    "    global player_score\n",
    "    while max(cpu_score, player_score) < rounds_to_win and nth_round < n_rounds:\n",
    "        round_result = round_check()\n",
    "        nth_round += 1\n",
    "        if round_result == 1:\n",
    "            player_score += 1\n",
    "        elif round_result == 2:\n",
    "            cpu_score += 1\n",
    "        print('Player score is '+str(player_score)+' and computer score is '+str(cpu_score)+'.')\n",
    "    if player_score > cpu_score:\n",
    "        print('Player wins by '+str(player_score)+' to '+str(cpu_score)+'.')\n",
    "    elif cpu_score > player_score:\n",
    "        print('Computer wins by '+str(cpu_score)+' to '+str(player_score)+'.')\n",
    "    else:\n",
    "        print('It is a tie by '+str(cpu_score)+' to '+str(player_score)+'.')\n",
    "    player_score = 0\n",
    "    cpu_score = 0"
   ]
  },
  {
   "cell_type": "code",
   "execution_count": 10,
   "metadata": {},
   "outputs": [
    {
     "name": "stdout",
     "output_type": "stream",
     "text": [
      "Please enter your gesture: rock/paper/scissors: rock\n",
      "Player chose rock and computer chose rock.\n",
      "It is a tie.\n",
      "Player score is 0 and computer score is 0.\n",
      "Please enter your gesture: rock/paper/scissors: rock\n",
      "Player chose rock and computer chose scissors.\n",
      "Player wins this round.\n",
      "Player score is 1 and computer score is 0.\n",
      "Please enter your gesture: rock/paper/scissors: rock\n",
      "Player chose rock and computer chose paper.\n",
      "Computer wins this round.\n",
      "Player score is 1 and computer score is 1.\n",
      "Please enter your gesture: rock/paper/scissors: rock\n",
      "Player chose rock and computer chose rock.\n",
      "It is a tie.\n",
      "Player score is 1 and computer score is 1.\n",
      "Please enter your gesture: rock/paper/scissors: rock\n",
      "Player chose rock and computer chose scissors.\n",
      "Player wins this round.\n",
      "Player score is 2 and computer score is 1.\n",
      "Player wins by 2 to 1.\n"
     ]
    }
   ],
   "source": [
    "gametime()"
   ]
  },
  {
   "cell_type": "markdown",
   "metadata": {},
   "source": [
    "#### 10. Now it's time to code the execution of the game using the functions and variables you defined above. \n",
    "\n",
    "First, create a loop structure that repeats while no player reaches the minimum score necessary to win and the number of rounds is less than the maximum number of rounds to play in a game.  \n",
    "\n",
    "Inside the loop, use the functions and variables above to create the execution of a round: ask for the player's choice, generate the random choice of the computer, show the round results, update the scores, etc. "
   ]
  },
  {
   "cell_type": "code",
   "execution_count": 29,
   "metadata": {},
   "outputs": [],
   "source": [
    "# a combined version\n",
    "def gametime2():\n",
    "    gestures = [\"rock\", \"paper\", \"scissors\"]\n",
    "    n_rounds = 5\n",
    "    cpu_score = 0\n",
    "    player_score = 0\n",
    "    nth_round = 0\n",
    "    while max(cpu_score, player_score) < rounds_to_win and nth_round < n_rounds: \n",
    "        computer_gesture = random.choice(gestures)\n",
    "        player_gesture = input(\"Please enter your gesture: rock/paper/scissors: \")\n",
    "        while player_gesture not in gestures:\n",
    "            player_gesture = input(\"Please enter a valid gesture: \")\n",
    "        print('You chose '+player_gesture+' and computer chose '+computer_gesture+'.')\n",
    "        if computer_gesture == player_gesture:\n",
    "                print('It is a tie.')\n",
    "        elif (player_gesture == 'rock' and computer_gesture == 'scissors') or (player_gesture =='scissors' and computer_gesture == 'paper') or (player_gesture == 'paper' and computer_gesture == 'rock'):\n",
    "            print('Player wins this round.')\n",
    "            player_score += 1\n",
    "        else:\n",
    "            print('Computer wins this round.')\n",
    "            cpu_score += 1\n",
    "        nth_round += 1\n",
    "    if player_score > cpu_score:\n",
    "        print('Player wins by '+str(player_score)+' to '+str(cpu_score)+'.')\n",
    "    elif cpu_score > player_score:\n",
    "        print('Computer wins by '+str(cpu_score)+' to '+str(player_score)+'.')\n",
    "    else:\n",
    "        print('It is a tie by '+str(cpu_score)+' to '+str(player_score)+'.')"
   ]
  },
  {
   "cell_type": "code",
   "execution_count": 30,
   "metadata": {},
   "outputs": [
    {
     "name": "stdout",
     "output_type": "stream",
     "text": [
      "Please enter your gesture: rock/paper/scissors: rock\n",
      "You chose rock and computer chose paper.\n",
      "Computer wins this round.\n",
      "Please enter your gesture: rock/paper/scissors: rock\n",
      "You chose rock and computer chose paper.\n",
      "Computer wins this round.\n",
      "Please enter your gesture: rock/paper/scissors: rock\n",
      "You chose rock and computer chose rock.\n",
      "It is a tie.\n",
      "Please enter your gesture: rock/paper/scissors: rock\n",
      "You chose rock and computer chose scissors.\n",
      "Player wins this round.\n",
      "Please enter your gesture: rock/paper/scissors: rock\n",
      "You chose rock and computer chose scissors.\n",
      "Player wins this round.\n",
      "It is a tie by 2 to 2.\n"
     ]
    }
   ],
   "source": [
    "gametime2()"
   ]
  },
  {
   "cell_type": "markdown",
   "metadata": {},
   "source": [
    "#### 11. Print the winner of the game based on who won more rounds.\n",
    "Remember that the game might be tied. "
   ]
  },
  {
   "cell_type": "code",
   "execution_count": null,
   "metadata": {},
   "outputs": [],
   "source": []
  },
  {
   "cell_type": "markdown",
   "metadata": {},
   "source": [
    "# Bonus: Rock, Paper, Scissors, Lizard & Spock\n",
    "![](images/rpsls.jpg)\n",
    "\n",
    "In this challenge, you need to improve the previous game by adding two new options. To know more about the rules of the improved version of rock, paper, scissors, check this [link](http://www.samkass.com/theories/RPSSL.html). \n",
    "\n",
    "In addition, you will also need to improve how the game interacts with the player: the number of rounds to play, which must be an odd number, will be requested to the user until a valid number is entered. Define a new function to make that request.\n",
    "\n",
    "**Hint**: Try to reuse the code that you already coded in the previous challenge. If your code is efficient, this bonus will only consist of simple modifications to the original game."
   ]
  },
  {
   "cell_type": "code",
   "execution_count": 4,
   "metadata": {},
   "outputs": [],
   "source": [
    "# a combined version\n",
    "import random\n",
    "def gametime3():\n",
    "    gestures = [\"rock\", \"paper\", \"scissors\", \"lizard\", \"spock\"]\n",
    "    cpu_score = 0\n",
    "    player_score = 0\n",
    "    nth_round = 0\n",
    "    while True:\n",
    "        try:\n",
    "            n_rounds = int(input('Please input an odd number of rounds to play: '))\n",
    "        except:\n",
    "            print('Your input was not an ODD NUMBER, please try again: \\n')\n",
    "            continue\n",
    "        else:\n",
    "            if n_rounds%2 !=0:\n",
    "                break\n",
    "            else:\n",
    "                print('Your input was not an ODD NUMBER, please try again: \\n')\n",
    "    rounds_to_win = (n_rounds+1)/2\n",
    "    print('Rounds to play is '+str(n_rounds)+'.\\n')\n",
    "    while max(cpu_score, player_score) < rounds_to_win and nth_round < n_rounds: \n",
    "        computer_gesture = random.choice(gestures)\n",
    "        player_gesture = input(\"Please enter your gesture: rock/paper/scissors/lizard/spock: \")\n",
    "        while player_gesture not in gestures:\n",
    "            player_gesture = input(\"Please enter a valid gesture: \")\n",
    "        print('You chose '+player_gesture+' and computer chose '+computer_gesture+'.')\n",
    "        if computer_gesture == player_gesture:\n",
    "                print('It is a tie.\\n')\n",
    "        elif (player_gesture == 'rock' and computer_gesture == 'scissors') or (player_gesture =='scissors' and computer_gesture == 'paper') or (player_gesture == 'paper' and computer_gesture == 'rock') or (player_gesture == 'rock' and computer_gesture == 'lizard') or (player_gesture == 'scissors' and computer_gesture == 'lizard') or (player_gesture == 'paper' and computer_gesture == 'spock') or (player_gesture == 'spock' and computer_gesture == 'scissors') or (player_gesture == 'spock' and computer_gesture == 'rock') or (player_gesture == 'lizard' and computer_gesture == 'paper') or (player_gesture == 'lizard' and computer_gesture == 'spock'):\n",
    "            print('Player wins this round.\\n')\n",
    "            player_score += 1\n",
    "        else:\n",
    "            print('Computer wins this round.\\n')\n",
    "            cpu_score += 1\n",
    "        nth_round += 1\n",
    "    if player_score > cpu_score:\n",
    "        print('Player wins by '+str(player_score)+' to '+str(cpu_score)+'.')\n",
    "    elif cpu_score > player_score:\n",
    "        print('Computer wins by '+str(cpu_score)+' to '+str(player_score)+'.')\n",
    "    else:\n",
    "        print('It is a tie by '+str(cpu_score)+' to '+str(player_score)+'.')"
   ]
  },
  {
   "cell_type": "code",
   "execution_count": 7,
   "metadata": {},
   "outputs": [
    {
     "name": "stdout",
     "output_type": "stream",
     "text": [
      "Please input an odd number of rounds to play: paper\n",
      "Your input was not an ODD NUMBER, please try again: \n",
      "\n",
      "Please input an odd number of rounds to play: 6\n",
      "Your input was not an ODD NUMBER, please try again: \n",
      "\n",
      "Please input an odd number of rounds to play: 5\n",
      "Rounds to play is 5.\n",
      "\n",
      "Please enter your gesture: rock/paper/scissors/lizard/spock: paper\n",
      "You chose paper and computer chose spock.\n",
      "Player wins this round.\n",
      "\n",
      "Please enter your gesture: rock/paper/scissors/lizard/spock: paper\n",
      "You chose paper and computer chose lizard.\n",
      "Computer wins this round.\n",
      "\n",
      "Please enter your gesture: rock/paper/scissors/lizard/spock: paper\n",
      "You chose paper and computer chose rock.\n",
      "Player wins this round.\n",
      "\n",
      "Please enter your gesture: rock/paper/scissors/lizard/spock: paper\n",
      "You chose paper and computer chose lizard.\n",
      "Computer wins this round.\n",
      "\n",
      "Please enter your gesture: rock/paper/scissors/lizard/spock: paper\n",
      "You chose paper and computer chose paper.\n",
      "It is a tie.\n",
      "\n",
      "It is a tie by 2 to 2.\n"
     ]
    }
   ],
   "source": [
    "gametime3()"
   ]
  },
  {
   "cell_type": "code",
   "execution_count": null,
   "metadata": {},
   "outputs": [],
   "source": []
  }
 ],
 "metadata": {
  "kernelspec": {
   "display_name": "Python 3 (ipykernel)",
   "language": "python",
   "name": "python3"
  },
  "language_info": {
   "codemirror_mode": {
    "name": "ipython",
    "version": 3
   },
   "file_extension": ".py",
   "mimetype": "text/x-python",
   "name": "python",
   "nbconvert_exporter": "python",
   "pygments_lexer": "ipython3",
   "version": "3.9.7"
  },
  "toc": {
   "base_numbering": 1,
   "nav_menu": {},
   "number_sections": true,
   "sideBar": true,
   "skip_h1_title": false,
   "title_cell": "Table of Contents",
   "title_sidebar": "Contents",
   "toc_cell": false,
   "toc_position": {},
   "toc_section_display": true,
   "toc_window_display": true
  }
 },
 "nbformat": 4,
 "nbformat_minor": 2
}
