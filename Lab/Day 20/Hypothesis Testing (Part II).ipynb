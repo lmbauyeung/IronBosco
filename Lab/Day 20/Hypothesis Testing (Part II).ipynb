{
 "cells": [
  {
   "cell_type": "code",
   "execution_count": 32,
   "id": "21141635",
   "metadata": {},
   "outputs": [],
   "source": [
    "import numpy as np\n",
    "import pandas as pd\n",
    "import scipy.stats as stats\n",
    "import matplotlib.pyplot as plt\n",
    "import seaborn as sns\n",
    "\n",
    "%matplotlib inline"
   ]
  },
  {
   "cell_type": "code",
   "execution_count": 33,
   "id": "cf77e5af",
   "metadata": {},
   "outputs": [],
   "source": [
    "old_machine = [42.7, 43.6, 43.8, 43.3, 42.5, 43.5, 43.1, 41.7, 44, 44.1]\n",
    "new_machine = [42.1, 41, 41.3, 41.8, 42.4, 42.8, 43.2, 42.3, 41.8, 42.7]"
   ]
  },
  {
   "cell_type": "code",
   "execution_count": 34,
   "id": "8af04c02",
   "metadata": {},
   "outputs": [
    {
     "data": {
      "text/plain": [
       "43.230000000000004"
      ]
     },
     "execution_count": 34,
     "metadata": {},
     "output_type": "execute_result"
    }
   ],
   "source": [
    "old_machine_mean = np.mean(old_machine)\n",
    "old_machine_mean"
   ]
  },
  {
   "cell_type": "code",
   "execution_count": 35,
   "id": "e174c0e0",
   "metadata": {},
   "outputs": [
    {
     "data": {
      "text/plain": [
       "0.7114070564732956"
      ]
     },
     "execution_count": 35,
     "metadata": {},
     "output_type": "execute_result"
    }
   ],
   "source": [
    "old_machine_std = np.std(old_machine)\n",
    "old_machine_std"
   ]
  },
  {
   "cell_type": "code",
   "execution_count": 36,
   "id": "947831fd",
   "metadata": {},
   "outputs": [
    {
     "data": {
      "text/plain": [
       "42.14"
      ]
     },
     "execution_count": 36,
     "metadata": {},
     "output_type": "execute_result"
    }
   ],
   "source": [
    "new_machine_mean = np.mean(new_machine)\n",
    "new_machine_mean"
   ]
  },
  {
   "cell_type": "code",
   "execution_count": 37,
   "id": "28bd4d2b",
   "metadata": {},
   "outputs": [
    {
     "data": {
      "text/plain": [
       "0.6483826030978941"
      ]
     },
     "execution_count": 37,
     "metadata": {},
     "output_type": "execute_result"
    }
   ],
   "source": [
    "new_machine_std = np.std(new_machine)\n",
    "new_machine_std"
   ]
  },
  {
   "cell_type": "code",
   "execution_count": 38,
   "id": "8c7bc71f",
   "metadata": {},
   "outputs": [],
   "source": [
    "# Ho: both machines have the same packing efficiency\n",
    "# Ha: packing efficiency of the machines are different"
   ]
  },
  {
   "cell_type": "code",
   "execution_count": 39,
   "id": "8f7e2800",
   "metadata": {},
   "outputs": [
    {
     "data": {
      "text/plain": [
       "3.5809955894645813"
      ]
     },
     "execution_count": 39,
     "metadata": {},
     "output_type": "execute_result"
    }
   ],
   "source": [
    "t = (old_machine_mean - new_machine_mean)/np.sqrt((old_machine_std**2)/len(old_machine) + (new_machine_std**2)/len(new_machine))\n",
    "t"
   ]
  },
  {
   "cell_type": "code",
   "execution_count": 40,
   "id": "b707ef1e",
   "metadata": {},
   "outputs": [
    {
     "data": {
      "text/plain": [
       "2.2281388519649385"
      ]
     },
     "execution_count": 40,
     "metadata": {},
     "output_type": "execute_result"
    }
   ],
   "source": [
    "tc = stats.t.ppf(1-(0.05/2), df=len(old_machine))\n",
    "tc"
   ]
  },
  {
   "cell_type": "code",
   "execution_count": 41,
   "id": "a3f804da",
   "metadata": {},
   "outputs": [],
   "source": [
    "# The null hypothesis is rejected since t (3.58) > tc (2.23)"
   ]
  },
  {
   "cell_type": "code",
   "execution_count": null,
   "id": "1471a642",
   "metadata": {},
   "outputs": [],
   "source": []
  },
  {
   "cell_type": "code",
   "execution_count": null,
   "id": "d0fbaece",
   "metadata": {},
   "outputs": [],
   "source": []
  },
  {
   "cell_type": "code",
   "execution_count": null,
   "id": "42e926eb",
   "metadata": {},
   "outputs": [],
   "source": []
  },
  {
   "cell_type": "code",
   "execution_count": null,
   "id": "ce438f69",
   "metadata": {},
   "outputs": [],
   "source": []
  }
 ],
 "metadata": {
  "kernelspec": {
   "display_name": "Python 3 (ipykernel)",
   "language": "python",
   "name": "python3"
  },
  "language_info": {
   "codemirror_mode": {
    "name": "ipython",
    "version": 3
   },
   "file_extension": ".py",
   "mimetype": "text/x-python",
   "name": "python",
   "nbconvert_exporter": "python",
   "pygments_lexer": "ipython3",
   "version": "3.9.7"
  }
 },
 "nbformat": 4,
 "nbformat_minor": 5
}
