{
 "cells": [
  {
   "cell_type": "markdown",
   "metadata": {
    "id": "N1YkD9XI6Fg3"
   },
   "source": [
    "# Using Pandas"
   ]
  },
  {
   "cell_type": "code",
   "execution_count": 28,
   "metadata": {
    "executionInfo": {
     "elapsed": 4,
     "status": "ok",
     "timestamp": 1623140082185,
     "user": {
      "displayName": "Ignacio Soteras",
      "photoUrl": "",
      "userId": "02050793736257155229"
     },
     "user_tz": -120
    },
    "id": "jL4kjGt66Fg5"
   },
   "outputs": [],
   "source": [
    "import pandas as pd\n",
    "import numpy as np\n",
    "pd.set_option('display.max_rows', 200)\n",
    "## to make it possible to display multiple output inside one cell \n",
    "from IPython.core.interactiveshell import InteractiveShell\n",
    "InteractiveShell.ast_node_interactivity = \"all\""
   ]
  },
  {
   "cell_type": "markdown",
   "metadata": {},
   "source": [
    "<b>load the data from the vehicles.csv file into pandas data frame"
   ]
  },
  {
   "cell_type": "code",
   "execution_count": 35,
   "metadata": {
    "executionInfo": {
     "elapsed": 1346,
     "status": "ok",
     "timestamp": 1623140174431,
     "user": {
      "displayName": "Ignacio Soteras",
      "photoUrl": "",
      "userId": "02050793736257155229"
     },
     "user_tz": -120
    },
    "id": "GVHPs2Qa6Fg5"
   },
   "outputs": [],
   "source": [
    "df = pd.read_csv('vehicles.csv')"
   ]
  },
  {
   "cell_type": "markdown",
   "metadata": {
    "id": "Yk72_YtZ6Fg5"
   },
   "source": [
    "First exploration of the dataset:\n",
    "\n",
    "- How many observations does it have?\n",
    "- Look at all the columns: do you understand what they mean?\n",
    "- Look at the raw data: do you see anything weird?\n",
    "- Look at the data types: are they the expected ones for the information the column contains?"
   ]
  },
  {
   "cell_type": "code",
   "execution_count": 34,
   "metadata": {
    "colab": {
     "base_uri": "https://localhost:8080/"
    },
    "executionInfo": {
     "elapsed": 226,
     "status": "ok",
     "timestamp": 1623140221705,
     "user": {
      "displayName": "Ignacio Soteras",
      "photoUrl": "",
      "userId": "02050793736257155229"
     },
     "user_tz": -120
    },
    "id": "-FT85oMVPxlW",
    "outputId": "c9f5d2c8-d3c2-4acc-edec-914a92c7f60b"
   },
   "outputs": [
    {
     "name": "stdout",
     "output_type": "stream",
     "text": [
      "<class 'pandas.core.frame.DataFrame'>\n",
      "RangeIndex: 35952 entries, 0 to 35951\n",
      "Data columns (total 15 columns):\n",
      " #   Column                   Non-Null Count  Dtype  \n",
      "---  ------                   --------------  -----  \n",
      " 0   Make                     35952 non-null  object \n",
      " 1   Model                    35952 non-null  object \n",
      " 2   Year                     35952 non-null  int64  \n",
      " 3   Engine Displacement      35952 non-null  float64\n",
      " 4   Cylinders                35952 non-null  float64\n",
      " 5   Transmission             35952 non-null  object \n",
      " 6   Drivetrain               35952 non-null  object \n",
      " 7   Vehicle Class            35952 non-null  object \n",
      " 8   Fuel Type                35952 non-null  object \n",
      " 9   Fuel Barrels/Year        35952 non-null  float64\n",
      " 10  City MPG                 35952 non-null  int64  \n",
      " 11  Highway MPG              35952 non-null  int64  \n",
      " 12  Combined MPG             35952 non-null  int64  \n",
      " 13  CO2 Emission Grams/Mile  35952 non-null  float64\n",
      " 14  Fuel Cost/Year           35952 non-null  int64  \n",
      "dtypes: float64(4), int64(5), object(6)\n",
      "memory usage: 4.1+ MB\n"
     ]
    }
   ],
   "source": [
    "df.info()"
   ]
  },
  {
   "cell_type": "markdown",
   "metadata": {
    "id": "tqcFYXUk6Fg6"
   },
   "source": [
    "### Cleaning and wrangling data\n",
    "\n",
    "- Some car brand names refer to the same brand. Replace all brand names that contain the word \"Dutton\" for simply \"Dutton\". If you find similar examples, clean their names too. Use `loc` with boolean indexing.\n",
    "\n",
    "- Convert CO2 Emissions from Grams/Mile to Grams/Km\n",
    "\n",
    "- Create a binary column that solely indicates if the transmission of a car is automatic or manual. Use `pandas.Series.str.startswith` and .\n",
    "\n",
    "- convert MPG columns to km_per_liter"
   ]
  },
  {
   "cell_type": "code",
   "execution_count": 4,
   "metadata": {
    "colab": {
     "base_uri": "https://localhost:8080/"
    },
    "executionInfo": {
     "elapsed": 239,
     "status": "ok",
     "timestamp": 1623140685861,
     "user": {
      "displayName": "Ignacio Soteras",
      "photoUrl": "",
      "userId": "02050793736257155229"
     },
     "user_tz": -120
    },
    "id": "jPtYqxszRc_h",
    "outputId": "b7a82779-98d2-4f55-e8d7-4a9202cc1274"
   },
   "outputs": [],
   "source": [
    "for i in range(0,len(df.Make)-1):\n",
    "    if \"Dutton\" in df.loc[i,\"Make\"]:\n",
    "        df.loc[i,\"Make\"] = \"Dutton\""
   ]
  },
  {
   "cell_type": "code",
   "execution_count": 13,
   "metadata": {},
   "outputs": [],
   "source": [
    "dutton_filter = df['Make'].str.contains(\"Dutton\")"
   ]
  },
  {
   "cell_type": "code",
   "execution_count": 16,
   "metadata": {},
   "outputs": [
    {
     "data": {
      "text/plain": [
       "Index(['Chevrolet', 'Ford', 'Dodge', 'GMC', 'Toyota', 'BMW', 'Mercedes-Benz',\n",
       "       'Nissan', 'Volkswagen', 'Mitsubishi',\n",
       "       ...\n",
       "       'Grumman Allied Industries', 'Goldacre', 'General Motors', 'Shelby',\n",
       "       'Fisker', 'Panos', 'Panoz Auto-Development', 'Excalibur Autos', 'Qvale',\n",
       "       'Lambda Control Systems'],\n",
       "      dtype='object', length=125)"
      ]
     },
     "execution_count": 16,
     "metadata": {},
     "output_type": "execute_result"
    }
   ],
   "source": [
    "df['Make'].value_counts().index"
   ]
  },
  {
   "cell_type": "code",
   "execution_count": 14,
   "metadata": {},
   "outputs": [
    {
     "name": "stderr",
     "output_type": "stream",
     "text": [
      "C:\\Users\\Bosco\\AppData\\Local\\Temp/ipykernel_4756/358390864.py:1: SettingWithCopyWarning: \n",
      "A value is trying to be set on a copy of a slice from a DataFrame\n",
      "\n",
      "See the caveats in the documentation: https://pandas.pydata.org/pandas-docs/stable/user_guide/indexing.html#returning-a-view-versus-a-copy\n",
      "  df['Make'][dutton_filter]=\"Dutton\"\n"
     ]
    }
   ],
   "source": [
    "df['Make'][dutton_filter]=\"Dutton\""
   ]
  },
  {
   "cell_type": "code",
   "execution_count": 296,
   "metadata": {},
   "outputs": [],
   "source": [
    "df.loc[:,\"CO2 Emission Grams/Mile\"] = (df.loc[:,\"CO2 Emission Grams/Mile\"])/(1.60934)\n",
    "df.rename(columns={'CO2 Emission Grams/Mile': 'CO2 Emission Grams/Km'}, inplace=True)"
   ]
  },
  {
   "cell_type": "code",
   "execution_count": 30,
   "metadata": {},
   "outputs": [],
   "source": [
    "def rename_transmission_type(x):\n",
    "    if(x.startswith('Auto')):\n",
    "        return \"Automatic\"\n",
    "    else:\n",
    "        return \"Manual\""
   ]
  },
  {
   "cell_type": "code",
   "execution_count": 31,
   "metadata": {},
   "outputs": [],
   "source": [
    "df['Transmission (Binary)'] = list(map(rename_transmission_type, df['Transmission']))"
   ]
  },
  {
   "cell_type": "code",
   "execution_count": 37,
   "metadata": {},
   "outputs": [],
   "source": [
    "df['Transmission (Binary)'] = list(map(lambda x: 'Auto' if(x.startswith('Auto')) else ('Manual'), df['Transmission']))"
   ]
  },
  {
   "cell_type": "code",
   "execution_count": 298,
   "metadata": {},
   "outputs": [],
   "source": [
    "df.loc[:,\"City MPG\"] = round((df.loc[:,\"City MPG\"])*(1.60934 / 3.78541),1)\n",
    "df.rename(columns={'City MPG': 'City Km Per Liter'}, inplace=True)\n",
    "\n",
    "df.loc[:,\"Highway MPG\"] = round((df.loc[:,\"Highway MPG\"])*(1.60934 / 3.78541),1)\n",
    "df.rename(columns={'Highway MPG': 'Highway Km Per Liter'}, inplace=True)\n",
    "\n",
    "df.loc[:,\"Combined MPG\"] = round((df.loc[:,\"Combined MPG\"])*(1.60934 / 3.78541),1)\n",
    "df.rename(columns={'Combined MPG': 'Combined Km Per Liter'}, inplace=True)"
   ]
  },
  {
   "cell_type": "markdown",
   "metadata": {
    "id": "e_r1ZfaxWfaq"
   },
   "source": [
    "Converting Grams/Mile to Grams/Km\n",
    "\n",
    "1 Mile = 1.60934 Km\n",
    "\n",
    "Grams/Mile * Mile/Km -> Grams/Mile * 1 Mile/1.60934Km\n",
    "\n",
    "$$ \\frac{Grams}{Mile} * \\frac{Mile}{Km} $$\n",
    "\n",
    "$$ \\frac{Grams}{Mile} * \\frac{1 Mile}{1.60934Km}  $$"
   ]
  },
  {
   "cell_type": "markdown",
   "metadata": {
    "id": "R-jWHEisa3nF"
   },
   "source": [
    "convert MPG columns to km_per_liter\n",
    "\n",
    "MPG = Miles/Gallon -> Km/Liter\n",
    "\n",
    "1 Mile = 1.60934 Km\n",
    "\n",
    "1 Gallon = 3.78541 Liters\n",
    "\n",
    "$$ \\frac{Miles}{Gallon} -> \\frac{Miles}{Gallon} * \\frac{Km}{Miles} * \\frac{Gallon}{Liters}$$\n",
    "\n",
    "$$ \\frac{Miles}{Gallon} -> \\frac{Miles}{Gallon} * \\frac{1.60934Km}{ 1Miles} * \\frac{1 Gallon}{3.78541 Liters}$$\n",
    "\n",
    "* ( 1.60934 / 3.78541 )\n"
   ]
  },
  {
   "cell_type": "markdown",
   "metadata": {
    "id": "SRZZJAPQ6Fg6"
   },
   "source": [
    "### Gathering insights:\n",
    "\n",
    "- How many car makers are there? How many models? Which car maker has the most cars in the dataset?\n",
    "\n",
    "- When were these cars made? How big is the engine of these cars?\n",
    "\n",
    "- What's the frequency of different transmissions, drivetrains and fuel types?\n",
    "\n",
    "- What's the car that consumes the least/most fuel?"
   ]
  },
  {
   "cell_type": "code",
   "execution_count": 307,
   "metadata": {
    "colab": {
     "base_uri": "https://localhost:8080/"
    },
    "executionInfo": {
     "elapsed": 346,
     "status": "ok",
     "timestamp": 1623143226628,
     "user": {
      "displayName": "Ignacio Soteras",
      "photoUrl": "",
      "userId": "02050793736257155229"
     },
     "user_tz": -120
    },
    "id": "LS-EOV3f6Fg7",
    "outputId": "7244f51d-279e-4a71-ba35-63d2969f5a74"
   },
   "outputs": [
    {
     "data": {
      "text/plain": [
       "125"
      ]
     },
     "execution_count": 307,
     "metadata": {},
     "output_type": "execute_result"
    },
    {
     "data": {
      "text/plain": [
       "3608"
      ]
     },
     "execution_count": 307,
     "metadata": {},
     "output_type": "execute_result"
    },
    {
     "data": {
      "text/plain": [
       "Chevrolet                           3643\n",
       "Ford                                2946\n",
       "Dodge                               2360\n",
       "GMC                                 2347\n",
       "Toyota                              1836\n",
       "BMW                                 1677\n",
       "Mercedes-Benz                       1284\n",
       "Nissan                              1253\n",
       "Volkswagen                          1047\n",
       "Mitsubishi                           950\n",
       "Mazda                                915\n",
       "Audi                                 890\n",
       "Porsche                              862\n",
       "Honda                                836\n",
       "Jeep                                 829\n",
       "Pontiac                              784\n",
       "Subaru                               781\n",
       "Volvo                                717\n",
       "Hyundai                              662\n",
       "Chrysler                             641\n",
       "Buick                                537\n",
       "Mercury                              532\n",
       "Suzuki                               512\n",
       "Cadillac                             508\n",
       "Kia                                  493\n",
       "Plymouth                             456\n",
       "Saab                                 410\n",
       "Isuzu                                409\n",
       "Lexus                                397\n",
       "Oldsmobile                           376\n",
       "Infiniti                             345\n",
       "Jaguar                               343\n",
       "MINI                                 320\n",
       "Acura                                302\n",
       "Saturn                               278\n",
       "Lincoln                              273\n",
       "Ferrari                              208\n",
       "Rolls-Royce                          160\n",
       "Eagle                                156\n",
       "Geo                                  144\n",
       "Land Rover                           142\n",
       "Aston Martin                         133\n",
       "Bentley                              116\n",
       "Maserati                             111\n",
       "Lamborghini                          104\n",
       "Scion                                 83\n",
       "Peugeot                               74\n",
       "Daewoo                                67\n",
       "Ram                                   57\n",
       "Lotus                                 53\n",
       "Roush Performance                     53\n",
       "Fiat                                  43\n",
       "Alfa Romeo                            41\n",
       "J.K. Motors                           36\n",
       "Renault                               33\n",
       "Wallace Environmental                 32\n",
       "Maybach                               31\n",
       "American Motors Corporation           22\n",
       "smart                                 20\n",
       "Hummer                                19\n",
       "Daihatsu                              17\n",
       "CX Automotive                         16\n",
       "Merkur                                14\n",
       "Federal Coach                         14\n",
       "Import Trade Services                 13\n",
       "McLaren Automotive                    13\n",
       "Spyker                                13\n",
       "Sterling                              12\n",
       "Bugatti                                8\n",
       "Yugo                                   8\n",
       "Genesis                                7\n",
       "Tecstar, LP                            6\n",
       "Mcevoy Motors                          6\n",
       "Bertone                                5\n",
       "VPG                                    5\n",
       "Saleen                                 5\n",
       "Panther Car Company Limited            4\n",
       "Saleen Performance                     4\n",
       "AM General                             4\n",
       "Grumman Olson                          4\n",
       "Texas Coach Company                    4\n",
       "Vector                                 4\n",
       "Autokraft Limited                      4\n",
       "TVR Engineering Ltd                    4\n",
       "Bitter Gmbh and Co. Kg                 3\n",
       "Evans Automobiles                      3\n",
       "BMW Alpina                             3\n",
       "Consulier Industries Inc               3\n",
       "Dabryan Coach Builders Inc             3\n",
       "Dacia                                  3\n",
       "Dutton                                 3\n",
       "Morgan                                 3\n",
       "Ruf Automobile Gmbh                    2\n",
       "Bill Dovell Motor Car Company          2\n",
       "Mobility Ventures LLC                  2\n",
       "Laforza Automobile Inc                 2\n",
       "CCC Engineering                        2\n",
       "PAS Inc - GMC                          2\n",
       "PAS, Inc                               2\n",
       "SRT                                    2\n",
       "Pagani                                 2\n",
       "Red Shift Ltd.                         2\n",
       "Pininfarina                            2\n",
       "Quantum Technologies                   2\n",
       "Isis Imports Ltd                       1\n",
       "Mahindra                               1\n",
       "ASC Incorporated                       1\n",
       "Aurora Cars Ltd                        1\n",
       "Volga Associated Automobile            1\n",
       "Vixen Motor Company                    1\n",
       "JBA Motorcars, Inc.                    1\n",
       "London Coach Co Inc                    1\n",
       "London Taxi                            1\n",
       "Import Foreign Auto Sales Inc          1\n",
       "Environmental Rsch and Devp Corp       1\n",
       "Grumman Allied Industries              1\n",
       "Goldacre                               1\n",
       "General Motors                         1\n",
       "Shelby                                 1\n",
       "Fisker                                 1\n",
       "Panos                                  1\n",
       "Panoz Auto-Development                 1\n",
       "Excalibur Autos                        1\n",
       "Qvale                                  1\n",
       "Lambda Control Systems                 1\n",
       "Name: Make, dtype: int64"
      ]
     },
     "execution_count": 307,
     "metadata": {},
     "output_type": "execute_result"
    }
   ],
   "source": [
    "df['Make'].nunique()\n",
    "df['Model'].nunique()\n",
    "df['Make'].value_counts()"
   ]
  },
  {
   "cell_type": "code",
   "execution_count": 326,
   "metadata": {},
   "outputs": [
    {
     "name": "stdout",
     "output_type": "stream",
     "text": [
      "These cars were made between 1984 and 2017 \n",
      "The engine displacement is between 0.6 and 8.4\n"
     ]
    }
   ],
   "source": [
    "print(\"These cars were made between\", min(df[\"Year\"]), \"and\", max(df[\"Year\"]),\"\\nThe engine displacement is between\", min(df[\"Engine Displacement\"]), \"and\", max(df[\"Engine Displacement\"]))"
   ]
  },
  {
   "cell_type": "code",
   "execution_count": 330,
   "metadata": {
    "colab": {
     "base_uri": "https://localhost:8080/",
     "height": 686
    },
    "executionInfo": {
     "elapsed": 270,
     "status": "ok",
     "timestamp": 1623145362738,
     "user": {
      "displayName": "Ignacio Soteras",
      "photoUrl": "",
      "userId": "02050793736257155229"
     },
     "user_tz": -120
    },
    "id": "SV2s8Lm66Fg8",
    "outputId": "ca1f005a-f090-4cec-952f-8e20d3193b46"
   },
   "outputs": [
    {
     "data": {
      "text/plain": [
       "True     24290\n",
       "False    11662\n",
       "Name: Automatic Transmission?, dtype: int64"
      ]
     },
     "execution_count": 330,
     "metadata": {},
     "output_type": "execute_result"
    },
    {
     "data": {
      "text/plain": [
       "Front-Wheel Drive             13044\n",
       "Rear-Wheel Drive              12726\n",
       "4-Wheel or All-Wheel Drive     6503\n",
       "All-Wheel Drive                2039\n",
       "4-Wheel Drive                  1058\n",
       "2-Wheel Drive                   423\n",
       "Part-time 4-Wheel Drive         158\n",
       "2-Wheel Drive, Front              1\n",
       "Name: Drivetrain, dtype: int64"
      ]
     },
     "execution_count": 330,
     "metadata": {},
     "output_type": "execute_result"
    },
    {
     "data": {
      "text/plain": [
       "Regular                        23587\n",
       "Premium                         9921\n",
       "Gasoline or E85                 1195\n",
       "Diesel                           911\n",
       "Premium or E85                   121\n",
       "Midgrade                          74\n",
       "CNG                               60\n",
       "Premium and Electricity           20\n",
       "Gasoline or natural gas           20\n",
       "Premium Gas or Electricity        17\n",
       "Regular Gas and Electricity       16\n",
       "Gasoline or propane                8\n",
       "Regular Gas or Electricity         2\n",
       "Name: Fuel Type, dtype: int64"
      ]
     },
     "execution_count": 330,
     "metadata": {},
     "output_type": "execute_result"
    }
   ],
   "source": [
    "df['Automatic Transmission?'].value_counts()\n",
    "df['Drivetrain'].value_counts()\n",
    "df['Fuel Type'].value_counts()"
   ]
  },
  {
   "cell_type": "markdown",
   "metadata": {
    "id": "rcSnpI3I6Fg8"
   },
   "source": [
    "What brand has the worse CO2 Emissions on average?\n",
    "\n",
    "Hint: use the function `sort_values()`"
   ]
  },
  {
   "cell_type": "code",
   "execution_count": null,
   "metadata": {},
   "outputs": [],
   "source": []
  },
  {
   "cell_type": "markdown",
   "metadata": {
    "id": "2avLmljX6Fg9"
   },
   "source": [
    "Do cars with automatic transmission consume more fuel than cars with manual transmission on average?"
   ]
  },
  {
   "cell_type": "code",
   "execution_count": 20,
   "metadata": {},
   "outputs": [],
   "source": [
    "## Your Code is here \n"
   ]
  }
 ],
 "metadata": {
  "colab": {
   "name": "Pandas_Grouping_Joining_Cars_Structure.ipynb",
   "provenance": []
  },
  "kernelspec": {
   "display_name": "Python 3 (ipykernel)",
   "language": "python",
   "name": "python3"
  },
  "language_info": {
   "codemirror_mode": {
    "name": "ipython",
    "version": 3
   },
   "file_extension": ".py",
   "mimetype": "text/x-python",
   "name": "python",
   "nbconvert_exporter": "python",
   "pygments_lexer": "ipython3",
   "version": "3.9.7"
  },
  "toc": {
   "base_numbering": 1,
   "nav_menu": {},
   "number_sections": true,
   "sideBar": true,
   "skip_h1_title": false,
   "title_cell": "Table of Contents",
   "title_sidebar": "Contents",
   "toc_cell": false,
   "toc_position": {},
   "toc_section_display": true,
   "toc_window_display": false
  },
  "varInspector": {
   "cols": {
    "lenName": 16,
    "lenType": 16,
    "lenVar": 40
   },
   "kernels_config": {
    "python": {
     "delete_cmd_postfix": "",
     "delete_cmd_prefix": "del ",
     "library": "var_list.py",
     "varRefreshCmd": "print(var_dic_list())"
    },
    "r": {
     "delete_cmd_postfix": ") ",
     "delete_cmd_prefix": "rm(",
     "library": "var_list.r",
     "varRefreshCmd": "cat(var_dic_list()) "
    }
   },
   "types_to_exclude": [
    "module",
    "function",
    "builtin_function_or_method",
    "instance",
    "_Feature"
   ],
   "window_display": false
  }
 },
 "nbformat": 4,
 "nbformat_minor": 1
}
