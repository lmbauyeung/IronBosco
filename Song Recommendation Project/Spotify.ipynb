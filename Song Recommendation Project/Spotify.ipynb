{
 "cells": [
  {
   "cell_type": "code",
   "execution_count": 1,
   "id": "9ad8b56d",
   "metadata": {},
   "outputs": [],
   "source": [
    "import spotipy\n",
    "from spotipy.oauth2 import SpotifyClientCredentials"
   ]
  },
  {
   "cell_type": "code",
   "execution_count": 2,
   "id": "f596d08b",
   "metadata": {},
   "outputs": [],
   "source": [
    "c_id = \"48288ce6ec40441ab533827580f710b0\""
   ]
  },
  {
   "cell_type": "code",
   "execution_count": 3,
   "id": "2134cd59",
   "metadata": {},
   "outputs": [],
   "source": [
    "c_se = \"3a8b9d68e4a24d948b25871a0df9d41a\""
   ]
  },
  {
   "cell_type": "code",
   "execution_count": 4,
   "id": "588317da",
   "metadata": {},
   "outputs": [],
   "source": [
    "sp = spotipy.Spotify(auth_manager=SpotifyClientCredentials(client_id=c_id, client_secret=c_se))"
   ]
  },
  {
   "cell_type": "code",
   "execution_count": null,
   "id": "8865ec4d",
   "metadata": {},
   "outputs": [],
   "source": []
  }
 ],
 "metadata": {
  "kernelspec": {
   "display_name": "Python 3 (ipykernel)",
   "language": "python",
   "name": "python3"
  },
  "language_info": {
   "codemirror_mode": {
    "name": "ipython",
    "version": 3
   },
   "file_extension": ".py",
   "mimetype": "text/x-python",
   "name": "python",
   "nbconvert_exporter": "python",
   "pygments_lexer": "ipython3",
   "version": "3.9.7"
  }
 },
 "nbformat": 4,
 "nbformat_minor": 5
}
