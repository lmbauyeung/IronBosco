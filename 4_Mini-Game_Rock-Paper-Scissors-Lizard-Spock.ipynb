{
 "cells": [
  {
   "cell_type": "markdown",
   "id": "72efc1b8",
   "metadata": {},
   "source": [
    "### Objective"
   ]
  },
  {
   "cell_type": "markdown",
   "id": "ad6089c5",
   "metadata": {},
   "source": [
    "The objective is to implement an improved version of rock, paper, scissors. Two additional gestures are added, namely lizard and spock. To know more about the rules, check this [link](http://www.samkass.com/theories/RPSSL.html)."
   ]
  },
  {
   "cell_type": "markdown",
   "id": "fe15b72f",
   "metadata": {},
   "source": [
    "### Mechanism"
   ]
  },
  {
   "cell_type": "markdown",
   "id": "1cdf64ee",
   "metadata": {},
   "source": [
    "1. User inputs the maximum odd number of rounds to play (i.e. n_rounds).\n",
    "1. Rounds to win early (i.e. rounds_to_win) equals to the number of rounds (i.e. n_rounds) plus 1 divided by 2.\n",
    "1. User inputs one of the five choices - rock/paper/scissors/lizard/spock.\n",
    "1. Computer automatically generates one of the five choices.\n",
    "1. The game will finish when one of the following conditions is satisfied.\n",
    "        1. once the number of rounds played reaches maximum (i.e. n_rounds)\n",
    "        2. the player/computer acquires wins equivalent to the rounds to win early (i.e. rounds_to_win)"
   ]
  },
  {
   "cell_type": "markdown",
   "id": "0fb2703c",
   "metadata": {},
   "source": [
    "### Function for Game"
   ]
  },
  {
   "cell_type": "code",
   "execution_count": 3,
   "id": "11297433",
   "metadata": {
    "code_folding": [
     0
    ]
   },
   "outputs": [],
   "source": [
    "# syntax for game mechanism\n",
    "import random\n",
    "\n",
    "from IPython.display import Markdown, display\n",
    "def printmd(string):\n",
    "    display(Markdown(string))\n",
    "\n",
    "def gametime():\n",
    "    gestures = [\"rock\", \"paper\", \"scissors\", \"lizard\", \"spock\"]\n",
    "    cpu_score = 0\n",
    "    player_score = 0\n",
    "    nth_round = 0\n",
    "    while True:\n",
    "        try:\n",
    "            n_rounds = int(input('Please input an odd number of rounds to play: '))\n",
    "        except:\n",
    "            printmd('Your input was not an **ODD NUMBER**, please try again: ')\n",
    "            continue\n",
    "        else:\n",
    "            if n_rounds%2 !=0:\n",
    "                break\n",
    "            else:\n",
    "                printmd('Your input was not an **ODD NUMBER**, please try again: ')\n",
    "    rounds_to_win = (n_rounds+1)/2\n",
    "    printmd(\"**<span style='color:orange'>Rounds to play is \"+str(n_rounds)+\"</span>**\"+'.')\n",
    "    print('\\n')\n",
    "    while max(cpu_score, player_score) < rounds_to_win and nth_round < n_rounds: \n",
    "        computer_gesture = random.choice(gestures)\n",
    "        player_gesture = input(\"Please enter your gesture: rock/paper/scissors/lizard/spock: \")\n",
    "        while player_gesture not in gestures:\n",
    "            player_gesture = input(\"Please enter a valid gesture: \")\n",
    "        printmd('You chose '+\"<span style='color:blue'>\"+player_gesture+\"</span>\"+' and computer chose '+\"<span style='color:red'>\"+computer_gesture+\"</span>\"+'.')\n",
    "        if computer_gesture == player_gesture:\n",
    "                printmd('Round '+str(nth_round+1)+': It is a '+\"<span style='color:green'>**tie**.</span>\")\n",
    "        elif (player_gesture == 'rock' and computer_gesture == 'scissors') or (player_gesture =='scissors' and computer_gesture == 'paper') or (player_gesture == 'paper' and computer_gesture == 'rock') or (player_gesture == 'rock' and computer_gesture == 'lizard') or (player_gesture == 'scissors' and computer_gesture == 'lizard') or (player_gesture == 'paper' and computer_gesture == 'spock') or (player_gesture == 'spock' and computer_gesture == 'scissors') or (player_gesture == 'spock' and computer_gesture == 'rock') or (player_gesture == 'lizard' and computer_gesture == 'paper') or (player_gesture == 'lizard' and computer_gesture == 'spock'):\n",
    "            printmd('Round '+str(nth_round+1)+': '+\"**<span style='color:blue'>Player</span>**\"+' wins this round.')\n",
    "            player_score += 1\n",
    "        else:\n",
    "            printmd('Round '+str(nth_round+1)+': '+\"**<span style='color:red'>Computer</span>**\"+' wins this round.')\n",
    "            cpu_score += 1\n",
    "        nth_round += 1\n",
    "    print('\\n')\n",
    "    if player_score > cpu_score:\n",
    "        printmd('FINAL: '+\"**<span style='color:blue'>PLAYER</span>**\"+' WINS BY '+\"**<span style='color:blue'>\"+str(player_score)+\"</span>**\"+' TO '+\"**<span style='color:red'>\"+str(cpu_score)+\"</span>**\"+'.')\n",
    "    elif cpu_score > player_score:\n",
    "        printmd('FINAL: '+\"**<span style='color:red'>COMPUTER</span>**\"+' WINS BY '+\"**<span style='color:red'>\"+str(cpu_score)+\"</span>**\"+' TO '+\"**<span style='color:blue'>\"+str(player_score)+\"</span>**\"+'.')\n",
    "    else:\n",
    "        printmd('FINAL: IT IS A **TIE** BY '+\"**<span style='color:blue'>\"+str(player_score)+\"</span>**\"+' TO '+\"**<span style='color:red'>\"+str(cpu_score)+\"</span>**\"+'.')\n",
    "    printmd('Thanks for playing!')"
   ]
  },
  {
   "cell_type": "markdown",
   "id": "9ab3eb78",
   "metadata": {},
   "source": [
    "### Gametime!"
   ]
  },
  {
   "cell_type": "code",
   "execution_count": 4,
   "id": "fad1ddea",
   "metadata": {},
   "outputs": [
    {
     "name": "stdout",
     "output_type": "stream",
     "text": [
      "Please input an odd number of rounds to play: 5\n"
     ]
    },
    {
     "data": {
      "text/markdown": [
       "**<span style='color:orange'>Rounds to play is 5</span>**."
      ],
      "text/plain": [
       "<IPython.core.display.Markdown object>"
      ]
     },
     "metadata": {},
     "output_type": "display_data"
    },
    {
     "name": "stdout",
     "output_type": "stream",
     "text": [
      "\n",
      "\n",
      "Please enter your gesture: rock/paper/scissors/lizard/spock: rock\n"
     ]
    },
    {
     "data": {
      "text/markdown": [
       "You chose <span style='color:blue'>rock</span> and computer chose <span style='color:red'>rock</span>."
      ],
      "text/plain": [
       "<IPython.core.display.Markdown object>"
      ]
     },
     "metadata": {},
     "output_type": "display_data"
    },
    {
     "data": {
      "text/markdown": [
       "Round 1: It is a <span style='color:green'>**tie**.</span>"
      ],
      "text/plain": [
       "<IPython.core.display.Markdown object>"
      ]
     },
     "metadata": {},
     "output_type": "display_data"
    },
    {
     "name": "stdout",
     "output_type": "stream",
     "text": [
      "Please enter your gesture: rock/paper/scissors/lizard/spock: rock\n"
     ]
    },
    {
     "data": {
      "text/markdown": [
       "You chose <span style='color:blue'>rock</span> and computer chose <span style='color:red'>scissors</span>."
      ],
      "text/plain": [
       "<IPython.core.display.Markdown object>"
      ]
     },
     "metadata": {},
     "output_type": "display_data"
    },
    {
     "data": {
      "text/markdown": [
       "Round 2: **<span style='color:blue'>Player</span>** wins this round."
      ],
      "text/plain": [
       "<IPython.core.display.Markdown object>"
      ]
     },
     "metadata": {},
     "output_type": "display_data"
    },
    {
     "name": "stdout",
     "output_type": "stream",
     "text": [
      "Please enter your gesture: rock/paper/scissors/lizard/spock: rock\n"
     ]
    },
    {
     "data": {
      "text/markdown": [
       "You chose <span style='color:blue'>rock</span> and computer chose <span style='color:red'>scissors</span>."
      ],
      "text/plain": [
       "<IPython.core.display.Markdown object>"
      ]
     },
     "metadata": {},
     "output_type": "display_data"
    },
    {
     "data": {
      "text/markdown": [
       "Round 3: **<span style='color:blue'>Player</span>** wins this round."
      ],
      "text/plain": [
       "<IPython.core.display.Markdown object>"
      ]
     },
     "metadata": {},
     "output_type": "display_data"
    },
    {
     "name": "stdout",
     "output_type": "stream",
     "text": [
      "Please enter your gesture: rock/paper/scissors/lizard/spock: rock\n"
     ]
    },
    {
     "data": {
      "text/markdown": [
       "You chose <span style='color:blue'>rock</span> and computer chose <span style='color:red'>lizard</span>."
      ],
      "text/plain": [
       "<IPython.core.display.Markdown object>"
      ]
     },
     "metadata": {},
     "output_type": "display_data"
    },
    {
     "data": {
      "text/markdown": [
       "Round 4: **<span style='color:blue'>Player</span>** wins this round."
      ],
      "text/plain": [
       "<IPython.core.display.Markdown object>"
      ]
     },
     "metadata": {},
     "output_type": "display_data"
    },
    {
     "name": "stdout",
     "output_type": "stream",
     "text": [
      "\n",
      "\n"
     ]
    },
    {
     "data": {
      "text/markdown": [
       "FINAL: **<span style='color:blue'>PLAYER</span>** WINS BY **<span style='color:blue'>3</span>** TO **<span style='color:red'>0</span>**."
      ],
      "text/plain": [
       "<IPython.core.display.Markdown object>"
      ]
     },
     "metadata": {},
     "output_type": "display_data"
    },
    {
     "data": {
      "text/markdown": [
       "Thanks for playing!"
      ],
      "text/plain": [
       "<IPython.core.display.Markdown object>"
      ]
     },
     "metadata": {},
     "output_type": "display_data"
    }
   ],
   "source": [
    "gametime()"
   ]
  },
  {
   "cell_type": "code",
   "execution_count": null,
   "id": "e4dc1e7c",
   "metadata": {},
   "outputs": [],
   "source": []
  }
 ],
 "metadata": {
  "kernelspec": {
   "display_name": "Python 3 (ipykernel)",
   "language": "python",
   "name": "python3"
  },
  "language_info": {
   "codemirror_mode": {
    "name": "ipython",
    "version": 3
   },
   "file_extension": ".py",
   "mimetype": "text/x-python",
   "name": "python",
   "nbconvert_exporter": "python",
   "pygments_lexer": "ipython3",
   "version": "3.9.7"
  },
  "toc": {
   "base_numbering": 1,
   "nav_menu": {},
   "number_sections": true,
   "sideBar": true,
   "skip_h1_title": false,
   "title_cell": "Table of Contents",
   "title_sidebar": "Contents",
   "toc_cell": false,
   "toc_position": {},
   "toc_section_display": true,
   "toc_window_display": true
  }
 },
 "nbformat": 4,
 "nbformat_minor": 5
}
